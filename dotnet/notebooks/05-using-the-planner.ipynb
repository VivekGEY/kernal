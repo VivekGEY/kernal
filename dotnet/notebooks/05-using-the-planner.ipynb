{
 "cells": [
  {
   "attachments": {},
   "cell_type": "markdown",
   "metadata": {},
   "source": [
    "# Introduction to the Planner\n",
    "\n",
    "The Planner is one of the fundamental concepts of the Semantic Kernel. It makes use of the collection of skills that have been registered to the kernel and using AI, will formulate a plan to execute a given ask.\n",
    "\n",
    "Read more about it [here](https://aka.ms/sk/concepts/planner)."
   ]
  },
  {
   "cell_type": "code",
   "execution_count": 1,
   "metadata": {
    "dotnet_interactive": {
     "language": "csharp"
    },
    "polyglot_notebook": {
     "kernelName": "csharp"
    }
   },
   "outputs": [
    {
     "data": {
      "text/html": [
       "<div><div></div><div></div><div><strong>Installed Packages</strong><ul><li><span>Microsoft.SemanticKernel, 0.18.230725.3-preview</span></li></ul></div></div>"
      ]
     },
     "metadata": {},
     "output_type": "display_data"
    }
   ],
   "source": [
    "#r \"nuget: Microsoft.SemanticKernel, 0.18.230725.3-preview\"\n",
    "\n",
    "#!import config/Settings.cs\n",
    "#!import config/Utils.cs\n",
    "\n",
    "using Microsoft.SemanticKernel;\n",
    "using Microsoft.SemanticKernel.Skills.Core;\n",
    "using Microsoft.SemanticKernel.Orchestration;\n",
    "using Microsoft.SemanticKernel.Planning;\n",
    "using Microsoft.SemanticKernel.Planning.Sequential;\n",
    "\n",
    "var builder = new KernelBuilder();\n",
    "\n",
    "// Configure AI backend used by the kernel\n",
    "var (useAzureOpenAI, model, azureEndpoint, apiKey, orgId) = Settings.LoadFromFile();\n",
    "\n",
    "if (useAzureOpenAI)\n",
    "    builder.WithAzureChatCompletionService(model, azureEndpoint, apiKey);\n",
    "else\n",
    "    builder.WithOpenAIChatCompletionService(model, apiKey, orgId);\n",
    "\n",
    "var kernel = builder.Build();"
   ]
  },
  {
   "attachments": {},
   "cell_type": "markdown",
   "metadata": {},
   "source": [
    "### Setting Up the Planner\n",
    "The planner is located in the Semantic Kernel's CoreSkills and requires Orchestration"
   ]
  },
  {
   "cell_type": "code",
   "execution_count": 2,
   "metadata": {
    "dotnet_interactive": {
     "language": "csharp"
    },
    "polyglot_notebook": {
     "kernelName": "csharp"
    }
   },
   "outputs": [],
   "source": [
    "// Load native skill into the kernel registry, sharing its functions with prompt templates\n",
    "var planner = new SequentialPlanner(kernel);"
   ]
  },
  {
   "attachments": {},
   "cell_type": "markdown",
   "metadata": {},
   "source": [
    "### Providing skills to the planner\n",
    "The planner needs to know what skills are available to it. Here we'll give it access to the `SummarizeSkill` and `WriterSkill` we have defined on disk."
   ]
  },
  {
   "cell_type": "code",
   "execution_count": 3,
   "metadata": {
    "dotnet_interactive": {
     "language": "csharp"
    },
    "polyglot_notebook": {
     "kernelName": "csharp"
    }
   },
   "outputs": [],
   "source": [
    "var skillsDirectory = Path.Combine(System.IO.Directory.GetCurrentDirectory(), \"..\", \"..\", \"samples\", \"skills\");\n",
    "kernel.ImportSemanticSkillFromDirectory(skillsDirectory, \"SummarizeSkill\");\n",
    "kernel.ImportSemanticSkillFromDirectory(skillsDirectory, \"WriterSkill\");"
   ]
  },
  {
   "attachments": {},
   "cell_type": "markdown",
   "metadata": {},
   "source": [
    "Define your ASK. What do you want the Kernel to do?"
   ]
  },
  {
   "cell_type": "code",
   "execution_count": 4,
   "metadata": {
    "dotnet_interactive": {
     "language": "csharp"
    },
    "polyglot_notebook": {
     "kernelName": "csharp"
    }
   },
   "outputs": [
    {
     "name": "stdout",
     "output_type": "stream",
     "text": [
      "Original plan:\n",
      "\n",
      "{\n",
      "  \"state\": [\n",
      "    {\n",
      "      \"Key\": \"INPUT\",\n",
      "      \"Value\": \"\"\n",
      "    }\n",
      "  ],\n",
      "  \"steps\": [\n",
      "    {\n",
      "      \"state\": [\n",
      "        {\n",
      "          \"Key\": \"INPUT\",\n",
      "          \"Value\": \"\"\n",
      "        }\n",
      "      ],\n",
      "      \"steps\": [],\n",
      "      \"parameters\": [\n",
      "        {\n",
      "          \"Key\": \"INPUT\",\n",
      "          \"Value\": \"Valentine\\u0027s day date ideas\"\n",
      "        }\n",
      "      ],\n",
      "      \"outputs\": [],\n",
      "      \"next_step_index\": 0,\n",
      "      \"name\": \"Brainstorm\",\n",
      "      \"skill_name\": \"WriterSkill\",\n",
      "      \"description\": \"Given a goal or topic description generate a list of ideas\"\n",
      "    },\n",
      "    {\n",
      "      \"state\": [\n",
      "        {\n",
      "          \"Key\": \"INPUT\",\n",
      "          \"Value\": \"\"\n",
      "        }\n",
      "      ],\n",
      "      \"steps\": [],\n",
      "      \"parameters\": [\n",
      "        {\n",
      "          \"Key\": \"INPUT\",\n",
      "          \"Value\": \"$RESULT__IDEAS_LIST\"\n",
      "        }\n",
      "      ],\n",
      "      \"outputs\": [],\n",
      "      \"next_step_index\": 0,\n",
      "      \"name\": \"ShortPoem\",\n",
      "      \"skill_name\": \"WriterSkill\",\n",
      "      \"description\": \"Turn a scenario into a short and entertaining poem.\"\n",
      "    },\n",
      "    {\n",
      "      \"state\": [\n",
      "        {\n",
      "          \"Key\": \"INPUT\",\n",
      "          \"Value\": \"\"\n",
      "        }\n",
      "      ],\n",
      "      \"steps\": [],\n",
      "      \"parameters\": [\n",
      "        {\n",
      "          \"Key\": \"input\",\n",
      "          \"Value\": \"$RESULT__POEM\"\n",
      "        }\n",
      "      ],\n",
      "      \"outputs\": [],\n",
      "      \"next_step_index\": 0,\n",
      "      \"name\": \"TwoSentenceSummary\",\n",
      "      \"skill_name\": \"WriterSkill\",\n",
      "      \"description\": \"Summarize given text in two sentences or less\"\n",
      "    }\n",
      "  ],\n",
      "  \"parameters\": [\n",
      "    {\n",
      "      \"Key\": \"INPUT\",\n",
      "      \"Value\": \"\"\n",
      "    }\n",
      "  ],\n",
      "  \"outputs\": [],\n",
      "  \"next_step_index\": 0,\n",
      "  \"name\": \"\",\n",
      "  \"skill_name\": \"Microsoft.SemanticKernel.Planning.Plan\",\n",
      "  \"description\": \"Tomorrow is Valentine\\u0027s day. I need to come up with a few date ideas. My significant other likes poems so write them in the form of a poem.\"\n",
      "}\n"
     ]
    }
   ],
   "source": [
    "var ask = \"Tomorrow is Valentine's day. I need to come up with a few date ideas. My significant other likes poems so write them in the form of a poem.\";\n",
    "var originalPlan = await planner.CreatePlanAsync(ask);\n",
    "\n",
    "Console.WriteLine(\"Original plan:\\n\");\n",
    "Console.WriteLine(JsonSerializer.Serialize(originalPlan, new JsonSerializerOptions { WriteIndented = true }));"
   ]
  },
  {
   "attachments": {},
   "cell_type": "markdown",
   "metadata": {},
   "source": [
    "As you can see in the above plan, the Planner has taken the user's ask and converted it into a Plan object detailing how the AI would go about solving this task.\n",
    "\n",
    "It makes use of the skills that the Kernel has available to it and determines which functions to call in order to fulfill the user's ask.\n",
    "\n",
    "The output of each step of the plan gets set as `setContextVariable` which makes it available as `input` to the next skill."
   ]
  },
  {
   "attachments": {},
   "cell_type": "markdown",
   "metadata": {},
   "source": [
    "Let's also define an inline skill and have it be available to the Planner.\n",
    "Be sure to give it a function name and skill name."
   ]
  },
  {
   "cell_type": "code",
   "execution_count": 5,
   "metadata": {
    "dotnet_interactive": {
     "language": "csharp"
    },
    "polyglot_notebook": {
     "kernelName": "csharp"
    }
   },
   "outputs": [],
   "source": [
    "string skPrompt = \"\"\"\n",
    "{{$input}}\n",
    "\n",
    "Rewrite the above in the style of Shakespeare.\n",
    "\"\"\";\n",
    "var shakespeareFunction = kernel.CreateSemanticFunction(skPrompt, \"Shakespeare\", \"ShakespeareSkill\", maxTokens: 2000, temperature: 0.2, topP: 0.5);"
   ]
  },
  {
   "attachments": {},
   "cell_type": "markdown",
   "metadata": {},
   "source": [
    "Let's update our ask using this new skill."
   ]
  },
  {
   "cell_type": "code",
   "execution_count": 6,
   "metadata": {
    "dotnet_interactive": {
     "language": "csharp"
    },
    "polyglot_notebook": {
     "kernelName": "csharp"
    }
   },
   "outputs": [
    {
     "name": "stdout",
     "output_type": "stream",
     "text": [
      "Updated plan:\n",
      "\n",
      "{\n",
      "  \"state\": [\n",
      "    {\n",
      "      \"Key\": \"INPUT\",\n",
      "      \"Value\": \"\"\n",
      "    }\n",
      "  ],\n",
      "  \"steps\": [\n",
      "    {\n",
      "      \"state\": [\n",
      "        {\n",
      "          \"Key\": \"INPUT\",\n",
      "          \"Value\": \"\"\n",
      "        }\n",
      "      ],\n",
      "      \"steps\": [],\n",
      "      \"parameters\": [\n",
      "        {\n",
      "          \"Key\": \"INPUT\",\n",
      "          \"Value\": \"Valentine\\u0027s Day date ideas\"\n",
      "        }\n",
      "      ],\n",
      "      \"outputs\": [],\n",
      "      \"next_step_index\": 0,\n",
      "      \"name\": \"Brainstorm\",\n",
      "      \"skill_name\": \"WriterSkill\",\n",
      "      \"description\": \"Given a goal or topic description generate a list of ideas\"\n",
      "    },\n",
      "    {\n",
      "      \"state\": [\n",
      "        {\n",
      "          \"Key\": \"INPUT\",\n",
      "          \"Value\": \"\"\n",
      "        }\n",
      "      ],\n",
      "      \"steps\": [],\n",
      "      \"parameters\": [\n",
      "        {\n",
      "          \"Key\": \"input\",\n",
      "          \"Value\": \"Roses are red, violets are blue, $INPUT\"\n",
      "        }\n",
      "      ],\n",
      "      \"outputs\": [],\n",
      "      \"next_step_index\": 0,\n",
      "      \"name\": \"Shakespeare\",\n",
      "      \"skill_name\": \"ShakespeareSkill\",\n",
      "      \"description\": \"Generic function, unknown purpose\"\n",
      "    },\n",
      "    {\n",
      "      \"state\": [\n",
      "        {\n",
      "          \"Key\": \"INPUT\",\n",
      "          \"Value\": \"\"\n",
      "        }\n",
      "      ],\n",
      "      \"steps\": [],\n",
      "      \"parameters\": [\n",
      "        {\n",
      "          \"Key\": \"input\",\n",
      "          \"Value\": \"$INPUT\"\n",
      "        }\n",
      "      ],\n",
      "      \"outputs\": [],\n",
      "      \"next_step_index\": 0,\n",
      "      \"name\": \"TwoSentenceSummary\",\n",
      "      \"skill_name\": \"WriterSkill\",\n",
      "      \"description\": \"Summarize given text in two sentences or less\"\n",
      "    },\n",
      "    {\n",
      "      \"state\": [\n",
      "        {\n",
      "          \"Key\": \"INPUT\",\n",
      "          \"Value\": \"\"\n",
      "        }\n",
      "      ],\n",
      "      \"steps\": [],\n",
      "      \"parameters\": [],\n",
      "      \"outputs\": [\n",
      "        \"RESULT__DATE_IDEAS\"\n",
      "      ],\n",
      "      \"next_step_index\": 0,\n",
      "      \"name\": \"TwoSentenceSummary\",\n",
      "      \"skill_name\": \"WriterSkill\",\n",
      "      \"description\": \"Summarize given text in two sentences or less\"\n",
      "    }\n",
      "  ],\n",
      "  \"parameters\": [\n",
      "    {\n",
      "      \"Key\": \"INPUT\",\n",
      "      \"Value\": \"\"\n",
      "    }\n",
      "  ],\n",
      "  \"outputs\": [\n",
      "    \"RESULT__DATE_IDEAS\"\n",
      "  ],\n",
      "  \"next_step_index\": 0,\n",
      "  \"name\": \"\",\n",
      "  \"skill_name\": \"Microsoft.SemanticKernel.Planning.Plan\",\n",
      "  \"description\": \"Tomorrow is Valentine\\u0027s day. I need to come up with a few date ideas.\\nShe likes Shakespeare so write using his style. Write them in the form of a poem.\"\n",
      "}\n"
     ]
    }
   ],
   "source": [
    "var ask = @\"Tomorrow is Valentine's day. I need to come up with a few date ideas.\n",
    "She likes Shakespeare so write using his style. Write them in the form of a poem.\";\n",
    "\n",
    "var newPlan = await planner.CreatePlanAsync(ask);\n",
    "\n",
    "Console.WriteLine(\"Updated plan:\\n\");\n",
    "Console.WriteLine(JsonSerializer.Serialize(newPlan, new JsonSerializerOptions { WriteIndented = true }));"
   ]
  },
  {
   "attachments": {},
   "cell_type": "markdown",
   "metadata": {},
   "source": [
    "### Executing the plans\n",
    "\n",
    "Now that we have different plans, let's try to execute them! The Kernel can execute the plan using RunAsync."
   ]
  },
  {
   "cell_type": "code",
   "execution_count": 7,
   "metadata": {
    "dotnet_interactive": {
     "language": "csharp"
    },
    "polyglot_notebook": {
     "kernelName": "csharp"
    }
   },
   "outputs": [
    {
     "name": "stdout",
     "output_type": "stream",
     "text": [
      "Original Plan results:\n",
      "\n",
      "The text is incomplete and only contains a variable named \"$RESULT__POEM\". There is no information\n",
      "to summarize.\n",
      "\n"
     ]
    }
   ],
   "source": [
    "var originalPlanResult = await originalPlan.InvokeAsync();\n",
    "\n",
    "Console.WriteLine(\"Original Plan results:\\n\");\n",
    "Console.WriteLine(Utils.WordWrap(originalPlanResult.Result, 100));"
   ]
  },
  {
   "attachments": {},
   "cell_type": "markdown",
   "metadata": {},
   "source": [
    "Now lets execute and print the new plan:"
   ]
  },
  {
   "cell_type": "code",
   "execution_count": 8,
   "metadata": {
    "dotnet_interactive": {
     "language": "csharp"
    },
    "polyglot_notebook": {
     "kernelName": "csharp"
    }
   },
   "outputs": [
    {
     "name": "stdout",
     "output_type": "stream",
     "text": [
      "New Plan results:\n",
      "\n",
      "\n",
      "The text suggests romantic ideas for couples to celebrate their love, such as dining out, going on a trip, having a picnic, or taking a cooking class, and encourages them to choose an activity that resonates with them and cherish each moment.\n"
     ]
    }
   ],
   "source": [
    "var newPlanResult = await kernel.RunAsync(newPlan);\n",
    "Console.WriteLine(\"New Plan results:\\n\");\n",
    "Console.WriteLine(newPlanResult.Result);"
   ]
  }
 ],
 "metadata": {
  "kernelspec": {
   "display_name": ".NET (C#)",
   "language": "C#",
   "name": ".net-csharp"
  },
  "language_info": {
   "name": "polyglot-notebook"
  },
  "polyglot_notebook": {
   "kernelInfo": {
    "defaultKernelName": "csharp",
    "items": [
     {
      "aliases": [],
      "name": "csharp"
     }
    ]
   }
  }
 },
 "nbformat": 4,
 "nbformat_minor": 2
}
