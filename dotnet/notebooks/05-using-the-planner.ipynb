{
 "cells": [
  {
   "attachments": {},
   "cell_type": "markdown",
   "metadata": {},
   "source": [
    "# Introduction to the Planner\n",
    "\n",
    "The Planner is one of the fundamental concepts of the Semantic Kernel. It makes use of the collection of plugins that have been registered to the kernel and using AI, will formulate a plan to execute a given ask.\n",
    "\n",
    "Read more about it [here](https://aka.ms/sk/concepts/planner)."
   ]
  },
  {
   "cell_type": "code",
   "execution_count": 1,
   "metadata": {
    "dotnet_interactive": {
     "language": "csharp"
    },
    "polyglot_notebook": {
     "kernelName": "csharp"
    }
   },
   "outputs": [
    {
     "data": {
      "text/html": [
       "<div><div></div><div></div><div><strong>Installed Packages</strong><ul><li><span>Microsoft.SemanticKernel, 1.0.0-beta6</span></li></ul></div></div>"
      ]
     },
     "metadata": {},
     "output_type": "display_data"
    }
   ],
   "source": [
    "#r \"nuget: Microsoft.SemanticKernel, 1.0.0-beta6\"\n",
    "\n",
    "#!import config/Settings.cs\n",
    "#!import config/Utils.cs\n",
    "\n",
    "using Microsoft.SemanticKernel;\n",
    "using Microsoft.SemanticKernel.Plugins.Core;\n",
    "using Microsoft.SemanticKernel.Orchestration;\n",
    "using Microsoft.SemanticKernel.Planning;\n",
    "using Microsoft.SemanticKernel.Planners;\n",
    "using Microsoft.SemanticKernel.Connectors.AI.OpenAI;\n",
    "\n",
    "var builder = new KernelBuilder();\n",
    "\n",
    "// Configure AI backend used by the kernel\n",
    "var (useAzureOpenAI, model, azureEndpoint, apiKey, orgId) = Settings.LoadFromFile();\n",
    "\n",
    "if (useAzureOpenAI)\n",
    "    builder.WithAzureOpenAIChatCompletionService(model, azureEndpoint, apiKey);\n",
    "else\n",
    "    builder.WithOpenAIChatCompletionService(model, apiKey, orgId);\n",
    "\n",
    "var kernel = builder.Build();"
   ]
  },
  {
   "attachments": {},
   "cell_type": "markdown",
   "metadata": {},
   "source": [
    "### Setting Up the Planner\n",
    "The planner is located in the `Microsoft.SemanticKernel.Planners.Core` package and requires Orchestration"
   ]
  },
  {
   "cell_type": "code",
   "execution_count": 2,
   "metadata": {
    "dotnet_interactive": {
     "language": "csharp"
    },
    "polyglot_notebook": {
     "kernelName": "csharp"
    }
   },
   "outputs": [],
   "source": [
    "// Load native plugin into the kernel registry, sharing its functions with prompt templates\n",
    "var planner = new SequentialPlanner(kernel);"
   ]
  },
  {
   "attachments": {},
   "cell_type": "markdown",
   "metadata": {},
   "source": [
    "### Providing plugins to the planner\n",
    "The planner needs to know what plugins are available to it. Here we'll give it access to the `SummarizePlugin` and `WriterPlugin` we have defined on disk."
   ]
  },
  {
   "cell_type": "code",
   "execution_count": 3,
   "metadata": {
    "dotnet_interactive": {
     "language": "csharp"
    },
    "polyglot_notebook": {
     "kernelName": "csharp"
    }
   },
   "outputs": [],
   "source": [
    "var pluginsDirectory = Path.Combine(System.IO.Directory.GetCurrentDirectory(), \"..\", \"..\", \"samples\", \"plugins\");\n",
    "kernel.ImportSemanticFunctionsFromDirectory(pluginsDirectory, \"SummarizePlugin\");\n",
    "kernel.ImportSemanticFunctionsFromDirectory(pluginsDirectory, \"WriterPlugin\");"
   ]
  },
  {
   "attachments": {},
   "cell_type": "markdown",
   "metadata": {},
   "source": [
    "Define your ASK. What do you want the Kernel to do?"
   ]
  },
  {
   "cell_type": "code",
   "execution_count": 4,
   "metadata": {
    "dotnet_interactive": {
     "language": "csharp"
    },
    "polyglot_notebook": {
     "kernelName": "csharp"
    }
   },
   "outputs": [
    {
     "name": "stdout",
     "output_type": "stream",
     "text": [
      "Original plan:\n",
      "\n",
      "{\n",
      "  \"state\": [],\n",
      "  \"steps\": [\n",
      "    {\n",
      "      \"state\": [],\n",
      "      \"steps\": [],\n",
      "      \"parameters\": [\n",
      "        {\n",
      "          \"Key\": \"input\",\n",
      "          \"Value\": \"Date ideas\"\n",
      "        }\n",
      "      ],\n",
      "      \"outputs\": [],\n",
      "      \"next_step_index\": 0,\n",
      "      \"name\": \"Brainstorm\",\n",
      "      \"plugin_name\": \"WriterPlugin\",\n",
      "      \"description\": \"Given a goal or topic description generate a list of ideas\",\n",
      "      \"model_settings\": null,\n",
      "      \"RequestSettings\": {\n",
      "        \"service_id\": null,\n",
      "        \"model_id\": null,\n",
      "        \"max_tokens\": 2000,\n",
      "        \"temperature\": 0.5,\n",
      "        \"top_p\": 1.0,\n",
      "        \"presence_penalty\": 0.0,\n",
      "        \"frequency_penalty\": 0.0,\n",
      "        \"stop_sequences\": [\n",
      "          \"##END##\"\n",
      "        ]\n",
      "      }\n",
      "    },\n",
      "    {\n",
      "      \"state\": [],\n",
      "      \"steps\": [],\n",
      "      \"parameters\": [\n",
      "        {\n",
      "          \"Key\": \"input\",\n",
      "          \"Value\": \"$WriterPlugin.Brainstorm.output\"\n",
      "        }\n",
      "      ],\n",
      "      \"outputs\": [\n",
      "        \"RESULT__poems\"\n",
      "      ],\n",
      "      \"next_step_index\": 0,\n",
      "      \"name\": \"ShortPoem\",\n",
      "      \"plugin_name\": \"WriterPlugin\",\n",
      "      \"description\": \"Turn a scenario into a short and entertaining poem.\",\n",
      "      \"model_settings\": null,\n",
      "      \"RequestSettings\": {\n",
      "        \"service_id\": null,\n",
      "        \"model_id\": null,\n",
      "        \"max_tokens\": 60,\n",
      "        \"temperature\": 0.5,\n",
      "        \"top_p\": 0.0,\n",
      "        \"presence_penalty\": 0.0,\n",
      "        \"frequency_penalty\": 0.0\n",
      "      }\n",
      "    }\n",
      "  ],\n",
      "  \"parameters\": [],\n",
      "  \"outputs\": [\n",
      "    \"RESULT__poems\"\n",
      "  ],\n",
      "  \"next_step_index\": 0,\n",
      "  \"name\": \"plan6421439534014d48aca4bc60b684d1c8\",\n",
      "  \"plugin_name\": \"Plan\",\n",
      "  \"description\": \"Tomorrow is Valentine\\u0027s day. I need to come up with a few date ideas. My significant other likes poems so write them in the form of a poem.\",\n",
      "  \"model_settings\": null,\n",
      "  \"RequestSettings\": null\n",
      "}\n"
     ]
    }
   ],
   "source": [
    "var ask = \"Tomorrow is Valentine's day. I need to come up with a few date ideas. My significant other likes poems so write them in the form of a poem.\";\n",
    "var originalPlan = await planner.CreatePlanAsync(ask);\n",
    "\n",
    "Console.WriteLine(\"Original plan:\\n\");\n",
    "Console.WriteLine(JsonSerializer.Serialize(originalPlan, new JsonSerializerOptions { WriteIndented = true }));"
   ]
  },
  {
   "attachments": {},
   "cell_type": "markdown",
   "metadata": {},
   "source": [
    "As you can see in the above plan, the Planner has taken the user's ask and converted it into a Plan object detailing how the AI would go about solving this task.\n",
    "\n",
    "It makes use of the plugins that the Kernel has available to it and determines which functions to call in order to fulfill the user's ask.\n",
    "\n",
    "The output of each step of the plan gets set as `setContextVariable` which makes it available as `input` to the next plugin."
   ]
  },
  {
   "attachments": {},
   "cell_type": "markdown",
   "metadata": {},
   "source": [
    "Let's also define an inline plugin and have it be available to the Planner.\n",
    "Be sure to give it a function name and plugin name."
   ]
  },
  {
   "cell_type": "code",
   "execution_count": 5,
   "metadata": {
    "dotnet_interactive": {
     "language": "csharp"
    },
    "polyglot_notebook": {
     "kernelName": "csharp"
    }
   },
   "outputs": [],
   "source": [
    "string skPrompt = \"\"\"\n",
    "{{$input}}\n",
    "\n",
    "Rewrite the above in the style of Shakespeare.\n",
    "\"\"\";\n",
    "var shakespeareFunction = kernel.CreateSemanticFunction(skPrompt, \"Shakespeare\", \"ShakespearePlugin\", requestSettings: new OpenAIRequestSettings { MaxTokens = 2000, Temperature = 0.2, TopP = 0.5 });"
   ]
  },
  {
   "attachments": {},
   "cell_type": "markdown",
   "metadata": {},
   "source": [
    "Let's update our ask using this new plugin."
   ]
  },
  {
   "cell_type": "code",
   "execution_count": 7,
   "metadata": {
    "dotnet_interactive": {
     "language": "csharp"
    },
    "polyglot_notebook": {
     "kernelName": "csharp"
    }
   },
   "outputs": [
    {
     "name": "stdout",
     "output_type": "stream",
     "text": [
      "Updated plan:\n",
      "\n",
      "{\n",
      "  \"state\": [],\n",
      "  \"steps\": [\n",
      "    {\n",
      "      \"state\": [],\n",
      "      \"steps\": [],\n",
      "      \"parameters\": [\n",
      "        {\n",
      "          \"Key\": \"input\",\n",
      "          \"Value\": \"Date ideas\"\n",
      "        }\n",
      "      ],\n",
      "      \"outputs\": [],\n",
      "      \"next_step_index\": 0,\n",
      "      \"name\": \"Brainstorm\",\n",
      "      \"plugin_name\": \"WriterPlugin\",\n",
      "      \"description\": \"Given a goal or topic description generate a list of ideas\",\n",
      "      \"model_settings\": null,\n",
      "      \"RequestSettings\": {\n",
      "        \"service_id\": null,\n",
      "        \"model_id\": null,\n",
      "        \"max_tokens\": 2000,\n",
      "        \"temperature\": 0.5,\n",
      "        \"top_p\": 1.0,\n",
      "        \"presence_penalty\": 0.0,\n",
      "        \"frequency_penalty\": 0.0,\n",
      "        \"stop_sequences\": [\n",
      "          \"##END##\"\n",
      "        ]\n",
      "      }\n",
      "    },\n",
      "    {\n",
      "      \"state\": [],\n",
      "      \"steps\": [],\n",
      "      \"parameters\": [\n",
      "        {\n",
      "          \"Key\": \"input\",\n",
      "          \"Value\": \"$Brainstorm.output\"\n",
      "        }\n",
      "      ],\n",
      "      \"outputs\": [],\n",
      "      \"next_step_index\": 0,\n",
      "      \"name\": \"ShortPoem\",\n",
      "      \"plugin_name\": \"WriterPlugin\",\n",
      "      \"description\": \"Turn a scenario into a short and entertaining poem.\",\n",
      "      \"model_settings\": null,\n",
      "      \"RequestSettings\": {\n",
      "        \"service_id\": null,\n",
      "        \"model_id\": null,\n",
      "        \"max_tokens\": 60,\n",
      "        \"temperature\": 0.5,\n",
      "        \"top_p\": 0.0,\n",
      "        \"presence_penalty\": 0.0,\n",
      "        \"frequency_penalty\": 0.0\n",
      "      }\n",
      "    },\n",
      "    {\n",
      "      \"state\": [],\n",
      "      \"steps\": [],\n",
      "      \"parameters\": [\n",
      "        {\n",
      "          \"Key\": \"input\",\n",
      "          \"Value\": \"$Brainstorm.output\"\n",
      "        }\n",
      "      ],\n",
      "      \"outputs\": [\n",
      "        \"POEM_OUTPUT\"\n",
      "      ],\n",
      "      \"next_step_index\": 0,\n",
      "      \"name\": \"ShortPoem\",\n",
      "      \"plugin_name\": \"WriterPlugin\",\n",
      "      \"description\": \"Turn a scenario into a short and entertaining poem.\",\n",
      "      \"model_settings\": null,\n",
      "      \"RequestSettings\": {\n",
      "        \"service_id\": null,\n",
      "        \"model_id\": null,\n",
      "        \"max_tokens\": 60,\n",
      "        \"temperature\": 0.5,\n",
      "        \"top_p\": 0.0,\n",
      "        \"presence_penalty\": 0.0,\n",
      "        \"frequency_penalty\": 0.0\n",
      "      }\n",
      "    },\n",
      "    {\n",
      "      \"state\": [],\n",
      "      \"steps\": [],\n",
      "      \"parameters\": [\n",
      "        {\n",
      "          \"Key\": \"input\",\n",
      "          \"Value\": \"Valentine\\u0027s day\"\n",
      "        }\n",
      "      ],\n",
      "      \"outputs\": [],\n",
      "      \"next_step_index\": 0,\n",
      "      \"name\": \"AcronymGenerator\",\n",
      "      \"plugin_name\": \"WriterPlugin\",\n",
      "      \"description\": \"Given a request to generate an acronym from a string, generate an acronym and provide the acronym explanation.\",\n",
      "      \"model_settings\": null,\n",
      "      \"RequestSettings\": {\n",
      "        \"service_id\": null,\n",
      "        \"model_id\": null,\n",
      "        \"max_tokens\": 256,\n",
      "        \"temperature\": 0.7,\n",
      "        \"top_p\": 1.0,\n",
      "        \"presence_penalty\": 0.0,\n",
      "        \"frequency_penalty\": 0.0,\n",
      "        \"stop_sequences\": [\n",
      "          \"#\"\n",
      "        ]\n",
      "      }\n",
      "    },\n",
      "    {\n",
      "      \"state\": [],\n",
      "      \"steps\": [],\n",
      "      \"parameters\": [\n",
      "        {\n",
      "          \"Key\": \"input\",\n",
      "          \"Value\": \"Valentine\\u0027s day\"\n",
      "        }\n",
      "      ],\n",
      "      \"outputs\": [\n",
      "        \"ACRONYM_OUTPUT\"\n",
      "      ],\n",
      "      \"next_step_index\": 0,\n",
      "      \"name\": \"AcronymGenerator\",\n",
      "      \"plugin_name\": \"WriterPlugin\",\n",
      "      \"description\": \"Given a request to generate an acronym from a string, generate an acronym and provide the acronym explanation.\",\n",
      "      \"model_settings\": null,\n",
      "      \"RequestSettings\": {\n",
      "        \"service_id\": null,\n",
      "        \"model_id\": null,\n",
      "        \"max_tokens\": 256,\n",
      "        \"temperature\": 0.7,\n",
      "        \"top_p\": 1.0,\n",
      "        \"presence_penalty\": 0.0,\n",
      "        \"frequency_penalty\": 0.0,\n",
      "        \"stop_sequences\": [\n",
      "          \"#\"\n",
      "        ]\n",
      "      }\n",
      "    },\n",
      "    {\n",
      "      \"state\": [],\n",
      "      \"steps\": [],\n",
      "      \"parameters\": [\n",
      "        {\n",
      "          \"Key\": \"input\",\n",
      "          \"Value\": \"$POEM_OUTPUT\"\n",
      "        }\n",
      "      ],\n",
      "      \"outputs\": [],\n",
      "      \"next_step_index\": 0,\n",
      "      \"name\": \"Translate\",\n",
      "      \"plugin_name\": \"WriterPlugin\",\n",
      "      \"description\": \"Translate the input into a language of your choice\",\n",
      "      \"model_settings\": null,\n",
      "      \"RequestSettings\": {\n",
      "        \"service_id\": null,\n",
      "        \"model_id\": null,\n",
      "        \"max_tokens\": 2000,\n",
      "        \"temperature\": 0.7,\n",
      "        \"top_p\": 0.0,\n",
      "        \"presence_penalty\": 0.0,\n",
      "        \"frequency_penalty\": 0.0,\n",
      "        \"stop_sequences\": [\n",
      "          \"[done]\"\n",
      "        ]\n",
      "      }\n",
      "    },\n",
      "    {\n",
      "      \"state\": [],\n",
      "      \"steps\": [],\n",
      "      \"parameters\": [\n",
      "        {\n",
      "          \"Key\": \"input\",\n",
      "          \"Value\": \"$POEM_OUTPUT\"\n",
      "        }\n",
      "      ],\n",
      "      \"outputs\": [\n",
      "        \"TRANSLATED_POEM_OUTPUT\"\n",
      "      ],\n",
      "      \"next_step_index\": 0,\n",
      "      \"name\": \"Translate\",\n",
      "      \"plugin_name\": \"WriterPlugin\",\n",
      "      \"description\": \"Translate the input into a language of your choice\",\n",
      "      \"model_settings\": null,\n",
      "      \"RequestSettings\": {\n",
      "        \"service_id\": null,\n",
      "        \"model_id\": null,\n",
      "        \"max_tokens\": 2000,\n",
      "        \"temperature\": 0.7,\n",
      "        \"top_p\": 0.0,\n",
      "        \"presence_penalty\": 0.0,\n",
      "        \"frequency_penalty\": 0.0,\n",
      "        \"stop_sequences\": [\n",
      "          \"[done]\"\n",
      "        ]\n",
      "      }\n",
      "    },\n",
      "    {\n",
      "      \"state\": [],\n",
      "      \"steps\": [],\n",
      "      \"parameters\": [\n",
      "        {\n",
      "          \"Key\": \"input\",\n",
      "          \"Value\": \"$TRANSLATED_POEM_OUTPUT\"\n",
      "        },\n",
      "        {\n",
      "          \"Key\": \"theme\",\n",
      "          \"Value\": \"Romance\"\n",
      "        },\n",
      "        {\n",
      "          \"Key\": \"previousChapter\",\n",
      "          \"Value\": \"Previous chapter synopsis\"\n",
      "        },\n",
      "        {\n",
      "          \"Key\": \"chapterIndex\",\n",
      "          \"Value\": \"1\"\n",
      "        }\n",
      "      ],\n",
      "      \"outputs\": [],\n",
      "      \"next_step_index\": 0,\n",
      "      \"name\": \"NovelChapter\",\n",
      "      \"plugin_name\": \"WriterPlugin\",\n",
      "      \"description\": \"Write a chapter of a novel.\",\n",
      "      \"model_settings\": null,\n",
      "      \"RequestSettings\": {\n",
      "        \"service_id\": null,\n",
      "        \"model_id\": null,\n",
      "        \"max_tokens\": 2048,\n",
      "        \"temperature\": 0.3,\n",
      "        \"top_p\": 0.0,\n",
      "        \"presence_penalty\": 0.0,\n",
      "        \"frequency_penalty\": 0.0\n",
      "      }\n",
      "    },\n",
      "    {\n",
      "      \"state\": [],\n",
      "      \"steps\": [],\n",
      "      \"parameters\": [\n",
      "        {\n",
      "          \"Key\": \"input\",\n",
      "          \"Value\": \"$TRANSLATED_POEM_OUTPUT\"\n",
      "        },\n",
      "        {\n",
      "          \"Key\": \"theme\",\n",
      "          \"Value\": \"Romance\"\n",
      "        },\n",
      "        {\n",
      "          \"Key\": \"previousChapter\",\n",
      "          \"Value\": \"Previous chapter synopsis\"\n",
      "        },\n",
      "        {\n",
      "          \"Key\": \"chapterIndex\",\n",
      "          \"Value\": \"1\"\n",
      "        }\n",
      "      ],\n",
      "      \"outputs\": [\n",
      "        \"NOVEL_CHAPTER_OUTPUT\"\n",
      "      ],\n",
      "      \"next_step_index\": 0,\n",
      "      \"name\": \"NovelChapter\",\n",
      "      \"plugin_name\": \"WriterPlugin\",\n",
      "      \"description\": \"Write a chapter of a novel.\",\n",
      "      \"model_settings\": null,\n",
      "      \"RequestSettings\": {\n",
      "        \"service_id\": null,\n",
      "        \"model_id\": null,\n",
      "        \"max_tokens\": 2048,\n",
      "        \"temperature\": 0.3,\n",
      "        \"top_p\": 0.0,\n",
      "        \"presence_penalty\": 0.0,\n",
      "        \"frequency_penalty\": 0.0\n",
      "      }\n",
      "    },\n",
      "    {\n",
      "      \"state\": [],\n",
      "      \"steps\": [],\n",
      "      \"parameters\": [\n",
      "        {\n",
      "          \"Key\": \"input\",\n",
      "          \"Value\": \"$NOVEL_CHAPTER_OUTPUT\"\n",
      "        }\n",
      "      ],\n",
      "      \"outputs\": [],\n",
      "      \"next_step_index\": 0,\n",
      "      \"name\": \"TwoSentenceSummary\",\n",
      "      \"plugin_name\": \"WriterPlugin\",\n",
      "      \"description\": \"Summarize given text in two sentences or less\",\n",
      "      \"model_settings\": null,\n",
      "      \"RequestSettings\": {\n",
      "        \"service_id\": null,\n",
      "        \"model_id\": null,\n",
      "        \"max_tokens\": 100,\n",
      "        \"temperature\": 0.0,\n",
      "        \"top_p\": 0.0,\n",
      "        \"presence_penalty\": 0.0,\n",
      "        \"frequency_penalty\": 0.0\n",
      "      }\n",
      "    },\n",
      "    {\n",
      "      \"state\": [],\n",
      "      \"steps\": [],\n",
      "      \"parameters\": [\n",
      "        {\n",
      "          \"Key\": \"input\",\n",
      "          \"Value\": \"$NOVEL_CHAPTER_OUTPUT\"\n",
      "        }\n",
      "      ],\n",
      "      \"outputs\": [\n",
      "        \"SUMMARY_OUTPUT\"\n",
      "      ],\n",
      "      \"next_step_index\": 0,\n",
      "      \"name\": \"TwoSentenceSummary\",\n",
      "      \"plugin_name\": \"WriterPlugin\",\n",
      "      \"description\": \"Summarize given text in two sentences or less\",\n",
      "      \"model_settings\": null,\n",
      "      \"RequestSettings\": {\n",
      "        \"service_id\": null,\n",
      "        \"model_id\": null,\n",
      "        \"max_tokens\": 100,\n",
      "        \"temperature\": 0.0,\n",
      "        \"top_p\": 0.0,\n",
      "        \"presence_penalty\": 0.0,\n",
      "        \"frequency_penalty\": 0.0\n",
      "      }\n",
      "    }\n",
      "  ],\n",
      "  \"parameters\": [],\n",
      "  \"outputs\": [],\n",
      "  \"next_step_index\": 0,\n",
      "  \"name\": \"planb7c83202c85a49ba8778d5ce76c23e35\",\n",
      "  \"plugin_name\": \"Plan\",\n",
      "  \"description\": \"Tomorrow is Valentine\\u0027s day. I need to come up with a few date ideas.\\nShe likes Shakespeare so write using his style. Write them in the form of a poem.\",\n",
      "  \"model_settings\": null,\n",
      "  \"RequestSettings\": null\n",
      "}\n"
     ]
    }
   ],
   "source": [
    "var ask = @\"Tomorrow is Valentine's day. I need to come up with a few date ideas.\n",
    "She likes Shakespeare so write using his style. Write them in the form of a poem.\";\n",
    "\n",
    "var newPlan = await planner.CreatePlanAsync(ask);\n",
    "\n",
    "Console.WriteLine(\"Updated plan:\\n\");\n",
    "Console.WriteLine(JsonSerializer.Serialize(newPlan, new JsonSerializerOptions { WriteIndented = true }));"
   ]
  },
  {
   "attachments": {},
   "cell_type": "markdown",
   "metadata": {},
   "source": [
    "### Executing the plans\n",
    "\n",
    "Now that we have different plans, let's try to execute them! The Kernel can execute the plan using RunAsync."
   ]
  },
  {
   "cell_type": "code",
   "execution_count": 8,
   "metadata": {
    "dotnet_interactive": {
     "language": "csharp"
    },
    "polyglot_notebook": {
     "kernelName": "csharp"
    }
   },
   "outputs": [
    {
     "name": "stdout",
     "output_type": "stream",
     "text": [
      "Original Plan results:\n",
      "\n",
      "There once was a writer so bright,\n",
      "Whose ideas took flight day and night.\n",
      "But when it came time to\n",
      "write,\n",
      "Their brain went on strike,\n",
      "Leaving them in a creative plight!\n",
      "\n"
     ]
    }
   ],
   "source": [
    "var originalPlanResult = await kernel.RunAsync(originalPlan);\n",
    "\n",
    "Console.WriteLine(\"Original Plan results:\\n\");\n",
    "Console.WriteLine(Utils.WordWrap(originalPlanResult.GetValue<string>(), 100));"
   ]
  },
  {
   "attachments": {},
   "cell_type": "markdown",
   "metadata": {},
   "source": [
    "Now lets execute and print the new plan:"
   ]
  },
  {
   "cell_type": "code",
   "execution_count": 9,
   "metadata": {
    "dotnet_interactive": {
     "language": "csharp"
    },
    "polyglot_notebook": {
     "kernelName": "csharp"
    }
   },
   "outputs": [
    {
     "name": "stdout",
     "output_type": "stream",
     "text": [
      "New Plan results:\n",
      "\n",
      "In a room full of intense thinkers, a young man named Ethan suggests they take a break and fly kites. Initially met with skepticism, the idea sparks curiosity and excitement, leading the thinkers to experience a carefree moment of joy and connection. This unexpected adventure leaves a lasting impact, bringing a sense of lightheartedness and a deeper bond among the thinkers.\n"
     ]
    }
   ],
   "source": [
    "var newPlanResult = await kernel.RunAsync(newPlan);\n",
    "\n",
    "Console.WriteLine(\"New Plan results:\\n\");\n",
    "Console.WriteLine(newPlanResult.GetValue<string>());"
   ]
  }
 ],
 "metadata": {
  "kernelspec": {
   "display_name": ".NET (C#)",
   "language": "C#",
   "name": ".net-csharp"
  },
  "language_info": {
   "name": "polyglot-notebook"
  },
  "polyglot_notebook": {
   "kernelInfo": {
    "defaultKernelName": "csharp",
    "items": [
     {
      "aliases": [],
      "name": "csharp"
     }
    ]
   }
  }
 },
 "nbformat": 4,
 "nbformat_minor": 2
}
