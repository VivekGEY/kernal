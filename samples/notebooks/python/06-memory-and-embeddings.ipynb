{
  "cells": [
    {
      "attachments": {},
      "cell_type": "markdown",
      "id": "68e1c158",
      "metadata": {},
      "source": [
        "# Building Semantic Memory with Embeddings\n",
        "\n",
        "So far, we've mostly been treating the kernel as a stateless orchestration engine.\n",
        "We send text into a model API and receive text out. \n",
        "\n",
        "In a [previous notebook](04-context-variables-chat.ipynb), we used `context variables` to pass in additional\n",
        "text into prompts to enrich them with more context. This allowed us to create a basic chat experience. \n",
        "\n",
        "However, if you solely relied on context variables, you would quickly realize that eventually your prompt\n",
        "would grow so large that you would run into a the model's token limit. What we need is a way to persist state\n",
        "and build both short-term and long-term memory to empower even more intelligent applications. \n",
        "\n",
        "To do this, we dive into the key concept of `Semantic Memory` in the Semantic Kernel. "
      ]
    },
    {
      "cell_type": "code",
      "execution_count": 12,
      "id": "a77bdf89",
      "metadata": {},
      "outputs": [
        {
          "name": "stdout",
          "output_type": "stream",
          "text": [
            "Processing c:\\users\\abharris\\source\\repos\\awharrison-28\\semantic-kernel\\python\n",
            "  Installing build dependencies: started\n",
            "  Installing build dependencies: finished with status 'done'\n",
            "  Getting requirements to build wheel: started\n",
            "  Getting requirements to build wheel: finished with status 'done'\n",
            "  Preparing metadata (pyproject.toml): started\n",
            "  Preparing metadata (pyproject.toml): finished with status 'done'\n",
            "Requirement already satisfied: openai<0.28.0,>=0.27.0 in c:\\users\\abharris\\appdata\\local\\programs\\python\\python310\\lib\\site-packages (from semantic-kernel==0.2.6.dev0) (0.27.4)\n",
            "Requirement already satisfied: numpy<2.0.0,>=1.24.2 in c:\\users\\abharris\\appdata\\local\\programs\\python\\python310\\lib\\site-packages (from semantic-kernel==0.2.6.dev0) (1.24.2)\n",
            "Requirement already satisfied: transformers<5.0.0,>=4.28.1 in c:\\users\\abharris\\appdata\\local\\programs\\python\\python310\\lib\\site-packages (from semantic-kernel==0.2.6.dev0) (4.28.1)\n",
            "Requirement already satisfied: torch<3.0.0,>=2.0.0 in c:\\users\\abharris\\appdata\\local\\programs\\python\\python310\\lib\\site-packages (from semantic-kernel==0.2.6.dev0) (2.0.0)\n",
            "Requirement already satisfied: sentence-transformers<3.0.0,>=2.2.2 in c:\\users\\abharris\\appdata\\local\\programs\\python\\python310\\lib\\site-packages (from semantic-kernel==0.2.6.dev0) (2.2.2)\n",
            "Requirement already satisfied: aiofiles<24.0.0,>=23.1.0 in c:\\users\\abharris\\appdata\\local\\programs\\python\\python310\\lib\\site-packages (from semantic-kernel==0.2.6.dev0) (23.1.0)\n",
            "Requirement already satisfied: tqdm in c:\\users\\abharris\\appdata\\local\\programs\\python\\python310\\lib\\site-packages (from openai<0.28.0,>=0.27.0->semantic-kernel==0.2.6.dev0) (4.65.0)\n",
            "Requirement already satisfied: aiohttp in c:\\users\\abharris\\appdata\\local\\programs\\python\\python310\\lib\\site-packages (from openai<0.28.0,>=0.27.0->semantic-kernel==0.2.6.dev0) (3.8.4)\n",
            "Requirement already satisfied: requests>=2.20 in c:\\users\\abharris\\appdata\\local\\programs\\python\\python310\\lib\\site-packages (from openai<0.28.0,>=0.27.0->semantic-kernel==0.2.6.dev0) (2.28.2)\n",
            "Requirement already satisfied: torchvision in c:\\users\\abharris\\appdata\\local\\programs\\python\\python310\\lib\\site-packages (from sentence-transformers<3.0.0,>=2.2.2->semantic-kernel==0.2.6.dev0) (0.15.1)\n",
            "Requirement already satisfied: scikit-learn in c:\\users\\abharris\\appdata\\local\\programs\\python\\python310\\lib\\site-packages (from sentence-transformers<3.0.0,>=2.2.2->semantic-kernel==0.2.6.dev0) (1.2.2)\n",
            "Requirement already satisfied: scipy in c:\\users\\abharris\\appdata\\local\\programs\\python\\python310\\lib\\site-packages (from sentence-transformers<3.0.0,>=2.2.2->semantic-kernel==0.2.6.dev0) (1.10.1)\n",
            "Requirement already satisfied: nltk in c:\\users\\abharris\\appdata\\local\\programs\\python\\python310\\lib\\site-packages (from sentence-transformers<3.0.0,>=2.2.2->semantic-kernel==0.2.6.dev0) (3.8.1)\n",
            "Requirement already satisfied: sentencepiece in c:\\users\\abharris\\appdata\\local\\programs\\python\\python310\\lib\\site-packages (from sentence-transformers<3.0.0,>=2.2.2->semantic-kernel==0.2.6.dev0) (0.1.98)\n",
            "Requirement already satisfied: huggingface-hub>=0.4.0 in c:\\users\\abharris\\appdata\\local\\programs\\python\\python310\\lib\\site-packages (from sentence-transformers<3.0.0,>=2.2.2->semantic-kernel==0.2.6.dev0) (0.13.4)\n",
            "Requirement already satisfied: networkx in c:\\users\\abharris\\appdata\\local\\programs\\python\\python310\\lib\\site-packages (from torch<3.0.0,>=2.0.0->semantic-kernel==0.2.6.dev0) (3.1)\n",
            "Requirement already satisfied: jinja2 in c:\\users\\abharris\\appdata\\local\\programs\\python\\python310\\lib\\site-packages (from torch<3.0.0,>=2.0.0->semantic-kernel==0.2.6.dev0) (3.1.2)\n",
            "Requirement already satisfied: typing-extensions in c:\\users\\abharris\\appdata\\local\\programs\\python\\python310\\lib\\site-packages (from torch<3.0.0,>=2.0.0->semantic-kernel==0.2.6.dev0) (4.5.0)\n",
            "Requirement already satisfied: sympy in c:\\users\\abharris\\appdata\\local\\programs\\python\\python310\\lib\\site-packages (from torch<3.0.0,>=2.0.0->semantic-kernel==0.2.6.dev0) (1.11.1)\n",
            "Requirement already satisfied: filelock in c:\\users\\abharris\\appdata\\local\\programs\\python\\python310\\lib\\site-packages (from torch<3.0.0,>=2.0.0->semantic-kernel==0.2.6.dev0) (3.10.7)\n",
            "Requirement already satisfied: pyyaml>=5.1 in c:\\users\\abharris\\appdata\\local\\programs\\python\\python310\\lib\\site-packages (from transformers<5.0.0,>=4.28.1->semantic-kernel==0.2.6.dev0) (6.0)\n",
            "Requirement already satisfied: packaging>=20.0 in c:\\users\\abharris\\appdata\\local\\programs\\python\\python310\\lib\\site-packages (from transformers<5.0.0,>=4.28.1->semantic-kernel==0.2.6.dev0) (23.0)\n",
            "Requirement already satisfied: regex!=2019.12.17 in c:\\users\\abharris\\appdata\\local\\programs\\python\\python310\\lib\\site-packages (from transformers<5.0.0,>=4.28.1->semantic-kernel==0.2.6.dev0) (2023.3.23)\n",
            "Requirement already satisfied: tokenizers!=0.11.3,<0.14,>=0.11.1 in c:\\users\\abharris\\appdata\\local\\programs\\python\\python310\\lib\\site-packages (from transformers<5.0.0,>=4.28.1->semantic-kernel==0.2.6.dev0) (0.13.3)\n",
            "Requirement already satisfied: idna<4,>=2.5 in c:\\users\\abharris\\appdata\\local\\programs\\python\\python310\\lib\\site-packages (from requests>=2.20->openai<0.28.0,>=0.27.0->semantic-kernel==0.2.6.dev0) (3.4)\n",
            "Requirement already satisfied: charset-normalizer<4,>=2 in c:\\users\\abharris\\appdata\\local\\programs\\python\\python310\\lib\\site-packages (from requests>=2.20->openai<0.28.0,>=0.27.0->semantic-kernel==0.2.6.dev0) (3.1.0)\n",
            "Requirement already satisfied: urllib3<1.27,>=1.21.1 in c:\\users\\abharris\\appdata\\local\\programs\\python\\python310\\lib\\site-packages (from requests>=2.20->openai<0.28.0,>=0.27.0->semantic-kernel==0.2.6.dev0) (1.26.15)\n",
            "Requirement already satisfied: certifi>=2017.4.17 in c:\\users\\abharris\\appdata\\local\\programs\\python\\python310\\lib\\site-packages (from requests>=2.20->openai<0.28.0,>=0.27.0->semantic-kernel==0.2.6.dev0) (2022.12.7)\n",
            "Requirement already satisfied: colorama in c:\\users\\abharris\\appdata\\local\\programs\\python\\python310\\lib\\site-packages (from tqdm->openai<0.28.0,>=0.27.0->semantic-kernel==0.2.6.dev0) (0.4.6)\n",
            "Requirement already satisfied: frozenlist>=1.1.1 in c:\\users\\abharris\\appdata\\local\\programs\\python\\python310\\lib\\site-packages (from aiohttp->openai<0.28.0,>=0.27.0->semantic-kernel==0.2.6.dev0) (1.3.3)\n",
            "Requirement already satisfied: async-timeout<5.0,>=4.0.0a3 in c:\\users\\abharris\\appdata\\local\\programs\\python\\python310\\lib\\site-packages (from aiohttp->openai<0.28.0,>=0.27.0->semantic-kernel==0.2.6.dev0) (4.0.2)\n",
            "Requirement already satisfied: aiosignal>=1.1.2 in c:\\users\\abharris\\appdata\\local\\programs\\python\\python310\\lib\\site-packages (from aiohttp->openai<0.28.0,>=0.27.0->semantic-kernel==0.2.6.dev0) (1.3.1)\n",
            "Requirement already satisfied: attrs>=17.3.0 in c:\\users\\abharris\\appdata\\local\\programs\\python\\python310\\lib\\site-packages (from aiohttp->openai<0.28.0,>=0.27.0->semantic-kernel==0.2.6.dev0) (22.2.0)\n",
            "Requirement already satisfied: multidict<7.0,>=4.5 in c:\\users\\abharris\\appdata\\local\\programs\\python\\python310\\lib\\site-packages (from aiohttp->openai<0.28.0,>=0.27.0->semantic-kernel==0.2.6.dev0) (6.0.4)\n",
            "Requirement already satisfied: yarl<2.0,>=1.0 in c:\\users\\abharris\\appdata\\local\\programs\\python\\python310\\lib\\site-packages (from aiohttp->openai<0.28.0,>=0.27.0->semantic-kernel==0.2.6.dev0) (1.8.2)\n",
            "Requirement already satisfied: MarkupSafe>=2.0 in c:\\users\\abharris\\appdata\\local\\programs\\python\\python310\\lib\\site-packages (from jinja2->torch<3.0.0,>=2.0.0->semantic-kernel==0.2.6.dev0) (2.1.2)\n",
            "Requirement already satisfied: click in c:\\users\\abharris\\appdata\\local\\programs\\python\\python310\\lib\\site-packages (from nltk->sentence-transformers<3.0.0,>=2.2.2->semantic-kernel==0.2.6.dev0) (8.1.3)\n",
            "Requirement already satisfied: joblib in c:\\users\\abharris\\appdata\\local\\programs\\python\\python310\\lib\\site-packages (from nltk->sentence-transformers<3.0.0,>=2.2.2->semantic-kernel==0.2.6.dev0) (1.2.0)\n",
            "Requirement already satisfied: threadpoolctl>=2.0.0 in c:\\users\\abharris\\appdata\\local\\programs\\python\\python310\\lib\\site-packages (from scikit-learn->sentence-transformers<3.0.0,>=2.2.2->semantic-kernel==0.2.6.dev0) (3.1.0)\n",
            "Requirement already satisfied: mpmath>=0.19 in c:\\users\\abharris\\appdata\\local\\programs\\python\\python310\\lib\\site-packages (from sympy->torch<3.0.0,>=2.0.0->semantic-kernel==0.2.6.dev0) (1.3.0)\n",
            "Requirement already satisfied: pillow!=8.3.*,>=5.3.0 in c:\\users\\abharris\\appdata\\local\\programs\\python\\python310\\lib\\site-packages (from torchvision->sentence-transformers<3.0.0,>=2.2.2->semantic-kernel==0.2.6.dev0) (9.5.0)\n",
            "Building wheels for collected packages: semantic-kernel\n",
            "  Building wheel for semantic-kernel (pyproject.toml): started\n",
            "  Building wheel for semantic-kernel (pyproject.toml): finished with status 'done'\n",
            "  Created wheel for semantic-kernel: filename=semantic_kernel-0.2.6.dev0-py3-none-any.whl size=84653 sha256=f91991abeb0f0bfc3d45551739b56c06e36cc86d54495233845e4eda9d2ff827\n",
            "  Stored in directory: C:\\Users\\abharris\\AppData\\Local\\Temp\\pip-ephem-wheel-cache-wx15xf05\\wheels\\30\\b7\\73\\59b075467a7f69e7c84459669ab7dc622b76e48d378034909c\n",
            "Successfully built semantic-kernel\n",
            "Installing collected packages: semantic-kernel\n",
            "  Attempting uninstall: semantic-kernel\n",
            "    Found existing installation: semantic-kernel 0.2.4.dev0\n",
            "    Uninstalling semantic-kernel-0.2.4.dev0:\n",
            "      Successfully uninstalled semantic-kernel-0.2.4.dev0\n",
            "Successfully installed semantic-kernel-0.2.6.dev0\n"
          ]
        },
        {
          "name": "stderr",
          "output_type": "stream",
          "text": [
            "\n",
            "[notice] A new release of pip available: 22.3.1 -> 23.1.2\n",
            "[notice] To update, run: python.exe -m pip install --upgrade pip\n"
          ]
        }
      ],
      "source": [
        "!python -m pip install -r requirements.txt"
      ]
    },
    {
      "cell_type": "code",
      "execution_count": 13,
      "id": "508ad44f",
      "metadata": {},
      "outputs": [],
      "source": [
        "from typing import Tuple\n",
        "\n",
        "import semantic_kernel as sk\n",
        "from semantic_kernel.connectors.ai.open_ai import OpenAITextCompletion, OpenAITextEmbedding"
      ]
    },
    {
      "attachments": {},
      "cell_type": "markdown",
      "id": "d8ddffc1",
      "metadata": {},
      "source": [
        "In order to use memory, we need to instantiate the Kernel with a Memory Storage\n",
        "and an Embedding service. In this example, we make use of the `VolatileMemoryStore` \"which can be thought of as a temporary in-memory storage (not to be confused with Semantic Memory). This memory is not written to disk and is only available during the app session.\n",
        "\n",
        "When developing your app you will have the option to plug in persistent storage like Azure Cosmos Db, PostgreSQL, SQLite, etc. Semantic Memory allows also to index external data sources, without duplicating all the information, more on that later."
      ]
    },
    {
      "cell_type": "code",
      "execution_count": 14,
      "id": "8f8dcbc6",
      "metadata": {},
      "outputs": [
        {
          "data": {
            "text/plain": [
              "{'recall': <semantic_kernel.orchestration.sk_function.SKFunction at 0x1ebd4dffdc0>,\n",
              " 'save': <semantic_kernel.orchestration.sk_function.SKFunction at 0x1ebd5ce44c0>}"
            ]
          },
          "execution_count": 14,
          "metadata": {},
          "output_type": "execute_result"
        }
      ],
      "source": [
        "from semantic_kernel.kernel_config import KernelConfig\n",
        "\n",
        "kernel = sk.Kernel()\n",
        "\n",
        "api_key, org_id = sk.openai_settings_from_dot_env()\n",
        "kernel.config.add_text_completion_service(\"dv\", OpenAITextCompletion(\"text-davinci-003\", api_key, org_id))\n",
        "kernel.config.add_embedding_generation_service(\"ada\", OpenAITextEmbedding(\"text-embedding-ada-002\", api_key, org_id))\n",
        "\n",
        "kernel.register_memory_store(memory_store=sk.memory.VolatileMemoryStore())\n",
        "kernel.import_skill(sk.core_skills.TextMemorySkill())"
      ]
    },
    {
      "cell_type": "markdown",
      "id": "e7fefb6a",
      "metadata": {},
      "source": [
        "At its core, Semantic Memory is a set of data structures that allow you to store the meaning of text that come from different data sources, and optionally to store the source text too. These texts can be from the web, e-mail providers, chats, a database, or from your local directory, and are hooked up to the Semantic Kernel through data source connectors.\n",
        "\n",
        "The texts are embedded or compressed into a vector of floats representing mathematically the texts' contents and meaning. You can read more about embeddings [here](https://aka.ms/sk/embeddings)."
      ]
    },
    {
      "cell_type": "markdown",
      "id": "2a7e7ca4",
      "metadata": {},
      "source": [
        "### Manually adding memories\n",
        "Let's create some initial memories \"About Me\". We can add memories to our `VolatileMemoryStore` by using `SaveInformationAsync`"
      ]
    },
    {
      "cell_type": "code",
      "execution_count": 15,
      "id": "d096504c",
      "metadata": {},
      "outputs": [],
      "source": [
        "async def populate_memory(kernel: sk.Kernel) -> None:\n",
        "    # Add some documents to the semantic memory\n",
        "    await kernel.memory.save_information_async(\n",
        "        \"aboutMe\", id=\"info1\", text=\"My name is Andrea\"\n",
        "    )\n",
        "    await kernel.memory.save_information_async(\n",
        "        \"aboutMe\", id=\"info2\", text=\"I currently work as a tour guide\"\n",
        "    )\n",
        "    await kernel.memory.save_information_async(\n",
        "        \"aboutMe\", id=\"info3\", text=\"I've been living in Seattle since 2005\"\n",
        "    )\n",
        "    await kernel.memory.save_information_async(\n",
        "        \"aboutMe\", id=\"info4\", text=\"I visited France and Italy five times since 2015\"\n",
        "    )\n",
        "    await kernel.memory.save_information_async(\n",
        "        \"aboutMe\", id=\"info5\", text=\"My family is from New York\"\n",
        "    )"
      ]
    },
    {
      "cell_type": "markdown",
      "id": "2caf8575",
      "metadata": {},
      "source": [
        "Let's try searching the memory:"
      ]
    },
    {
      "cell_type": "code",
      "execution_count": null,
      "id": "628c843e",
      "metadata": {},
      "outputs": [],
      "source": [
        "async def search_memory_examples(kernel: sk.Kernel) -> None:\n",
        "    questions = [\n",
        "        \"what's my name\",\n",
        "        \"where do I live?\",\n",
        "        \"where's my family from?\",\n",
        "        \"where have I traveled?\",\n",
        "        \"what do I do for work\",\n",
        "    ]\n",
        "\n",
        "    for question in questions:\n",
        "        print(f\"Question: {question}\")\n",
        "        result = await kernel.memory.search_async(\"aboutMe\", question)\n",
        "        print(f\"Answer: {result[0].text}\\n\")"
      ]
    },
    {
      "attachments": {},
      "cell_type": "markdown",
      "id": "e70c2b22",
      "metadata": {},
      "source": [
        "Let's now revisit the our chat sample from the [previous notebook](04-context-variables-chat.ipynb).\n",
        "If you remember, we used context variables to fill the prompt with a `history` that continuously got populated as we chatted with the bot. Let's add also memory to it!"
      ]
    },
    {
      "cell_type": "markdown",
      "id": "1ed54a32",
      "metadata": {},
      "source": [
        "This is done by using the `TextMemorySkill` which exposes the `recall` native function.\n",
        "\n",
        "`recall` takes an input ask and performs a similarity search on the contents that have\n",
        "been embedded in the Memory Store and returns the most relevant memory. "
      ]
    },
    {
      "cell_type": "code",
      "execution_count": null,
      "id": "fb8549b2",
      "metadata": {},
      "outputs": [],
      "source": [
        "async def setup_chat_with_memory(\n",
        "    kernel: sk.Kernel,\n",
        ") -> Tuple[sk.SKFunctionBase, sk.SKContext]:\n",
        "    sk_prompt = \"\"\"\n",
        "    ChatBot can have a conversation with you about any topic.\n",
        "    It can give explicit instructions or say 'I don't know' if\n",
        "    it does not have an answer.\n",
        "\n",
        "    Information about me, from previous conversations:\n",
        "    - {{$fact1}} {{recall $fact1}}\n",
        "    - {{$fact2}} {{recall $fact2}}\n",
        "    - {{$fact3}} {{recall $fact3}}\n",
        "    - {{$fact4}} {{recall $fact4}}\n",
        "    - {{$fact5}} {{recall $fact5}}\n",
        "\n",
        "    Chat:\n",
        "    {{$chat_history}}\n",
        "    User: {{$user_input}}\n",
        "    ChatBot: \"\"\".strip()\n",
        "\n",
        "    chat_func = kernel.create_semantic_function(sk_prompt, max_tokens=200, temperature=0.8)\n",
        "\n",
        "    context = kernel.create_new_context()\n",
        "    context[\"fact1\"] = \"what is my name?\"\n",
        "    context[\"fact2\"] = \"where do I live?\"\n",
        "    context[\"fact3\"] = \"where's my family from?\"\n",
        "    context[\"fact4\"] = \"where have I traveled?\"\n",
        "    context[\"fact5\"] = \"what do I do for work?\"\n",
        "\n",
        "    context[sk.core_skills.TextMemorySkill.COLLECTION_PARAM] = \"aboutMe\"\n",
        "    context[sk.core_skills.TextMemorySkill.RELEVANCE_PARAM] = 0.8\n",
        "\n",
        "    context[\"chat_history\"] = \"\"\n",
        "\n",
        "    return chat_func, context"
      ]
    },
    {
      "cell_type": "markdown",
      "id": "1ac62457",
      "metadata": {},
      "source": [
        "The `RelevanceParam` is used in memory search and is a measure of the relevance score from 0.0 to 1.0, where 1.0 means a perfect match. We encourage users to experiment with different values."
      ]
    },
    {
      "cell_type": "markdown",
      "id": "645b55a1",
      "metadata": {},
      "source": [
        "Now that we've included our memories, let's chat!"
      ]
    },
    {
      "cell_type": "code",
      "execution_count": null,
      "id": "75267a2f",
      "metadata": {},
      "outputs": [],
      "source": [
        "async def chat(\n",
        "    kernel: sk.Kernel, chat_func: sk.SKFunctionBase, context: sk.SKContext\n",
        ") -> bool:\n",
        "    try:\n",
        "        user_input = input(\"User:> \")\n",
        "        context[\"user_input\"] = user_input\n",
        "        print(f\"User:> {user_input}\")\n",
        "    except KeyboardInterrupt:\n",
        "        print(\"\\n\\nExiting chat...\")\n",
        "        return False\n",
        "    except EOFError:\n",
        "        print(\"\\n\\nExiting chat...\")\n",
        "        return False\n",
        "\n",
        "    if user_input == \"exit\":\n",
        "        print(\"\\n\\nExiting chat...\")\n",
        "        return False\n",
        "\n",
        "    answer = await kernel.run_async(chat_func, input_vars=context.variables)\n",
        "    context[\"chat_history\"] += f\"\\nUser:> {user_input}\\nChatBot:> {answer}\\n\"\n",
        "\n",
        "    print(f\"ChatBot:> {answer}\")\n",
        "    return True"
      ]
    },
    {
      "cell_type": "code",
      "execution_count": null,
      "id": "e3875a34",
      "metadata": {},
      "outputs": [],
      "source": [
        "print(\"Populating memory...\")\n",
        "await populate_memory(kernel)\n",
        "\n",
        "print(\"Asking questions... (manually)\")\n",
        "await search_memory_examples(kernel)\n",
        "\n",
        "print(\"Setting up a chat (with memory!)\")\n",
        "chat_func, context = await setup_chat_with_memory(kernel)\n",
        "\n",
        "print(\"Begin chatting (type 'exit' to exit):\\n\")\n",
        "chatting = True\n",
        "while chatting:\n",
        "    chatting = await chat(kernel, chat_func, context)"
      ]
    },
    {
      "attachments": {},
      "cell_type": "markdown",
      "id": "0a51542b",
      "metadata": {},
      "source": [
        "### Adding documents to your memory\n",
        "\n",
        "Many times in your applications you'll want to bring in external documents into your memory. Let's see how we can do this using our VolatileMemoryStore.\n",
        "\n",
        "Let's first get some data using some of the links in the Semantic Kernel repo."
      ]
    },
    {
      "cell_type": "code",
      "execution_count": null,
      "id": "c3d5a1b9",
      "metadata": {},
      "outputs": [],
      "source": [
        "github_files ={}\n",
        "github_files[\"https://github.com/microsoft/semantic-kernel/blob/main/README.md\"] = \\\n",
        "    \"README: Installation, getting started, and how to contribute\"\n",
        "github_files[\"https://github.com/microsoft/semantic-kernel/blob/main/samples/notebooks/dotnet/02-running-prompts-from-file.ipynb\"] = \\\n",
        "    \"Jupyter notebook describing how to pass prompts from a file to a semantic skill or function\"\n",
        "github_files[\"https://github.com/microsoft/semantic-kernel/blob/main/samples/notebooks/dotnet/00-getting-started.ipynb\"] = \\\n",
        "    \"Jupyter notebook describing how to get started with the Semantic Kernel\"\n",
        "github_files[\"https://github.com/microsoft/semantic-kernel/tree/main/samples/skills/ChatSkill/ChatGPT\"] = \\\n",
        "    \"Sample demonstrating how to create a chat skill interfacing with ChatGPT\"\n",
        "github_files[\"https://github.com/microsoft/semantic-kernel/blob/main/dotnet/src/SemanticKernel/Memory/Volatile/VolatileMemoryStore.cs\"] = \\\n",
        "    \"C# class that defines a volatile embedding store\"\n",
        "github_files[\"https://github.com/microsoft/semantic-kernel/tree/main/samples/dotnet/KernelHttpServer/README.md\"] = \\\n",
        "    \"README: How to set up a Semantic Kernel Service API using Azure Function Runtime v4\"\n",
        "github_files[\"https://github.com/microsoft/semantic-kernel/tree/main/samples/apps/chat-summary-webapp-react/README.md\"] = \\\n",
        "    \"README: README associated with a sample starter react-based chat summary webapp\""
      ]
    },
    {
      "attachments": {},
      "cell_type": "markdown",
      "id": "75f3ea5e",
      "metadata": {},
      "source": [
        "Now let's add these files to our VolatileMemoryStore using `SaveReferenceAsync`. We'll separate these memories from the chat memories by putting them in a different collection."
      ]
    },
    {
      "cell_type": "code",
      "execution_count": null,
      "id": "170e7142",
      "metadata": {},
      "outputs": [],
      "source": [
        "memory_collection_name = \"SKGitHub\"\n",
        "print(\"Adding some GitHub file URLs and their descriptions to a volatile Semantic Memory.\");\n",
        "i = 0\n",
        "for entry, value in github_files.items():\n",
        "    await kernel.memory.save_reference_async(\n",
        "        collection=memory_collection_name,\n",
        "        description=value,\n",
        "        text=value,\n",
        "        external_id=entry,\n",
        "        external_source_name=\"GitHub\"\n",
        "    )\n",
        "    i += 1\n",
        "    print(\"  URL {} saved\".format(i))"
      ]
    },
    {
      "cell_type": "code",
      "execution_count": null,
      "id": "143911c3",
      "metadata": {},
      "outputs": [],
      "source": [
        "ask = \"I love Jupyter notebooks, how should I get started?\"\n",
        "print(\"===========================\\n\" + \"Query: \" + ask + \"\\n\")\n",
        "\n",
        "memories = await kernel.memory.search_async(memory_collection_name, ask, limit=5, min_relevance_score=0.77)\n",
        "\n",
        "i = 0\n",
        "for memory in memories:\n",
        "    i += 1\n",
        "    print(f\"Result {i}:\")\n",
        "    print(\"  URL:     : \" + memory.id)\n",
        "    print(\"  Title    : \" + memory.description)\n",
        "    print(\"  Relevance: \" + str(memory.relevance))\n",
        "    print()"
      ]
    },
    {
      "cell_type": "markdown",
      "id": "59294dac",
      "metadata": {},
      "source": [
        "Now you might be wondering what happens if you have so much data that it doesn't fit into your RAM? That's where you want to make use of an external Vector Database made specifically for storing and retrieving embeddings.\n",
        "\n",
        "Stay tuned for that!"
      ]
    }
  ],
  "metadata": {
    "kernelspec": {
      "display_name": "Python 3 (ipykernel)",
      "language": "python",
      "name": "python3"
    },
    "language_info": {
      "codemirror_mode": {
        "name": "ipython",
        "version": 3
      },
      "file_extension": ".py",
      "mimetype": "text/x-python",
      "name": "python",
      "nbconvert_exporter": "python",
      "pygments_lexer": "ipython3",
      "version": "3.10.10"
    }
  },
  "nbformat": 4,
  "nbformat_minor": 5
}
