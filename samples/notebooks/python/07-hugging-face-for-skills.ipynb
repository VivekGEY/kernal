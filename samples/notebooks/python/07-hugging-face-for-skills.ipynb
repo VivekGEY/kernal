{
  "cells": [
    {
      "attachments": {},
      "cell_type": "markdown",
      "id": "68e1c158",
      "metadata": {},
      "source": [
        "# Using Hugging Face With Skills\n",
        "\n",
        "In this notebook, we demonstrate using hugging face models for Skills using both SemanticMemory and text completions."
      ]
    },
    {
      "cell_type": "code",
      "execution_count": 23,
      "id": "a77bdf89",
      "metadata": {},
      "outputs": [
        {
          "name": "stdout",
          "output_type": "stream",
          "text": [
            "Processing c:\\users\\abharris\\source\\repos\\awharrison-28\\semantic-kernel\\python\n",
            "  Installing build dependencies: started\n",
            "  Installing build dependencies: finished with status 'done'\n",
            "  Getting requirements to build wheel: started\n",
            "  Getting requirements to build wheel: finished with status 'done'\n",
            "  Preparing metadata (pyproject.toml): started\n",
            "  Preparing metadata (pyproject.toml): finished with status 'done'\n",
            "Requirement already satisfied: aiofiles<24.0.0,>=23.1.0 in c:\\users\\abharris\\appdata\\local\\programs\\python\\python310\\lib\\site-packages (from semantic-kernel==0.2.4.dev0) (23.1.0)\n",
            "Requirement already satisfied: torch<3.0.0,>=2.0.0 in c:\\users\\abharris\\appdata\\local\\programs\\python\\python310\\lib\\site-packages (from semantic-kernel==0.2.4.dev0) (2.0.0)\n",
            "Requirement already satisfied: numpy<2.0.0,>=1.24.2 in c:\\users\\abharris\\appdata\\local\\programs\\python\\python310\\lib\\site-packages (from semantic-kernel==0.2.4.dev0) (1.24.2)\n",
            "Requirement already satisfied: transformers<5.0.0,>=4.28.1 in c:\\users\\abharris\\appdata\\local\\programs\\python\\python310\\lib\\site-packages (from semantic-kernel==0.2.4.dev0) (4.28.1)\n",
            "Requirement already satisfied: sentence-transformers<3.0.0,>=2.2.2 in c:\\users\\abharris\\appdata\\local\\programs\\python\\python310\\lib\\site-packages (from semantic-kernel==0.2.4.dev0) (2.2.2)\n",
            "Requirement already satisfied: openai<0.28.0,>=0.27.0 in c:\\users\\abharris\\appdata\\local\\programs\\python\\python310\\lib\\site-packages (from semantic-kernel==0.2.4.dev0) (0.27.4)\n",
            "Requirement already satisfied: tqdm in c:\\users\\abharris\\appdata\\local\\programs\\python\\python310\\lib\\site-packages (from openai<0.28.0,>=0.27.0->semantic-kernel==0.2.4.dev0) (4.65.0)\n",
            "Requirement already satisfied: requests>=2.20 in c:\\users\\abharris\\appdata\\local\\programs\\python\\python310\\lib\\site-packages (from openai<0.28.0,>=0.27.0->semantic-kernel==0.2.4.dev0) (2.28.2)\n",
            "Requirement already satisfied: aiohttp in c:\\users\\abharris\\appdata\\local\\programs\\python\\python310\\lib\\site-packages (from openai<0.28.0,>=0.27.0->semantic-kernel==0.2.4.dev0) (3.8.4)\n",
            "Requirement already satisfied: torchvision in c:\\users\\abharris\\appdata\\local\\programs\\python\\python310\\lib\\site-packages (from sentence-transformers<3.0.0,>=2.2.2->semantic-kernel==0.2.4.dev0) (0.15.1)\n",
            "Requirement already satisfied: scikit-learn in c:\\users\\abharris\\appdata\\local\\programs\\python\\python310\\lib\\site-packages (from sentence-transformers<3.0.0,>=2.2.2->semantic-kernel==0.2.4.dev0) (1.2.2)\n",
            "Requirement already satisfied: scipy in c:\\users\\abharris\\appdata\\local\\programs\\python\\python310\\lib\\site-packages (from sentence-transformers<3.0.0,>=2.2.2->semantic-kernel==0.2.4.dev0) (1.10.1)\n",
            "Requirement already satisfied: nltk in c:\\users\\abharris\\appdata\\local\\programs\\python\\python310\\lib\\site-packages (from sentence-transformers<3.0.0,>=2.2.2->semantic-kernel==0.2.4.dev0) (3.8.1)\n",
            "Requirement already satisfied: sentencepiece in c:\\users\\abharris\\appdata\\local\\programs\\python\\python310\\lib\\site-packages (from sentence-transformers<3.0.0,>=2.2.2->semantic-kernel==0.2.4.dev0) (0.1.98)\n",
            "Requirement already satisfied: huggingface-hub>=0.4.0 in c:\\users\\abharris\\appdata\\local\\programs\\python\\python310\\lib\\site-packages (from sentence-transformers<3.0.0,>=2.2.2->semantic-kernel==0.2.4.dev0) (0.13.4)\n",
            "Requirement already satisfied: networkx in c:\\users\\abharris\\appdata\\local\\programs\\python\\python310\\lib\\site-packages (from torch<3.0.0,>=2.0.0->semantic-kernel==0.2.4.dev0) (3.1)\n",
            "Requirement already satisfied: filelock in c:\\users\\abharris\\appdata\\local\\programs\\python\\python310\\lib\\site-packages (from torch<3.0.0,>=2.0.0->semantic-kernel==0.2.4.dev0) (3.10.7)\n",
            "Requirement already satisfied: typing-extensions in c:\\users\\abharris\\appdata\\local\\programs\\python\\python310\\lib\\site-packages (from torch<3.0.0,>=2.0.0->semantic-kernel==0.2.4.dev0) (4.5.0)\n",
            "Requirement already satisfied: jinja2 in c:\\users\\abharris\\appdata\\local\\programs\\python\\python310\\lib\\site-packages (from torch<3.0.0,>=2.0.0->semantic-kernel==0.2.4.dev0) (3.1.2)\n",
            "Requirement already satisfied: sympy in c:\\users\\abharris\\appdata\\local\\programs\\python\\python310\\lib\\site-packages (from torch<3.0.0,>=2.0.0->semantic-kernel==0.2.4.dev0) (1.11.1)\n",
            "Requirement already satisfied: pyyaml>=5.1 in c:\\users\\abharris\\appdata\\local\\programs\\python\\python310\\lib\\site-packages (from transformers<5.0.0,>=4.28.1->semantic-kernel==0.2.4.dev0) (6.0)\n",
            "Requirement already satisfied: packaging>=20.0 in c:\\users\\abharris\\appdata\\local\\programs\\python\\python310\\lib\\site-packages (from transformers<5.0.0,>=4.28.1->semantic-kernel==0.2.4.dev0) (23.0)\n",
            "Requirement already satisfied: regex!=2019.12.17 in c:\\users\\abharris\\appdata\\local\\programs\\python\\python310\\lib\\site-packages (from transformers<5.0.0,>=4.28.1->semantic-kernel==0.2.4.dev0) (2023.3.23)\n",
            "Requirement already satisfied: tokenizers!=0.11.3,<0.14,>=0.11.1 in c:\\users\\abharris\\appdata\\local\\programs\\python\\python310\\lib\\site-packages (from transformers<5.0.0,>=4.28.1->semantic-kernel==0.2.4.dev0) (0.13.3)\n",
            "Requirement already satisfied: idna<4,>=2.5 in c:\\users\\abharris\\appdata\\local\\programs\\python\\python310\\lib\\site-packages (from requests>=2.20->openai<0.28.0,>=0.27.0->semantic-kernel==0.2.4.dev0) (3.4)\n",
            "Requirement already satisfied: charset-normalizer<4,>=2 in c:\\users\\abharris\\appdata\\local\\programs\\python\\python310\\lib\\site-packages (from requests>=2.20->openai<0.28.0,>=0.27.0->semantic-kernel==0.2.4.dev0) (3.1.0)\n",
            "Requirement already satisfied: certifi>=2017.4.17 in c:\\users\\abharris\\appdata\\local\\programs\\python\\python310\\lib\\site-packages (from requests>=2.20->openai<0.28.0,>=0.27.0->semantic-kernel==0.2.4.dev0) (2022.12.7)\n",
            "Requirement already satisfied: urllib3<1.27,>=1.21.1 in c:\\users\\abharris\\appdata\\local\\programs\\python\\python310\\lib\\site-packages (from requests>=2.20->openai<0.28.0,>=0.27.0->semantic-kernel==0.2.4.dev0) (1.26.15)\n",
            "Requirement already satisfied: colorama in c:\\users\\abharris\\appdata\\local\\programs\\python\\python310\\lib\\site-packages (from tqdm->openai<0.28.0,>=0.27.0->semantic-kernel==0.2.4.dev0) (0.4.6)\n",
            "Requirement already satisfied: aiosignal>=1.1.2 in c:\\users\\abharris\\appdata\\local\\programs\\python\\python310\\lib\\site-packages (from aiohttp->openai<0.28.0,>=0.27.0->semantic-kernel==0.2.4.dev0) (1.3.1)\n",
            "Requirement already satisfied: frozenlist>=1.1.1 in c:\\users\\abharris\\appdata\\local\\programs\\python\\python310\\lib\\site-packages (from aiohttp->openai<0.28.0,>=0.27.0->semantic-kernel==0.2.4.dev0) (1.3.3)\n",
            "Requirement already satisfied: async-timeout<5.0,>=4.0.0a3 in c:\\users\\abharris\\appdata\\local\\programs\\python\\python310\\lib\\site-packages (from aiohttp->openai<0.28.0,>=0.27.0->semantic-kernel==0.2.4.dev0) (4.0.2)\n",
            "Requirement already satisfied: attrs>=17.3.0 in c:\\users\\abharris\\appdata\\local\\programs\\python\\python310\\lib\\site-packages (from aiohttp->openai<0.28.0,>=0.27.0->semantic-kernel==0.2.4.dev0) (22.2.0)\n",
            "Requirement already satisfied: multidict<7.0,>=4.5 in c:\\users\\abharris\\appdata\\local\\programs\\python\\python310\\lib\\site-packages (from aiohttp->openai<0.28.0,>=0.27.0->semantic-kernel==0.2.4.dev0) (6.0.4)\n",
            "Requirement already satisfied: yarl<2.0,>=1.0 in c:\\users\\abharris\\appdata\\local\\programs\\python\\python310\\lib\\site-packages (from aiohttp->openai<0.28.0,>=0.27.0->semantic-kernel==0.2.4.dev0) (1.8.2)\n",
            "Requirement already satisfied: MarkupSafe>=2.0 in c:\\users\\abharris\\appdata\\local\\programs\\python\\python310\\lib\\site-packages (from jinja2->torch<3.0.0,>=2.0.0->semantic-kernel==0.2.4.dev0) (2.1.2)\n",
            "Requirement already satisfied: click in c:\\users\\abharris\\appdata\\local\\programs\\python\\python310\\lib\\site-packages (from nltk->sentence-transformers<3.0.0,>=2.2.2->semantic-kernel==0.2.4.dev0) (8.1.3)\n",
            "Requirement already satisfied: joblib in c:\\users\\abharris\\appdata\\local\\programs\\python\\python310\\lib\\site-packages (from nltk->sentence-transformers<3.0.0,>=2.2.2->semantic-kernel==0.2.4.dev0) (1.2.0)\n",
            "Requirement already satisfied: threadpoolctl>=2.0.0 in c:\\users\\abharris\\appdata\\local\\programs\\python\\python310\\lib\\site-packages (from scikit-learn->sentence-transformers<3.0.0,>=2.2.2->semantic-kernel==0.2.4.dev0) (3.1.0)\n",
            "Requirement already satisfied: mpmath>=0.19 in c:\\users\\abharris\\appdata\\local\\programs\\python\\python310\\lib\\site-packages (from sympy->torch<3.0.0,>=2.0.0->semantic-kernel==0.2.4.dev0) (1.3.0)\n",
            "Requirement already satisfied: pillow!=8.3.*,>=5.3.0 in c:\\users\\abharris\\appdata\\local\\programs\\python\\python310\\lib\\site-packages (from torchvision->sentence-transformers<3.0.0,>=2.2.2->semantic-kernel==0.2.4.dev0) (9.5.0)\n",
            "Building wheels for collected packages: semantic-kernel\n",
            "  Building wheel for semantic-kernel (pyproject.toml): started\n",
            "  Building wheel for semantic-kernel (pyproject.toml): finished with status 'done'\n",
            "  Created wheel for semantic-kernel: filename=semantic_kernel-0.2.4.dev0-py3-none-any.whl size=84655 sha256=3351f87b389953dcecaa1f75564c32ed0647f6967e384af0f6dc0fd458cc504f\n",
            "  Stored in directory: C:\\Users\\abharris\\AppData\\Local\\Temp\\pip-ephem-wheel-cache-uevh4amb\\wheels\\30\\b7\\73\\59b075467a7f69e7c84459669ab7dc622b76e48d378034909c\n",
            "Successfully built semantic-kernel\n",
            "Installing collected packages: semantic-kernel\n",
            "  Attempting uninstall: semantic-kernel\n",
            "    Found existing installation: semantic-kernel 0.2.4.dev0\n",
            "    Uninstalling semantic-kernel-0.2.4.dev0:\n",
            "      Successfully uninstalled semantic-kernel-0.2.4.dev0\n",
            "Successfully installed semantic-kernel-0.2.4.dev0\n"
          ]
        },
        {
          "name": "stderr",
          "output_type": "stream",
          "text": [
            "\n",
            "[notice] A new release of pip available: 22.3.1 -> 23.1.1\n",
            "[notice] To update, run: python.exe -m pip install --upgrade pip\n"
          ]
        }
      ],
      "source": [
        "!python -m pip install ../../../python"
      ]
    },
    {
      "cell_type": "code",
      "execution_count": 24,
      "id": "508ad44f",
      "metadata": {},
      "outputs": [],
      "source": [
        "import semantic_kernel as sk\n",
        "import semantic_kernel.connectors.ai.hugging_face as sk_hf"
      ]
    },
    {
      "attachments": {},
      "cell_type": "markdown",
      "id": "d8ddffc1",
      "metadata": {},
      "source": [
        "SK supports Hugging Face models that can perform the following tasks: text-generation, text2text-generation, summarization, and sentence-similarity. You san search for models by task at https://huggingface.co/models. The following step may take a few minutes when run for the first time as the models will be downloaded to your local machine.\n",
        "\n",
        "First, we will create a kernel and add both text completion and embedding services. \n",
        "\n",
        "For text completion, we are chosing google/flan-t5-base. This is a text2text-generation model. (Note: text-generation will repeat the input in the output, text2text-generation will not.)\n",
        "For embeddings, we are using sentence-transformers/all-MiniLM-L6-v2. Vectors generated for this model are of length 384 (compared to a length of 1536 from OpenAI ADA)."
      ]
    },
    {
      "cell_type": "code",
      "execution_count": 99,
      "id": "8f8dcbc6",
      "metadata": {},
      "outputs": [
        {
          "data": {
            "text/plain": [
              "{'recall': <semantic_kernel.orchestration.sk_function.SKFunction at 0x18ef2359000>,\n",
              " 'save': <semantic_kernel.orchestration.sk_function.SKFunction at 0x18ef235a110>}"
            ]
          },
          "execution_count": 99,
          "metadata": {},
          "output_type": "execute_result"
        }
      ],
      "source": [
        "kernel = sk.Kernel()\n",
        "\n",
        "# Configure LLM service\n",
        "kernel.config.add_text_service(\n",
        "    \"gpt2\", sk_hf.HuggingFaceTextCompletion(\"gpt2\", task=\"text-generation\")\n",
        ")\n",
        "kernel.config.add_embedding_service(\n",
        "    \"sentence-transformers/all-MiniLM-L6-v2\",\n",
        "    sk_hf.HuggingFaceTextEmbedding(\"sentence-transformers/all-MiniLM-L6-v2\"),\n",
        ")\n",
        "kernel.register_memory_store(memory_store=sk.memory.VolatileMemoryStore())\n",
        "kernel.import_skill(sk.core_skills.TextMemorySkill())"
      ]
    },
    {
      "attachments": {},
      "cell_type": "markdown",
      "id": "2a7e7ca4",
      "metadata": {},
      "source": [
        "### Add Memories and Define a skill to use them\n",
        "\n",
        "Most models available on huggingface.co are not as powerful as OpenAI GPT-3+. Your skills will likely need to be simpler to accomodate this."
      ]
    },
    {
      "cell_type": "code",
      "execution_count": 112,
      "id": "d096504c",
      "metadata": {},
      "outputs": [],
      "source": [
        "await kernel.memory.save_information_async(\n",
        "    \"animal-facts\", id=\"info1\", text=\"Sharks are fish.\"\n",
        ")\n",
        "await kernel.memory.save_information_async(\n",
        "    \"animal-facts\", id=\"info2\", text=\"Whales are mammals.\"\n",
        ")\n",
        "await kernel.memory.save_information_async(\n",
        "    \"animal-facts\", id=\"info3\", text=\"Penguins are birds.\"\n",
        ")\n",
        "await kernel.memory.save_information_async(\n",
        "    \"animal-facts\", id=\"info4\", text=\"Dolphins are mammals.\"\n",
        ")\n",
        "await kernel.memory.save_information_async(\n",
        "    \"animal-facts\", id=\"info5\", text=\"Flies are insects.\"\n",
        ")\n",
        "\n",
        "# Define semantic function using SK prompt template language\n",
        "my_prompt = \"\"\"I know these animal facts: {{recall $query1}} {{recall $query2}} {{recall $query3}} and \"\"\"\n",
        "\n",
        "# Create the semantic function\n",
        "my_function = kernel.create_semantic_function(\n",
        "    my_prompt, max_tokens=45, temperature=0.5, top_p=0.5\n",
        ")\n"
      ]
    },
    {
      "attachments": {},
      "cell_type": "markdown",
      "id": "2caf8575",
      "metadata": {},
      "source": [
        "Let's now see what the completion looks like! Remember, \"gpt2\" is nowhere near as large as ChatGPT, so expect a much simpler answer."
      ]
    },
    {
      "cell_type": "code",
      "execution_count": 113,
      "id": "628c843e",
      "metadata": {},
      "outputs": [
        {
          "name": "stdout",
          "output_type": "stream",
          "text": [
            "gpt2 completed prompt with: 'I know these animal facts: Dolphins are mammals. Flies are insects. Penguins are birds. and  I'm not even sure if they're all the same species.\n",
            "But, I'm not sure if they're'\n"
          ]
        }
      ],
      "source": [
        "context = kernel.create_new_context()\n",
        "context[sk.core_skills.TextMemorySkill.COLLECTION_PARAM] = \"animal-facts\"\n",
        "context[sk.core_skills.TextMemorySkill.RELEVANCE_PARAM] = 0.3\n",
        "\n",
        "context[\"query1\"] = \"animal that swims\"\n",
        "context[\"query2\"] = \"animal that flies\"\n",
        "context[\"query3\"] = \"penguins are?\"\n",
        "output = await kernel.run_async(my_function, input_vars=context.variables)\n",
        "\n",
        "output = str(output).strip()\n",
        "\n",
        "\n",
        "query_result1 = await kernel.memory.search_async(\n",
        "    \"animal-facts\", context[\"query1\"], limit=1, min_relevance_score=0.3\n",
        ")\n",
        "query_result2 = await kernel.memory.search_async(\n",
        "    \"animal-facts\", context[\"query2\"], limit=1, min_relevance_score=0.3\n",
        ")\n",
        "query_result3 = await kernel.memory.search_async(\n",
        "    \"animal-facts\", context[\"query3\"], limit=1, min_relevance_score=0.3\n",
        ")\n",
        "\n",
        "print(f\"gpt2 completed prompt with: '{output}'\")"
      ]
    }
  ],
  "metadata": {
    "kernelspec": {
      "display_name": "Python 3 (ipykernel)",
      "language": "python",
      "name": "python3"
    },
    "language_info": {
      "codemirror_mode": {
        "name": "ipython",
        "version": 3
      },
      "file_extension": ".py",
      "mimetype": "text/x-python",
      "name": "python",
      "nbconvert_exporter": "python",
      "pygments_lexer": "ipython3",
      "version": "3.10.10"
    }
  },
  "nbformat": 4,
  "nbformat_minor": 5
}
