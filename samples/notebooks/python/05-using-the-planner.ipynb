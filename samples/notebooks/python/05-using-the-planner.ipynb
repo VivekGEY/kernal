{
 "cells": [
  {
   "cell_type": "markdown",
   "id": "99a80181",
   "metadata": {},
   "source": [
    "# Introduction to the Planner\n",
    "\n",
    "The Planner is one of the fundamental concepts of the Semantic Kernel.\n",
    "\n",
    "It makes use of the collection of native and semantic functions that have been registered to the kernel and using AI, will formulate a plan to execute the given ask.\n",
    "\n",
    "From our own testing, planner works best with more powerful models like `gpt4` but sometimes you might get working plans with cheaper models like `gpt-35-turbo`. We encourage you to implement your own versions of the planner and use different models that fit your user needs.  \n",
    "\n",
    "Read more about planner [here](https://aka.ms/sk/concepts/planner)"
   ]
  },
  {
   "cell_type": "code",
   "execution_count": 1,
   "id": "11e59885",
   "metadata": {},
   "outputs": [],
   "source": [
    "import semantic_kernel as sk\n",
    "from semantic_kernel.connectors.ai.open_ai import OpenAIChatCompletion, AzureChatCompletion\n",
    "\n",
    "kernel = sk.Kernel()\n",
    "\n",
    "useAzureOpenAI = True\n",
    "\n",
    "# Configure AI backend used by the kernel\n",
    "if useAzureOpenAI:\n",
    "    deployment, api_key, endpoint = sk.azure_openai_settings_from_dot_env()\n",
    "    kernel.add_chat_service(\"gpt-3.5\", AzureChatCompletion(\"gpt-35-turbo\", endpoint, api_key))\n",
    "else:\n",
    "    api_key, org_id = sk.openai_settings_from_dot_env()\n",
    "    kernel.add_chat_service(\"gpt4\", OpenAIChatCompletion(\"gpt-4\", api_key, org_id))"
   ]
  },
  {
   "cell_type": "markdown",
   "id": "4ff28070",
   "metadata": {},
   "source": [
    "## It all begins with an ask"
   ]
  },
  {
   "cell_type": "code",
   "execution_count": 2,
   "id": "93bc6103",
   "metadata": {},
   "outputs": [],
   "source": [
    "ask = \"\"\"\n",
    "Tomorrow is Valentine's day. I need to come up with a few date ideas. She speaks French so write it in French.\n",
    "Convert the text to uppercase\"\"\""
   ]
  },
  {
   "cell_type": "markdown",
   "id": "a5d86739",
   "metadata": {},
   "source": [
    "### Providing skills to the planner\n",
    "The planner needs to know what skills are available to it. Here we'll give it access to the `SummarizeSkill` and `WriterSkill` we have defined on disk. This will include many semantic functions, of which the planner will intelligently choose a subset. \n",
    "\n",
    "You can also include native functions as well. Here we'll add the TextSkill."
   ]
  },
  {
   "cell_type": "code",
   "execution_count": 3,
   "id": "ca0e7604",
   "metadata": {},
   "outputs": [],
   "source": [
    "from semantic_kernel.core_skills.text_skill import TextSkill\n",
    "\n",
    "skills_directory = \"../../skills/\"\n",
    "summarize_skill = kernel.import_semantic_skill_from_directory(skills_directory, \"SummarizeSkill\")\n",
    "writer_skill = kernel.import_semantic_skill_from_directory(skills_directory, \"WriterSkill\")\n",
    "text_skill = kernel.import_skill(TextSkill(), \"TextSkill\")"
   ]
  },
  {
   "cell_type": "markdown",
   "id": "deff5675",
   "metadata": {},
   "source": [
    "Define your ASK. What do you want the Kernel to do?"
   ]
  },
  {
   "cell_type": "markdown",
   "id": "eee6fe7b",
   "metadata": {},
   "source": [
    "# Basic Planner"
   ]
  },
  {
   "cell_type": "markdown",
   "id": "590a22f2",
   "metadata": {},
   "source": [
    " Let's start by taking a look at a basic planner. The `BasicPlanner` produces a JSON-based plan that aims to solve the provided ask sequentially and evaluated in order."
   ]
  },
  {
   "cell_type": "code",
   "execution_count": 4,
   "id": "20d35ed0",
   "metadata": {},
   "outputs": [],
   "source": [
    "from semantic_kernel.planning.basic_planner import BasicPlanner\n",
    "planner = BasicPlanner()"
   ]
  },
  {
   "cell_type": "code",
   "execution_count": 5,
   "id": "d5697c09",
   "metadata": {},
   "outputs": [],
   "source": [
    "basic_plan = await planner.create_plan_async(ask, kernel)"
   ]
  },
  {
   "cell_type": "code",
   "execution_count": 7,
   "id": "b425ba1e",
   "metadata": {},
   "outputs": [
    {
     "name": "stdout",
     "output_type": "stream",
     "text": [
      "{\n",
      "    \"input\": \"Valentine's Day Date Ideas\",\n",
      "    \"subtasks\": [\n",
      "        {\"function\": \"WriterSkill.Brainstorm\"},\n",
      "        {\"function\": \"WriterSkill.EmailTo\", \"args\": {\"recipient\": \"significant_other\"}},\n",
      "        {\"function\": \"WriterSkill.Translate\", \"args\": {\"language\": \"French\"}},\n",
      "        {\"function\": \"TextSkill.uppercase\"}\n",
      "    ]\n",
      "}\n"
     ]
    }
   ],
   "source": [
    "print(basic_plan.generated_plan)"
   ]
  },
  {
   "cell_type": "markdown",
   "id": "0f3a48f8",
   "metadata": {},
   "source": [
    "You can see that the Planner took my ask and converted it into an JSON-based plan detailing how the AI would go about solving this task, making use of the skills that the Kernel has available to it.\n",
    "\n",
    "As you can see in the above plan, the AI has determined which functions to call in order to fulfill the user ask. The output of each step of the plan becomes the input to the next function."
   ]
  },
  {
   "cell_type": "markdown",
   "id": "cd4df0c2",
   "metadata": {},
   "source": [
    "Let's also define an inline skill and have it be available to the Planner. Be sure to give it a function name and skill name."
   ]
  },
  {
   "cell_type": "code",
   "execution_count": 8,
   "id": "54422ba6",
   "metadata": {},
   "outputs": [],
   "source": [
    "sk_prompt = \"\"\"\n",
    "{{$input}}\n",
    "\n",
    "Rewrite the above in the style of Shakespeare.\n",
    "\"\"\"\n",
    "shakespeareFunction = kernel.create_semantic_function(sk_prompt, \"shakespeare\", \"ShakespeareSkill\",\n",
    "                                                      max_tokens=2000, temperature=0.8)"
   ]
  },
  {
   "cell_type": "markdown",
   "id": "5057cf9b",
   "metadata": {},
   "source": [
    "Let's update our ask using this new skill"
   ]
  },
  {
   "cell_type": "code",
   "execution_count": 9,
   "id": "a3161dcf",
   "metadata": {},
   "outputs": [],
   "source": [
    "ask = \"\"\"\n",
    "Tomorrow is Valentine's day. I need to come up with a few date ideas.\n",
    "She likes Shakespeare so write using his style. She speaks French so write it in French.\n",
    "Convert the text to uppercase.\"\"\"\n",
    "\n",
    "new_plan = await planner.create_plan_async(ask, kernel)"
   ]
  },
  {
   "cell_type": "code",
   "execution_count": 10,
   "id": "997462e8",
   "metadata": {},
   "outputs": [
    {
     "name": "stdout",
     "output_type": "stream",
     "text": [
      "{\n",
      "    \"input\": \"Valentine's Day Date Ideas\",\n",
      "    \"subtasks\": [\n",
      "        {\"function\": \"WriterSkill.Brainstorm\"},\n",
      "        {\"function\": \"ShakespeareSkill.shakespeare\"},\n",
      "        {\"function\": \"WriterSkill.EmailTo\", \"args\": {\"recipient\": \"significant_other\"}},\n",
      "        {\"function\": \"WriterSkill.Translate\", \"args\": {\"language\": \"French\"}},\n",
      "        {\"function\": \"TextSkill.uppercase\"}\n",
      "    ]\n",
      "}\n"
     ]
    }
   ],
   "source": [
    "print(new_plan.generated_plan)"
   ]
  },
  {
   "cell_type": "markdown",
   "id": "b67a052e",
   "metadata": {},
   "source": [
    "### Executing the plan"
   ]
  },
  {
   "cell_type": "markdown",
   "id": "3b839c90",
   "metadata": {},
   "source": [
    "Now that we have a plan, let's try to execute it! The Planner has a function called `execute_plan`."
   ]
  },
  {
   "cell_type": "code",
   "execution_count": 11,
   "id": "9384831a",
   "metadata": {},
   "outputs": [],
   "source": [
    "results = await planner.execute_plan_async(new_plan, kernel)"
   ]
  },
  {
   "cell_type": "code",
   "execution_count": 12,
   "id": "9192b186",
   "metadata": {},
   "outputs": [
    {
     "name": "stdout",
     "output_type": "stream",
     "text": [
      "ASSUREZ-VOUS D'UTILISER UNIQUEMENT LE FRANÇAIS.\n",
      "\n",
      "BONJOUR,\n",
      "\n",
      "JE VOULAIS PARTAGER QUELQUES IDÉES D'ACTIVITÉS ROMANTIQUES QUE VOUS ET VOTRE PARTENAIRE POURRIEZ APPRÉCIER.\n",
      "\n",
      "1. VOUS POURRIEZ AVOIR UN DÎNER CHARMANT DANS UN RESTAURANT CHIC, AVEC DES BOUGIES ET DE DÉLICIEUX PLATS.\n",
      "2. ALTERNATIVEMENT, VOUS POURRIEZ PRÉPARER UN PIQUE-NIQUE ET VOUS RENDRE DANS UN BEAU PARC POUR UNE JOURNÉE DE DÉTENTE ET D'AIR FRAIS.\n",
      "3. SI VOUS PRÉFÉREZ UNE SOIRÉE CONFORTABLE À LA MAISON, VOUS POURRIEZ REGARDER UN FILM ENSEMBLE ET PRÉPARER DES COLLATIONS MAISON.\n",
      "4. POUR UNE EXPÉRIENCE PLUS INDULGENTE, VOUS POURRIEZ RÉSERVER UNE JOURNÉE DANS UN SPA ET PROFITER DE SOINS ENSEMBLE.\n",
      "5. SI VOUS ÊTES D'HUMEUR AVENTUREUSE, VOUS POURRIEZ ESSAYER DE PRENDRE UN COURS DE DANSE ENSEMBLE.\n",
      "6. UNE AUTRE OPTION EXCITANTE POURRAIT ÊTRE UN VOL EN MONTGOLFIÈRE, OÙ VOUS POURREZ ADMIRER DES VUES À COUPER LE SOUFFLE D'EN HAUT.\n",
      "7. SI VOUS AIMEZ TOUS LES DEUX LA NATURE, VOUS POURRIEZ FAIRE UNE RANDONNÉE PITTORESQUE ENSEMBLE.\n",
      "8. POUR UNE SOIRÉE AMUSANTE, VOUS POURRIEZ ASSISTER À UN SPECTACLE OU UN CONCERT ET PROFITER DE DIVERTISSEMENTS ENSEMBLE.\n",
      "9. SI VOUS ÊTES AMATEURS DE VIN, VOUS POURRIEZ VISITER DES VIGNOBLES À PROXIMITÉ ET FAIRE DES DÉGUSTATIONS DE VIN.\n",
      "10. ENFIN, VOUS POURRIEZ CUISINER UN REPAS ENSEMBLE À LA MAISON ET PROFITER DE LA COMPAGNIE DE L'AUTRE DANS UN CADRE CONFORTABLE.\n",
      "\n",
      "J'ESPÈRE QUE CES IDÉES VOUS INSPIRERONT, VOUS ET VOTRE PARTENAIRE, À PASSER UN MERVEILLEUX MOMENT ENSEMBLE.\n",
      "\n",
      "CORDIALEMENT,\n"
     ]
    }
   ],
   "source": [
    "print(results)"
   ]
  },
  {
   "cell_type": "markdown",
   "id": "e8a9b6b7",
   "metadata": {},
   "source": [
    "# The Plan Object Model"
   ]
  },
  {
   "cell_type": "markdown",
   "id": "e50f8859",
   "metadata": {},
   "source": [
    "To build more advanced planners, we need to introduce a proper Plan object that can contain all the necessary state and information needed for high quality plans.\n",
    "\n",
    "To see what that object model is, look at (https://github.com/microsoft/semantic-kernel/blob/main/python/semantic_kernel/planning/plan.py)"
   ]
  },
  {
   "cell_type": "markdown",
   "id": "0a0cb2a2",
   "metadata": {},
   "source": [
    "# Sequential Planner"
   ]
  },
  {
   "cell_type": "markdown",
   "id": "a1c66d83",
   "metadata": {},
   "source": [
    "The sequential planner is an XML-based step-by-step planner. You can see the prompt used for it here (https://github.com/microsoft/semantic-kernel/blob/main/python/semantic_kernel/planning/sequential_planner/Skills/SequentialPlanning/skprompt.txt)"
   ]
  },
  {
   "cell_type": "code",
   "execution_count": 18,
   "id": "e2e90624",
   "metadata": {},
   "outputs": [],
   "source": [
    "from semantic_kernel.planning import SequentialPlanner\n",
    "planner = SequentialPlanner(kernel)"
   ]
  },
  {
   "cell_type": "code",
   "execution_count": 14,
   "id": "0d537981",
   "metadata": {},
   "outputs": [],
   "source": [
    "sequential_plan = await planner.create_plan_async(goal=ask)"
   ]
  },
  {
   "cell_type": "markdown",
   "id": "a484ff7c",
   "metadata": {},
   "source": [
    "To see the steps that the Sequential Planner will take, we can iterate over them and print their descriptions"
   ]
  },
  {
   "cell_type": "code",
   "execution_count": 15,
   "id": "e7007418",
   "metadata": {},
   "outputs": [
    {
     "name": "stdout",
     "output_type": "stream",
     "text": [
      "Given a goal or topic description generate a list of ideas : {'_variables': {'input': ''}, '_main_key': 'input'}\n",
      "Translate the input into a language of your choice : {'_variables': {'input': ''}, '_main_key': 'input'}\n",
      "Turn a scenario into a short and entertaining poem. : {'_variables': {'input': ''}, '_main_key': 'input'}\n",
      "Convert a string to uppercase. : {'_variables': {'input': ''}, '_main_key': 'input'}\n",
      "Turn bullet points into an email to someone, using a polite tone : {'_variables': {'input': ''}, '_main_key': 'input'}\n"
     ]
    }
   ],
   "source": [
    "for step in sequential_plan._steps:\n",
    "    print(step.description, \":\", step._state.__dict__)"
   ]
  },
  {
   "cell_type": "markdown",
   "id": "845c9fdc",
   "metadata": {},
   "source": [
    "Let's ask the sequential planner to execute the plan."
   ]
  },
  {
   "cell_type": "code",
   "execution_count": 16,
   "id": "88411884",
   "metadata": {},
   "outputs": [],
   "source": [
    "result = await sequential_plan.invoke_async()"
   ]
  },
  {
   "cell_type": "code",
   "execution_count": 17,
   "id": "36d27aa0",
   "metadata": {},
   "outputs": [
    {
     "name": "stdout",
     "output_type": "stream",
     "text": [
      "Hello,\n",
      "\n",
      "I wanted to share some date ideas for Valentine's Day that you might enjoy. These include a romantic dinner at a fancy restaurant, a picnic in the park, a movie night at home, a couples massage at a spa, a sunset walk on the beach, wine tasting at a vineyard, a cooking class together, ice skating or roller skating, a hot air balloon ride, and a visit to a museum or art gallery.\n",
      "\n",
      "To add a little extra flair, I've also included some Shakespearean poems to go with each idea. For example, if you choose to have a fancy dinner, you might appreciate this poem: \"A fancy dinner, oh so divine, but my date's garlic breath, not so fine. I tried to ignore, but it made my eyes water, next time, I'll suggest Italian, with wine.\"\n",
      "\n",
      "Additionally, I've translated the date ideas into French and put them in uppercase for your convenience.\n",
      "\n",
      "I hope you find these ideas helpful and enjoyable!\n",
      "\n",
      "Best regards,\n",
      "[Sender]\n"
     ]
    }
   ],
   "source": [
    "print(result)"
   ]
  },
  {
   "cell_type": "markdown",
   "id": "4e996029",
   "metadata": {},
   "source": [
    "# Action Planner"
   ]
  },
  {
   "cell_type": "markdown",
   "id": "0d0f33c1",
   "metadata": {},
   "source": [
    "The action planner takes in a list of functions and the goal, and outputs a **single** function to use that is appropriate to meet that goal."
   ]
  },
  {
   "cell_type": "code",
   "execution_count": 19,
   "id": "02fa4b19",
   "metadata": {},
   "outputs": [],
   "source": [
    "from semantic_kernel.planning import ActionPlanner\n",
    "planner = ActionPlanner(kernel)"
   ]
  },
  {
   "cell_type": "markdown",
   "id": "411b9819",
   "metadata": {},
   "source": [
    "Let's add more skills to the kernel"
   ]
  },
  {
   "cell_type": "code",
   "execution_count": 20,
   "id": "918f8e84",
   "metadata": {},
   "outputs": [
    {
     "data": {
      "text/plain": [
       "{'lowercase': <semantic_kernel.orchestration.sk_function.SKFunction at 0x23be5301d20>,\n",
       " 'trim': <semantic_kernel.orchestration.sk_function.SKFunction at 0x23be5301e10>,\n",
       " 'trim_end': <semantic_kernel.orchestration.sk_function.SKFunction at 0x23be53024d0>,\n",
       " 'trim_start': <semantic_kernel.orchestration.sk_function.SKFunction at 0x23be5370280>,\n",
       " 'uppercase': <semantic_kernel.orchestration.sk_function.SKFunction at 0x23be53704c0>}"
      ]
     },
     "execution_count": 20,
     "metadata": {},
     "output_type": "execute_result"
    }
   ],
   "source": [
    "from semantic_kernel.core_skills import FileIOSkill, MathSkill, TextSkill, TimeSkill\n",
    "kernel.import_skill(MathSkill(), \"math\")\n",
    "kernel.import_skill(FileIOSkill(), \"fileIO\")\n",
    "kernel.import_skill(TimeSkill(), \"time\")\n",
    "kernel.import_skill(TextSkill(), \"text\")"
   ]
  },
  {
   "cell_type": "code",
   "execution_count": 21,
   "id": "cef102a9",
   "metadata": {},
   "outputs": [],
   "source": [
    " ask = \"What is the sum of 110 and 990?\""
   ]
  },
  {
   "cell_type": "code",
   "execution_count": 22,
   "id": "6bb38066",
   "metadata": {},
   "outputs": [],
   "source": [
    "plan = await planner.create_plan_async(goal=ask)"
   ]
  },
  {
   "cell_type": "code",
   "execution_count": 23,
   "id": "ae1e871e",
   "metadata": {},
   "outputs": [],
   "source": [
    " result = await plan.invoke_async()"
   ]
  },
  {
   "cell_type": "code",
   "execution_count": 24,
   "id": "2c0e401a",
   "metadata": {},
   "outputs": [
    {
     "name": "stdout",
     "output_type": "stream",
     "text": [
      "1100\n"
     ]
    }
   ],
   "source": [
    "print(result)"
   ]
  }
 ],
 "metadata": {
  "kernelspec": {
   "display_name": "Python 3 (ipykernel)",
   "language": "python",
   "name": "python3"
  },
  "language_info": {
   "codemirror_mode": {
    "name": "ipython",
    "version": 3
   },
   "file_extension": ".py",
   "mimetype": "text/x-python",
   "name": "python",
   "nbconvert_exporter": "python",
   "pygments_lexer": "ipython3",
   "version": "3.10.11"
  }
 },
 "nbformat": 4,
 "nbformat_minor": 5
}
