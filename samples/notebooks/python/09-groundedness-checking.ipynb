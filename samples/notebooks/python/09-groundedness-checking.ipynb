{
 "cells": [
  {
   "cell_type": "markdown",
   "id": "f5c76c5f",
   "metadata": {},
   "source": [
    "# Groundedness Checking Skills\n",
    "\n",
    "In this notebook we run a simple grounding pipeline, to see if a summary text has any ungrounded additions as compared to the original.\n",
    "\n",
    "Let us first define our grounding text:"
   ]
  },
  {
   "cell_type": "code",
   "execution_count": 1,
   "id": "23b26e2f",
   "metadata": {},
   "outputs": [],
   "source": [
    "grounding_text = \"\"\"I am by birth a Genevese, and my family is one of the most distinguished of that republic.\n",
    "My ancestors had been for many years counsellors and syndics, and my father had filled several public situations\n",
    "with honour and reputation. He was respected by all who knew him for his integrity and indefatigable attention\n",
    "to public business. He passed his younger days perpetually occupied by the affairs of his country; a variety\n",
    "of circumstances had prevented his marrying early, nor was it until the decline of life that he became a husband\n",
    "and the father of a family.\n",
    "\n",
    "As the circumstances of his marriage illustrate his character, I cannot refrain from relating them. One of his\n",
    "most intimate friends was a merchant who, from a flourishing state, fell, through numerous mischances, into poverty.\n",
    "This man, whose name was Beaufort, was of a proud and unbending disposition and could not bear to live in poverty\n",
    "and oblivion in the same country where he had formerly been distinguished for his rank and magnificence. Having\n",
    "paid his debts, therefore, in the most honourable manner, he retreated with his daughter to the town of Lucerne,\n",
    "where he lived unknown and in wretchedness. My father loved Beaufort with the truest friendship and was deeply\n",
    "grieved by his retreat in these unfortunate circumstances. He bitterly deplored the false pride which led his friend\n",
    "to a conduct so little worthy of the affection that united them. He lost no time in endeavouring to seek him out,\n",
    "with the hope of persuading him to begin the world again through his credit and assistance.\n",
    "\n",
    "Beaufort had taken effectual measures to conceal himself, and it was ten months before my father discovered his\n",
    "abode. Overjoyed at this discovery, he hastened to the house, which was situated in a mean street near the Reuss.\n",
    "But when he entered, misery and despair alone welcomed him. Beaufort had saved but a very small sum of money from\n",
    "the wreck of his fortunes, but it was sufficient to provide him with sustenance for some months, and in the meantime\n",
    "he hoped to procure some respectable employment in a merchant's house. The interval was, consequently, spent in\n",
    "inaction; his grief only became more deep and rankling when he had leisure for reflection, and at length it took\n",
    "so fast hold of his mind that at the end of three months he lay on a bed of sickness, incapable of any exertion.\n",
    "\n",
    "His daughter attended him with the greatest tenderness, but she saw with despair that their little fund was\n",
    "rapidly decreasing and that there was no other prospect of support. But Caroline Beaufort possessed a mind of an\n",
    "uncommon mould, and her courage rose to support her in her adversity. She procured plain work; she plaited straw\n",
    "and by various means contrived to earn a pittance scarcely sufficient to support life.\n",
    "\n",
    "Several months passed in this manner. Her father grew worse; her time was more entirely occupied in attending him;\n",
    "her means of subsistence decreased; and in the tenth month her father died in her arms, leaving her an orphan and\n",
    "a beggar. This last blow overcame her, and she knelt by Beaufort's coffin weeping bitterly, when my father entered\n",
    "the chamber. He came like a protecting spirit to the poor girl, who committed herself to his care; and after the\n",
    "interment of his friend he conducted her to Geneva and placed her under the protection of a relation. Two years\n",
    "after this event Caroline became his wife.\"\"\""
   ]
  },
  {
   "cell_type": "markdown",
   "id": "73f4abc1",
   "metadata": {},
   "source": [
    "## Set up Semantic Kernel\n",
    "\n",
    "We prepare our kernel in the usual way:"
   ]
  },
  {
   "cell_type": "code",
   "execution_count": 2,
   "id": "e13d3519",
   "metadata": {},
   "outputs": [],
   "source": [
    "import semantic_kernel as sk\n",
    "from semantic_kernel.connectors.ai.open_ai import AzureTextCompletion, OpenAITextCompletion\n",
    "\n",
    "kernel = sk.Kernel()\n",
    "\n",
    "useAzureOpenAI = True\n",
    "\n",
    "# Configure AI service used by the kernel\n",
    "if useAzureOpenAI:\n",
    "    deployment, api_key, endpoint = sk.azure_openai_settings_from_dot_env()\n",
    "    kernel.add_text_completion_service(\"dv\", AzureTextCompletion(deployment, endpoint, api_key))\n",
    "else:\n",
    "    api_key, org_id = sk.openai_settings_from_dot_env()\n",
    "    kernel.add_text_completion_service(\"dv\", OpenAITextCompletion(\"text-davinci-003\", api_key, org_id))"
   ]
  },
  {
   "cell_type": "markdown",
   "id": "0c65f786",
   "metadata": {},
   "source": [
    "## Import the Skills\n",
    "\n",
    "We are going to be using the grounding skill, to check its quality, and remove ungrounded additions:"
   ]
  },
  {
   "cell_type": "code",
   "execution_count": 3,
   "id": "56ed7688",
   "metadata": {},
   "outputs": [],
   "source": [
    "from semantic_kernel.core_skills.text_skill import TextSkill\n",
    "\n",
    "# note: using skills from the samples folder\n",
    "skills_directory = \"../../skills\"\n",
    "\n",
    "groundingSemanticFunctions = kernel.import_semantic_skill_from_directory(skills_directory, \"GroundingSkill\")"
   ]
  },
  {
   "cell_type": "markdown",
   "id": "0d087993",
   "metadata": {},
   "source": [
    "We can also extract the individual semantic functions for our use:"
   ]
  },
  {
   "cell_type": "code",
   "execution_count": 4,
   "id": "738eb0ec",
   "metadata": {},
   "outputs": [],
   "source": [
    "entity_extraction = groundingSemanticFunctions[\"ExtractEntities\"]\n",
    "reference_check = groundingSemanticFunctions[\"ReferenceCheckEntities\"]\n",
    "entity_excision = groundingSemanticFunctions[\"ExciseEntities\"]"
   ]
  },
  {
   "cell_type": "markdown",
   "id": "e5bda16e",
   "metadata": {},
   "source": [
    "## Calling Individual Semantic Functions\n",
    "\n",
    "We will start by calling the individual grounding functions in turn, to show their use. For this we need to create a same summary text:"
   ]
  },
  {
   "cell_type": "code",
   "execution_count": 5,
   "id": "c9a872f6",
   "metadata": {},
   "outputs": [
    {
     "name": "stdout",
     "output_type": "stream",
     "text": [
      " My father, a respected resident of Milan, was a close friend of a merchant named Beaufort who, after a series of misfortunes, moved to Zurich in poverty. My father was upset by his friend's troubles and sought him out, finding him in a mean street. Beaufort had saved a small sum of money, but it was not enough to support him and his daughter, Mary. Mary procured work to eek out a living, but after ten months her father died, leaving her a beggar. My father came to her aid and two years later they married when they visited Rome. \n"
     ]
    }
   ],
   "source": [
    "summary_text = \"\"\"\n",
    "My father, a respected resident of Milan, was a close friend of a merchant named Beaufort who, after a series of\n",
    "misfortunes, moved to Zurich in poverty. My father was upset by his friend's troubles and sought him out,\n",
    "finding him in a mean street. Beaufort had saved a small sum of money, but it was not enough to support him and\n",
    "his daughter, Mary. Mary procured work to eek out a living, but after ten months her father died, leaving\n",
    "her a beggar. My father came to her aid and two years later they married when they visited Rome.\n",
    "\"\"\"\n",
    "\n",
    "summary_text = summary_text.replace(\"\\n\", \" \").replace(\"  \", \" \")\n",
    "print(summary_text)"
   ]
  },
  {
   "cell_type": "markdown",
   "id": "2a41eccb",
   "metadata": {},
   "source": [
    "Some things to note:\n",
    "\n",
    "- The implied residence of Geneva has been changed to Milan\n",
    "- Lucerne has been changed to Zurich\n",
    "- Caroline has been renamed as Mary\n",
    "- A reference to Rome has been added\n",
    "\n",
    "\n",
    "The grounding skill has three stages:\n",
    "\n",
    "1. Extract entities from a summary text\n",
    "2. Perform a reference check against the grounding text\n",
    "3. Excise any entities which failed the reference check from the summary\n",
    "\n",
    "Now, let us start calling individual semantic functions."
   ]
  },
  {
   "cell_type": "markdown",
   "id": "4e435b18",
   "metadata": {},
   "source": [
    "### Preparing the Context\n",
    "\n",
    "Semantic functions operate in a context, which provides extra parameters for their operation. For the grounding skill, the context is expected to supply the topic for the reference checking, and some particular examples of them:"
   ]
  },
  {
   "cell_type": "code",
   "execution_count": 6,
   "id": "60aa6fa0",
   "metadata": {},
   "outputs": [],
   "source": [
    "context = kernel.create_new_context()\n",
    "context[\"topic\"] = \"people and places\"\n",
    "context[\"example_entities\"] = \"John, Jane, mother, brother, Paris, Rome\""
   ]
  },
  {
   "cell_type": "markdown",
   "id": "071c05e4",
   "metadata": {},
   "source": [
    "### Extracting the Entities\n",
    "\n",
    "The first function we need is entity extraction. We are going to take our summary text, and get a list of entities found within it. For this we use `entity_extraction()`:"
   ]
  },
  {
   "cell_type": "code",
   "execution_count": 7,
   "id": "c1d4b7ff",
   "metadata": {},
   "outputs": [
    {
     "name": "stdout",
     "output_type": "stream",
     "text": [
      "render_async: # Task Description\n",
      "\n",
      "1. Please extract a list of entities related to people and places from the text between the <input_context> tags.\n",
      "2. These are some sample entities related to people and places to help you decide what to extract: John, Jane, mother, brother, Paris, Rome\n",
      "3. The list in (2) is provided to help you decide which entities to extract, but you may choose to include entities which are related to people and places but which are not listed in (2).\n",
      "4. As the first part of your response, generate a bulleted list of each of the items in (1) together with an explanation of what they are.\n",
      "5. Go over each item in your bulleted list and read the explanation of what it is. Keep items which are related to people and places\n",
      "6. Go over each item in your bulleted list and verify that it appears between the <input_context> tags.\n",
      "7. Go over each item in your bulleted list and check for duplicates. Keep only one example of each. Duplicates may be:\n",
      "    - Abbreviations\n",
      "    - Reuse as adjectives\n",
      "    - Plurals and related changes\n",
      "8. Return the bulleted list of entities between <entities> and </entities>.\n",
      "\n",
      "# Examples\n",
      "\n",
      "## Example 1\n",
      "\n",
      "In the following example, the task is to extract entities related to food, with 'apple' and 'lime' as examples:\n",
      "\n",
      "<input_context>\n",
      "Oranges and lemons,\n",
      "Say the bells of St. Clement's.\n",
      "\n",
      "You owe me five farthings,\n",
      "Say the bells of St. Martin's.\n",
      "</input_context>\n",
      "\n",
      "Response:\n",
      "<entities>\n",
      "- Orange\n",
      "- Lemon\n",
      "</entities>\n",
      "\n",
      "## Example 2\n",
      "\n",
      "In the following example, the task was to extract entities related to animals, with 'fish' and 'goat' as examples:\n",
      "\n",
      "<input_context>\n",
      "Belinda lived in a little white house,\n",
      "With a little black kitten and a little gray mouse,\n",
      "And a little yellow dog and a little red wagon,\n",
      "And a realio, trulio, little pet dragon\n",
      "</input_context>\n",
      "\n",
      "Response:\n",
      "<entities>\n",
      "- kitten\n",
      "- mouse\n",
      "- dog\n",
      "- dragon\n",
      "</entities>\n",
      "\n",
      "# Task\n",
      "\n",
      "Extract entities related to people and places from the following context. Produce a bulleted list of entities between <entities> and </entities>.\n",
      "\n",
      "<input_context>\n",
      " My father, a respected resident of Milan, was a close friend of a merchant named Beaufort who, after a series of misfortunes, moved to Zurich in poverty. My father was upset by his friend's troubles and sought him out, finding him in a mean street. Beaufort had saved a small sum of money, but it was not enough to support him and his daughter, Mary. Mary procured work to eek out a living, but after ten months her father died, leaving her a beggar. My father came to her aid and two years later they married when they visited Rome. \n",
      "</input_context>\n",
      "\n",
      "Response:\n",
      "\n",
      "<entities>\n",
      "- Milan\n",
      "- Beaufort\n",
      "- Zurich\n",
      "- Mary\n",
      "- Rome\n",
      "</entities>\n"
     ]
    }
   ],
   "source": [
    "extraction_result = entity_extraction(summary_text, context=context)\n",
    "\n",
    "print(extraction_result.result)"
   ]
  },
  {
   "cell_type": "markdown",
   "id": "b93c661f",
   "metadata": {},
   "source": [
    "So we have our list of entities in the summary"
   ]
  },
  {
   "cell_type": "markdown",
   "id": "958ad1ff",
   "metadata": {},
   "source": [
    "### Performing the reference check\n",
    "\n",
    "We now use the grounding text to see if the entities we found are grounded. We start by adding the grounding text to our context:"
   ]
  },
  {
   "cell_type": "code",
   "execution_count": 8,
   "id": "16cef37a",
   "metadata": {},
   "outputs": [],
   "source": [
    "context[\"reference_context\"] = grounding_text"
   ]
  },
  {
   "cell_type": "markdown",
   "id": "894e38d7",
   "metadata": {},
   "source": [
    "With this in place, we can run the reference checking function. This will use both the `reference_context` and the `entities` from the context object:"
   ]
  },
  {
   "cell_type": "code",
   "execution_count": 9,
   "id": "d240d669",
   "metadata": {},
   "outputs": [
    {
     "name": "stdout",
     "output_type": "stream",
     "text": [
      "render_async: # Task Description\n",
      "\n",
      "1. Go over each item in the list between the <entities> tags and for each item, read through the data between the <grounding_context> tags and determine if each item is grounded in any of the data between the <grounding_context> tags. Be sure to consider all of the reference items.\n",
      "2. When looking for references to the items in (1) look for re-phrasings, alternate names or equivalent meanings in the context in addition to exact matches\n",
      "3. Create a bulleted list of the items in (1) together with an explanation of whether or not they were referred to in the context, making sure to consider step (2) where you note down references in the form of re-phrasings, alternate names or equivalent meanings in the context, as well as exact matches.\n",
      "4. Split the list into two sub-lists, those items which are referenced in the <grounding_context> (these are 'grounded') and those which are not (these are 'ungrounded').\n",
      "5. Make one last pass over the two lists from (4) and make sure that they are in the list of items between the <entities> tags, drop them otherwise.\n",
      "6. Write out the list of ungrounded items between <ungrounded_entities> and </ungrounded_entities> tags\n",
      "\n",
      "\n",
      "# Examples\n",
      "\n",
      "The following examples are to help you with this task.\n",
      "\n",
      "## Example 1\n",
      "\n",
      "<entities>\n",
      "- kitten\n",
      "- mouse\n",
      "- dog\n",
      "- dragon\n",
      "- whale\n",
      "</entities>\n",
      "\n",
      "<grounding_context>\n",
      "Belinda lived in house. She owned a wagon, was friends with a cat,\n",
      "and also had a pet dragon.\n",
      "</grounding_context>\n",
      "\n",
      "Response:\n",
      "<ungrounded_entities>\n",
      "- mouse\n",
      "- dog\n",
      "- whale\n",
      "</ungrounded_entities>\n",
      "\n",
      "\n",
      "## Example 2\n",
      "\n",
      "<entities>\n",
      "- New York\n",
      "- Train\n",
      "- Chicago\n",
      "- Lake Michigan\n",
      "</entities>\n",
      "\n",
      "<grounding_context>\n",
      "I drove my car from Denver to Chicago, concluding my ride on the\n",
      "shore of Lake Michigan.\n",
      "</grounding_context>\n",
      "\n",
      "Response:\n",
      "<ungrounded_entities>\n",
      "- New York\n",
      "- Train\n",
      "</ungrounded_entities>\n",
      "\n",
      "# Task\n",
      "\n",
      "Below are the <entities>, and the <grounding_context>. Respond with the <ungrounded_entities>:\n",
      "\n",
      "<entities>\n",
      "- Milan\n",
      "- Beaufort\n",
      "- Zurich\n",
      "- Mary\n",
      "- Rome\n",
      "</entities>\n",
      "\n",
      "<grounding_context>\n",
      "I am by birth a Genevese, and my family is one of the most distinguished of that republic.\n",
      "My ancestors had been for many years counsellors and syndics, and my father had filled several public situations\n",
      "with honour and reputation. He was respected by all who knew him for his integrity and indefatigable attention\n",
      "to public business. He passed his younger days perpetually occupied by the affairs of his country; a variety\n",
      "of circumstances had prevented his marrying early, nor was it until the decline of life that he became a husband\n",
      "and the father of a family.\n",
      "\n",
      "As the circumstances of his marriage illustrate his character, I cannot refrain from relating them. One of his\n",
      "most intimate friends was a merchant who, from a flourishing state, fell, through numerous mischances, into poverty.\n",
      "This man, whose name was Beaufort, was of a proud and unbending disposition and could not bear to live in poverty\n",
      "and oblivion in the same country where he had formerly been distinguished for his rank and magnificence. Having\n",
      "paid his debts, therefore, in the most honourable manner, he retreated with his daughter to the town of Lucerne,\n",
      "where he lived unknown and in wretchedness. My father loved Beaufort with the truest friendship and was deeply\n",
      "grieved by his retreat in these unfortunate circumstances. He bitterly deplored the false pride which led his friend\n",
      "to a conduct so little worthy of the affection that united them. He lost no time in endeavouring to seek him out,\n",
      "with the hope of persuading him to begin the world again through his credit and assistance.\n",
      "\n",
      "Beaufort had taken effectual measures to conceal himself, and it was ten months before my father discovered his\n",
      "abode. Overjoyed at this discovery, he hastened to the house, which was situated in a mean street near the Reuss.\n",
      "But when he entered, misery and despair alone welcomed him. Beaufort had saved but a very small sum of money from\n",
      "the wreck of his fortunes, but it was sufficient to provide him with sustenance for some months, and in the meantime\n",
      "he hoped to procure some respectable employment in a merchant's house. The interval was, consequently, spent in\n",
      "inaction; his grief only became more deep and rankling when he had leisure for reflection, and at length it took\n",
      "so fast hold of his mind that at the end of three months he lay on a bed of sickness, incapable of any exertion.\n",
      "\n",
      "His daughter attended him with the greatest tenderness, but she saw with despair that their little fund was\n",
      "rapidly decreasing and that there was no other prospect of support. But Caroline Beaufort possessed a mind of an\n",
      "uncommon mould, and her courage rose to support her in her adversity. She procured plain work; she plaited straw\n",
      "and by various means contrived to earn a pittance scarcely sufficient to support life.\n",
      "\n",
      "Several months passed in this manner. Her father grew worse; her time was more entirely occupied in attending him;\n",
      "her means of subsistence decreased; and in the tenth month her father died in her arms, leaving her an orphan and\n",
      "a beggar. This last blow overcame her, and she knelt by Beaufort's coffin weeping bitterly, when my father entered\n",
      "the chamber. He came like a protecting spirit to the poor girl, who committed herself to his care; and after the\n",
      "interment of his friend he conducted her to Geneva and placed her under the protection of a relation. Two years\n",
      "after this event Caroline became his wife.\n",
      "</grounding_context>\n",
      "\n",
      "Response:\n",
      "\n",
      "<ungrounded_entities>\n",
      "- Milan\n",
      "- Zurich\n",
      "- Mary\n",
      "- Rome\n",
      "</ungrounded_entities>\n"
     ]
    }
   ],
   "source": [
    "grounding_result = reference_check(extraction_result.result, context=context)\n",
    "\n",
    "print(grounding_result.result)"
   ]
  },
  {
   "cell_type": "markdown",
   "id": "9a83c66f",
   "metadata": {},
   "source": [
    "So we now have a list of ungrounded entities (of course, this list may not be well grounded itself). Let us store this in the context:"
   ]
  },
  {
   "cell_type": "code",
   "execution_count": null,
   "id": "8a2bf776",
   "metadata": {},
   "outputs": [],
   "source": [
    "context[\"ungrounded_entities\"] = grounding_result.result"
   ]
  },
  {
   "cell_type": "markdown",
   "id": "35c1c329",
   "metadata": {},
   "source": [
    "### Excising the ungrounded entities\n",
    "\n",
    "Finally we can remove the ungrounded entities from the text:"
   ]
  },
  {
   "cell_type": "code",
   "execution_count": null,
   "id": "db82d97d",
   "metadata": {},
   "outputs": [],
   "source": [
    "excision_result = entity_excision(summary_text, context=context)\n",
    "\n",
    "print(excision_result.result)"
   ]
  },
  {
   "cell_type": "code",
   "execution_count": null,
   "id": "094cd2ea",
   "metadata": {},
   "outputs": [],
   "source": [
    "type(entity_excision._function)"
   ]
  },
  {
   "cell_type": "code",
   "execution_count": null,
   "id": "bc388f2c",
   "metadata": {},
   "outputs": [],
   "source": []
  }
 ],
 "metadata": {
  "kernelspec": {
   "display_name": "Python 3 (ipykernel)",
   "language": "python",
   "name": "python3"
  },
  "language_info": {
   "codemirror_mode": {
    "name": "ipython",
    "version": 3
   },
   "file_extension": ".py",
   "mimetype": "text/x-python",
   "name": "python",
   "nbconvert_exporter": "python",
   "pygments_lexer": "ipython3",
   "version": "3.11.3"
  }
 },
 "nbformat": 4,
 "nbformat_minor": 5
}
