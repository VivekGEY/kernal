{
 "cells": [
  {
   "cell_type": "markdown",
   "id": "4e4d6a48",
   "metadata": {},
   "source": [
    "# Basic Loading of the Kernel"
   ]
  },
  {
   "cell_type": "code",
   "execution_count": 1,
   "id": "d5f0dd5f",
   "metadata": {},
   "outputs": [],
   "source": [
    "import semantic_kernel as sk"
   ]
  },
  {
   "cell_type": "markdown",
   "id": "8cc10876",
   "metadata": {},
   "source": [
    "You can instantiate the kernel in a few ways, depending on your use case."
   ]
  },
  {
   "cell_type": "code",
   "execution_count": 2,
   "id": "c04cc137",
   "metadata": {},
   "outputs": [],
   "source": [
    "# Simple instance\n",
    "kernel_1 = sk.KernelBuilder.create_kernel()"
   ]
  },
  {
   "cell_type": "code",
   "execution_count": 3,
   "id": "efdd224a",
   "metadata": {},
   "outputs": [],
   "source": [
    "# Instance with a custom logger\n",
    "my_logger = sk.NullLogger()\n",
    "kernel_2 = (\n",
    "    sk.kernel_builder()\n",
    "    .with_logger(my_logger)\n",
    "    .build()\n",
    ")"
   ]
  },
  {
   "cell_type": "code",
   "execution_count": 4,
   "id": "6cd0eb2e",
   "metadata": {},
   "outputs": [],
   "source": [
    "# Instance with a custom configuration\n",
    "my_config = sk.KernelConfig()\n",
    "kernel_2 = (\n",
    "    sk.kernel_builder()\n",
    "    .with_configuration(my_config)\n",
    "    .build()\n",
    ")"
   ]
  },
  {
   "cell_type": "markdown",
   "id": "748e18cc",
   "metadata": {},
   "source": [
    "When using the kernel for AI requests, the kernel needs some settings like URL and credentials to the AI models.\n",
    "\n",
    "The SDK currently supports OpenAI and Azure OpenAI, other services will be added over time.\n",
    "\n",
    "If you need an Azure OpenAI key, go [here](https://learn.microsoft.com/en-us/azure/cognitive-services/openai/quickstart?pivots=rest-api)."
   ]
  },
  {
   "cell_type": "code",
   "execution_count": 6,
   "id": "a8e931ca",
   "metadata": {},
   "outputs": [
    {
     "data": {
      "text/plain": [
       "<semantic_kernel.configuration.kernel_config.KernelConfig at 0x7f87fbe98ca0>"
      ]
     },
     "execution_count": 6,
     "metadata": {},
     "output_type": "execute_result"
    }
   ],
   "source": [
    "kernel = sk.KernelBuilder.create_kernel()\n",
    "\n",
    "kernel.config.add_azure_openai_completion_backend(\n",
    "    \"Azure_curie\",                          # alias used in the prompt templates' config.json\n",
    "    \"my-finetuned-Curie\",                   # Azure OpenAI *Deployment ID*\n",
    "    \"https://contoso.openai.azure.com/\",    # Azure OpenAI *Endpoint*\n",
    "    \"...your Azure OpenAI Key...\"           # Azure OpenAI *Key*\n",
    ")\n",
    "\n",
    "kernel.config.add_openai_completion_backend(\n",
    "    \"OpenAI_davinci\",                       # alias used in the prompt templates' config.json\n",
    "    \"text-davinci-003\",                     # OpenAI Model Name\n",
    "    \"...your OpenAI API Key...\",            # OpenAI API key\n",
    "    \"...your OpenAI Org ID...\"              # *optional* OpenAI Organization ID\n",
    ")"
   ]
  },
  {
   "cell_type": "markdown",
   "id": "77b43eb5",
   "metadata": {},
   "source": [
    "When working with multiple backends and multiple models, the **first backend** defined\n",
    "is also the \"**default**\" used in these scenarios:\n",
    "\n",
    "* a prompt configuration doesn't specify which AI backend to use\n",
    "* a prompt configuration requires a backend unknown to the kernel\n",
    "\n",
    "The default can be set and changed programmatically:"
   ]
  },
  {
   "cell_type": "code",
   "execution_count": 7,
   "id": "99c712e0",
   "metadata": {},
   "outputs": [],
   "source": [
    "kernel.config.set_default_completion_backend(\"Azure_curie\");"
   ]
  },
  {
   "cell_type": "markdown",
   "id": "e77b44f5",
   "metadata": {},
   "source": [
    "Great, now that you're familiar with setting up the Semantic Kernel, let's see [how we can use it to run prompts](2-running-prompts-from-file.ipynb)."
   ]
  },
  {
   "cell_type": "code",
   "execution_count": null,
   "id": "54a2fc86",
   "metadata": {},
   "outputs": [],
   "source": []
  }
 ],
 "metadata": {
  "kernelspec": {
   "display_name": "Python 3 (ipykernel)",
   "language": "python",
   "name": "python3"
  },
  "language_info": {
   "codemirror_mode": {
    "name": "ipython",
    "version": 3
   },
   "file_extension": ".py",
   "mimetype": "text/x-python",
   "name": "python",
   "nbconvert_exporter": "python",
   "pygments_lexer": "ipython3",
   "version": "3.9.12"
  }
 },
 "nbformat": 4,
 "nbformat_minor": 5
}
