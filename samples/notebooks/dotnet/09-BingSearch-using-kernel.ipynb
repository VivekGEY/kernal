{
 "cells": [
  {
   "attachments": {},
   "cell_type": "markdown",
   "metadata": {},
   "source": [
    "# BingSearch using Kernel \n",
    "\n",
    "This notebook explains how to integragte BingSearch feature in your Semantic Kernel  to get latest information from the internet.\n",
    "\n",
    "To using BingSeach you simply need *Bing Search Api Key* . You can get the api by creating [Bing Search resource](https://learn.microsoft.com/en-us/bing/search-apis/bing-web-search/create-bing-search-service-resource) in Azure . \n",
    "\n",
    "In free Instance you will get *1000* transactions per month and only 3 Transactions per second valid .\n",
    "\n",
    "Check other pricing from [here](https://www.microsoft.com/en-us/bing/apis/pricing).\n",
    "\n",
    "To learn more read the follwing [documenation](https://learn.microsoft.com/en-us/bing/search-apis/bing-web-search/overview)\n"
   ]
  },
  {
   "attachments": {},
   "cell_type": "markdown",
   "metadata": {},
   "source": [
    "Prepare a semantic kernel instance first, loading also the AI backend settings defined in the [Setup notebook](0-AI-settings.ipynb):"
   ]
  },
  {
   "cell_type": "code",
   "execution_count": null,
   "metadata": {
    "dotnet_interactive": {
     "language": "csharp"
    },
    "polyglot_notebook": {
     "kernelName": "csharp"
    }
   },
   "outputs": [],
   "source": [
    "#r \"nuget: Microsoft.SemanticKernel, 0.17.230626.1-preview\"\n",
    "#r \"nuget: Microsoft.SemanticKernel.Skills.Web, 0.17.230626.1-preview\"\n",
    "\n",
    "#!import config/Settings.cs\n",
    "#!import config/Utils.cs\n",
    "\n",
    "using Microsoft.SemanticKernel;\n",
    "using Microsoft.SemanticKernel.CoreSkills;\n",
    "using Microsoft.SemanticKernel.SkillDefinition;\n",
    "using Microsoft.SemanticKernel.Orchestration;\n",
    "using Microsoft.SemanticKernel.Planning;\n",
    "using Microsoft.SemanticKernel.Planning.Sequential;\n",
    "using Microsoft.SemanticKernel.TemplateEngine;\n",
    "var builder = new KernelBuilder();\n",
    "\n",
    "// Configure AI backend used by the kernel\n",
    "var (useAzureOpenAI, model, azureEndpoint, apiKey, orgId) = Settings.LoadFromFile();\n",
    "\n",
    "if (useAzureOpenAI)\n",
    "    builder.WithAzureTextCompletionService(model, azureEndpoint, apiKey);\n",
    "else\n",
    "    builder.WithOpenAITextCompletionService(model, apiKey, orgId);\n",
    "\n",
    "var kernel = builder.Build();"
   ]
  },
  {
   "attachments": {},
   "cell_type": "markdown",
   "metadata": {},
   "source": [
    "You requried the following namespaces to use bing search ."
   ]
  },
  {
   "cell_type": "code",
   "execution_count": null,
   "metadata": {
    "dotnet_interactive": {
     "language": "csharp"
    },
    "polyglot_notebook": {
     "kernelName": "csharp"
    }
   },
   "outputs": [],
   "source": [
    "using Microsoft.SemanticKernel.Skills.Web;\n",
    "using Microsoft.SemanticKernel.Skills.Web.Bing;"
   ]
  },
  {
   "attachments": {},
   "cell_type": "markdown",
   "metadata": {},
   "source": []
  },
  {
   "cell_type": "code",
   "execution_count": null,
   "metadata": {
    "dotnet_interactive": {
     "language": "csharp"
    },
    "polyglot_notebook": {
     "kernelName": "csharp"
    }
   },
   "outputs": [],
   "source": [
    "// Load Bing skill\n",
    "//Uncomment the Example \n",
    "using (var bingConnector = new BingConnector(\"17172014d4754369bc9a422b9bae1345\"))\n",
    "{\n",
    "kernel.ImportSkill(new WebSearchEngineSkill(bingConnector), \"bing\");\n",
    "//await Example1Async(kernel);\n",
    "//await Example2Async(kernel);\n",
    "//await Example3Async(kernel);\n",
    "}"
   ]
  },
  {
   "cell_type": "code",
   "execution_count": null,
   "metadata": {
    "dotnet_interactive": {
     "language": "csharp"
    },
    "polyglot_notebook": {
     "kernelName": "csharp"
    }
   },
   "outputs": [],
   "source": [
    "private static async Task Example1Async(IKernel kernel)\n",
    "{\n",
    "        Console.WriteLine(\"======== Bing Search Skill ========\");\n",
    "\n",
    "        // Run\n",
    "        var question = \"What's the largest building in the world?\";\n",
    "        var bingResult = await kernel.Func(\"bing\", \"search\").InvokeAsync(question);\n",
    "       // var googleResult = await kernel.Func(\"google\", \"search\").InvokeAsync(question);\n",
    "\n",
    "        Console.WriteLine(question);\n",
    "        Console.WriteLine(\"----\");\n",
    "        Console.WriteLine(bingResult);\n",
    "        Console.WriteLine();\n",
    "\n",
    "        /* OUTPUT:\n",
    "\n",
    "            What's the largest building in the world?\n",
    "            ----\n",
    "            The Aerium near Berlin, Germany is the largest uninterrupted volume in the world, while Boeing's\n",
    "            factory in Everett, Washington, United States is the world's largest building by volume. The AvtoVAZ\n",
    "            main assembly building in Tolyatti, Russia is the largest building in area footprint.\n",
    "            ----\n",
    "            The Aerium near Berlin, Germany is the largest uninterrupted volume in the world, while Boeing's\n",
    "            factory in Everett, Washington, United States is the world's ...\n",
    "       */\n",
    "}"
   ]
  },
  {
   "cell_type": "code",
   "execution_count": null,
   "metadata": {
    "dotnet_interactive": {
     "language": "csharp"
    },
    "polyglot_notebook": {
     "kernelName": "csharp"
    }
   },
   "outputs": [],
   "source": [
    "private static async Task Example2Async(IKernel kernel)\n",
    "{\n",
    "\n",
    "    //Use the following function in VS only\n",
    "    string question = await InteractiveKernel.GetInputAsync(\"Please aSk your question\"); \n",
    "    //Console.ReadLine();\n",
    "    var bingResult = await kernel.Func(\"bing\", \"search\").InvokeAsync(question);\n",
    "       \n",
    "\n",
    "        Console.WriteLine(bingResult);\n",
    "}"
   ]
  },
  {
   "cell_type": "code",
   "execution_count": null,
   "metadata": {
    "dotnet_interactive": {
     "language": "csharp"
    },
    "polyglot_notebook": {
     "kernelName": "csharp"
    }
   },
   "outputs": [],
   "source": [
    "\n",
    "private static async Task Example3Async(IKernel kernel)\n",
    "{\n",
    "\n",
    "Console.WriteLine(\"======== Use Search Skill to answer user questions ========\");\n",
    "\n",
    "const string SemanticFunction = @\"Answer questions only when you know the facts or the information is provided.\n",
    "When you don't have sufficient information you reply with a list of commands to find the information needed.\n",
    "When answering multiple questions, use a bullet point list.\n",
    "Note: make sure single and double quotes are escaped using a backslash char.\n",
    "\n",
    "[COMMANDS AVAILABLE]\n",
    "- bing.search\n",
    "\n",
    "[INFORMATION PROVIDED]\n",
    "{{ $externalInformation }}\n",
    "\n",
    "[EXAMPLE 1]\n",
    "Question: what's the biggest lake in Italy?\n",
    "Answer: Lake Garda, also known as Lago di Garda.\n",
    "\n",
    "[EXAMPLE 2]\n",
    "Question: what's the biggest lake in Italy? What's the smallest positive number?\n",
    "Answer:\n",
    "* Lake Garda, also known as Lago di Garda.\n",
    "* The smallest positive number is 1.\n",
    "\n",
    "[EXAMPLE 3]\n",
    "Question: what's Ferrari stock price ? Who is the current number one female tennis player in the world?\n",
    "Answer:\n",
    "{{ '{{' }} bing.search \"\"what\\\\'s Ferrari stock price?\"\" {{ '}}' }}.\n",
    "{{ '{{' }} bing.search \"\"Who is the current number one female tennis player in the world?\"\" {{ '}}' }}.\n",
    "\n",
    "[END OF EXAMPLES]\n",
    "\n",
    "[TASK]\n",
    "Question: {{ $input }}.\n",
    "Answer: \";\n",
    "\n",
    "var questions = \"Who is the most followed person on TikTok right now? What's the exchange rate EUR:USD?\";\n",
    "Console.WriteLine(questions);\n",
    "\n",
    "var oracle = kernel.CreateSemanticFunction(SemanticFunction, maxTokens: 200, temperature: 0, topP: 1);\n",
    "var context = kernel.CreateNewContext();\n",
    "context[\"externalInformation\"] = \"\";\n",
    "var answer = await oracle.InvokeAsync(questions, context);\n",
    "\n",
    "// If the answer contains commands, execute them using the prompt renderer.\n",
    "if (answer.Result.Contains(\"bing.search\", StringComparison.OrdinalIgnoreCase))\n",
    "        {\n",
    "            var promptRenderer = new PromptTemplateEngine();\n",
    "\n",
    "            Console.WriteLine(\"---- Fetching information from Bing...\");\n",
    "            var information = await promptRenderer.RenderAsync(answer.Result, context);\n",
    "\n",
    "            Console.WriteLine(\"Information found:\");\n",
    "            Console.WriteLine(information);\n",
    "\n",
    "            // The rendered prompt contains the information retrieved from search engines\n",
    "            context[\"externalInformation\"] = information;\n",
    "\n",
    "            // Run the semantic function again, now including information from Bing\n",
    "            answer = await oracle.InvokeAsync(questions, context);\n",
    "        }\n",
    "        else\n",
    "        {\n",
    "            Console.WriteLine(\"AI had all the information, no need to query Bing.\");\n",
    "        }\n",
    "\n",
    "Console.WriteLine(\"---- ANSWER:\");\n",
    "Console.WriteLine(answer);\n",
    "\n",
    "        /* OUTPUT:\n",
    "\n",
    "            Who is the most followed person on TikTok right now? What's the exchange rate EUR:USD?\n",
    "            ---- Fetching information from Bing...\n",
    "            Information found:\n",
    "\n",
    "            Khaby Lame is the most-followed user on TikTok. This list contains the top 50 accounts by number\n",
    "            of followers on the Chinese social media platform TikTok, which was merged with musical.ly in 2018.\n",
    "            [1] The most-followed individual on the platform is Khaby Lame, with over 153 million followers..\n",
    "            EUR – Euro To USD – US Dollar 1.00 Euro = 1.10 37097 US Dollars 1 USD = 0.906035 EUR We use the\n",
    "            mid-market rate for our Converter. This is for informational purposes only. You won’t receive this\n",
    "            rate when sending money. Check send rates Convert Euro to US Dollar Convert US Dollar to Euro..\n",
    "            ---- ANSWER:\n",
    "\n",
    "            * The most followed person on TikTok right now is Khaby Lame, with over 153 million followers.\n",
    "            * The exchange rate for EUR to USD is 1.1037097 US Dollars for 1 Euro.\n",
    "         */\n",
    "}"
   ]
  }
 ],
 "metadata": {
  "kernelspec": {
   "display_name": ".NET (C#)",
   "language": "C#",
   "name": ".net-csharp"
  },
  "language_info": {
   "name": "polyglot-notebook"
  },
  "orig_nbformat": 4,
  "polyglot_notebook": {
   "kernelInfo": {
    "defaultKernelName": "csharp",
    "items": [
     {
      "aliases": [],
      "name": "csharp"
     }
    ]
   }
  }
 },
 "nbformat": 4,
 "nbformat_minor": 2
}
