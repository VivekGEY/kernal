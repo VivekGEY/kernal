{
 "cells": [
  {
   "attachments": {},
   "cell_type": "markdown",
   "metadata": {},
   "source": [
    "# Setup\n",
    "\n",
    "**Step 1**: Import Semantic Kernel SDK from pypi.org\n"
   ]
  },
  {
   "cell_type": "code",
   "execution_count": 1,
   "metadata": {},
   "outputs": [
    {
     "name": "stdout",
     "output_type": "stream",
     "text": [
      "Collecting semantic-kernel==0.9.7b1\n",
      "  Downloading semantic_kernel-0.9.7b1-py3-none-any.whl.metadata (5.1 kB)\n",
      "Collecting aiohttp<4.0,>=3.8 (from semantic-kernel==0.9.7b1)\n",
      "  Using cached aiohttp-3.9.5-cp312-cp312-win_amd64.whl.metadata (7.7 kB)\n",
      "Requirement already satisfied: defusedxml<0.8.0,>=0.7.1 in c:\\python312\\lib\\site-packages (from semantic-kernel==0.9.7b1) (0.7.1)\n",
      "Requirement already satisfied: grpcio>=1.50.0 in c:\\python312\\lib\\site-packages (from semantic-kernel==0.9.7b1) (1.63.0)\n",
      "Requirement already satisfied: jinja2<4.0.0,>=3.1.3 in c:\\python312\\lib\\site-packages (from semantic-kernel==0.9.7b1) (3.1.4)\n",
      "Collecting motor<4.0.0,>=3.3.2 (from semantic-kernel==0.9.7b1)\n",
      "  Using cached motor-3.4.0-py3-none-any.whl.metadata (21 kB)\n",
      "Requirement already satisfied: nest-asyncio<2.0.0,>=1.6.0 in c:\\python312\\lib\\site-packages (from semantic-kernel==0.9.7b1) (1.6.0)\n",
      "Requirement already satisfied: numpy>=1.26 in c:\\python312\\lib\\site-packages (from semantic-kernel==0.9.7b1) (1.26.4)\n",
      "Collecting openai>=1.0 (from semantic-kernel==0.9.7b1)\n",
      "  Using cached openai-1.25.2-py3-none-any.whl.metadata (21 kB)\n",
      "Collecting openapi_core<0.20,>=0.18 (from semantic-kernel==0.9.7b1)\n",
      "  Using cached openapi_core-0.19.1-py3-none-any.whl.metadata (6.4 kB)\n",
      "Collecting prance<24.0.0.0,>=23.6.21.0 (from semantic-kernel==0.9.7b1)\n",
      "  Using cached prance-23.6.21.0-py3-none-any.whl.metadata (13 kB)\n",
      "Requirement already satisfied: pybars4<0.10.0,>=0.9.13 in c:\\python312\\lib\\site-packages (from semantic-kernel==0.9.7b1) (0.9.13)\n",
      "Collecting pydantic<3,>=2 (from semantic-kernel==0.9.7b1)\n",
      "  Using cached pydantic-2.7.1-py3-none-any.whl.metadata (107 kB)\n",
      "Requirement already satisfied: python-dotenv<2.0.0,>=1.0.1 in c:\\python312\\lib\\site-packages (from semantic-kernel==0.9.7b1) (1.0.1)\n",
      "Requirement already satisfied: regex<2024.0.0,>=2023.6.3 in c:\\python312\\lib\\site-packages (from semantic-kernel==0.9.7b1) (2023.12.25)\n",
      "Requirement already satisfied: scipy>=1.12.0 in c:\\python312\\lib\\site-packages (from semantic-kernel==0.9.7b1) (1.13.0)\n",
      "Collecting aiosignal>=1.1.2 (from aiohttp<4.0,>=3.8->semantic-kernel==0.9.7b1)\n",
      "  Using cached aiosignal-1.3.1-py3-none-any.whl.metadata (4.0 kB)\n",
      "Requirement already satisfied: attrs>=17.3.0 in c:\\python312\\lib\\site-packages (from aiohttp<4.0,>=3.8->semantic-kernel==0.9.7b1) (23.2.0)\n",
      "Requirement already satisfied: frozenlist>=1.1.1 in c:\\python312\\lib\\site-packages (from aiohttp<4.0,>=3.8->semantic-kernel==0.9.7b1) (1.4.1)\n",
      "Requirement already satisfied: multidict<7.0,>=4.5 in c:\\python312\\lib\\site-packages (from aiohttp<4.0,>=3.8->semantic-kernel==0.9.7b1) (6.0.5)\n",
      "Requirement already satisfied: yarl<2.0,>=1.0 in c:\\python312\\lib\\site-packages (from aiohttp<4.0,>=3.8->semantic-kernel==0.9.7b1) (1.9.4)\n",
      "Requirement already satisfied: MarkupSafe>=2.0 in c:\\python312\\lib\\site-packages (from jinja2<4.0.0,>=3.1.3->semantic-kernel==0.9.7b1) (2.1.5)\n",
      "Requirement already satisfied: pymongo<5,>=4.5 in c:\\python312\\lib\\site-packages (from motor<4.0.0,>=3.3.2->semantic-kernel==0.9.7b1) (4.7.1)\n",
      "Requirement already satisfied: anyio<5,>=3.5.0 in c:\\python312\\lib\\site-packages (from openai>=1.0->semantic-kernel==0.9.7b1) (4.3.0)\n",
      "Requirement already satisfied: distro<2,>=1.7.0 in c:\\python312\\lib\\site-packages (from openai>=1.0->semantic-kernel==0.9.7b1) (1.9.0)\n",
      "Requirement already satisfied: httpx<1,>=0.23.0 in c:\\python312\\lib\\site-packages (from openai>=1.0->semantic-kernel==0.9.7b1) (0.27.0)\n",
      "Requirement already satisfied: sniffio in c:\\python312\\lib\\site-packages (from openai>=1.0->semantic-kernel==0.9.7b1) (1.3.1)\n",
      "Requirement already satisfied: tqdm>4 in c:\\python312\\lib\\site-packages (from openai>=1.0->semantic-kernel==0.9.7b1) (4.66.4)\n",
      "Requirement already satisfied: typing-extensions<5,>=4.7 in c:\\python312\\lib\\site-packages (from openai>=1.0->semantic-kernel==0.9.7b1) (4.11.0)\n",
      "Requirement already satisfied: isodate in c:\\python312\\lib\\site-packages (from openapi_core<0.20,>=0.18->semantic-kernel==0.9.7b1) (0.6.1)\n",
      "Requirement already satisfied: jsonschema<5.0.0,>=4.18.0 in c:\\python312\\lib\\site-packages (from openapi_core<0.20,>=0.18->semantic-kernel==0.9.7b1) (4.22.0)\n",
      "Collecting jsonschema-path<0.4.0,>=0.3.1 (from openapi_core<0.20,>=0.18->semantic-kernel==0.9.7b1)\n",
      "  Using cached jsonschema_path-0.3.2-py3-none-any.whl.metadata (4.3 kB)\n",
      "Requirement already satisfied: more-itertools in c:\\python312\\lib\\site-packages (from openapi_core<0.20,>=0.18->semantic-kernel==0.9.7b1) (10.2.0)\n",
      "Collecting openapi-schema-validator<0.7.0,>=0.6.0 (from openapi_core<0.20,>=0.18->semantic-kernel==0.9.7b1)\n",
      "  Using cached openapi_schema_validator-0.6.2-py3-none-any.whl.metadata (5.3 kB)\n",
      "Collecting openapi-spec-validator<0.8.0,>=0.7.1 (from openapi_core<0.20,>=0.18->semantic-kernel==0.9.7b1)\n",
      "  Using cached openapi_spec_validator-0.7.1-py3-none-any.whl.metadata (5.7 kB)\n",
      "Requirement already satisfied: parse in c:\\python312\\lib\\site-packages (from openapi_core<0.20,>=0.18->semantic-kernel==0.9.7b1) (1.20.1)\n",
      "Requirement already satisfied: werkzeug in c:\\python312\\lib\\site-packages (from openapi_core<0.20,>=0.18->semantic-kernel==0.9.7b1) (3.0.3)\n",
      "Requirement already satisfied: chardet>=3.0 in c:\\python312\\lib\\site-packages (from prance<24.0.0.0,>=23.6.21.0->semantic-kernel==0.9.7b1) (5.2.0)\n",
      "Requirement already satisfied: ruamel.yaml>=0.17.10 in c:\\python312\\lib\\site-packages (from prance<24.0.0.0,>=23.6.21.0->semantic-kernel==0.9.7b1) (0.18.6)\n",
      "Requirement already satisfied: requests>=2.25 in c:\\python312\\lib\\site-packages (from prance<24.0.0.0,>=23.6.21.0->semantic-kernel==0.9.7b1) (2.31.0)\n",
      "Requirement already satisfied: six~=1.15 in c:\\python312\\lib\\site-packages (from prance<24.0.0.0,>=23.6.21.0->semantic-kernel==0.9.7b1) (1.16.0)\n",
      "Requirement already satisfied: packaging>=21.3 in c:\\python312\\lib\\site-packages (from prance<24.0.0.0,>=23.6.21.0->semantic-kernel==0.9.7b1) (24.0)\n",
      "Requirement already satisfied: PyMeta3>=0.5.1 in c:\\python312\\lib\\site-packages (from pybars4<0.10.0,>=0.9.13->semantic-kernel==0.9.7b1) (0.5.1)\n",
      "Collecting annotated-types>=0.4.0 (from pydantic<3,>=2->semantic-kernel==0.9.7b1)\n",
      "  Using cached annotated_types-0.6.0-py3-none-any.whl.metadata (12 kB)\n",
      "Requirement already satisfied: pydantic-core==2.18.2 in c:\\python312\\lib\\site-packages (from pydantic<3,>=2->semantic-kernel==0.9.7b1) (2.18.2)\n",
      "Requirement already satisfied: idna>=2.8 in c:\\python312\\lib\\site-packages (from anyio<5,>=3.5.0->openai>=1.0->semantic-kernel==0.9.7b1) (3.7)\n",
      "Requirement already satisfied: certifi in c:\\python312\\lib\\site-packages (from httpx<1,>=0.23.0->openai>=1.0->semantic-kernel==0.9.7b1) (2024.2.2)\n",
      "Requirement already satisfied: httpcore==1.* in c:\\python312\\lib\\site-packages (from httpx<1,>=0.23.0->openai>=1.0->semantic-kernel==0.9.7b1) (1.0.5)\n",
      "Requirement already satisfied: h11<0.15,>=0.13 in c:\\python312\\lib\\site-packages (from httpcore==1.*->httpx<1,>=0.23.0->openai>=1.0->semantic-kernel==0.9.7b1) (0.14.0)\n",
      "Requirement already satisfied: jsonschema-specifications>=2023.03.6 in c:\\python312\\lib\\site-packages (from jsonschema<5.0.0,>=4.18.0->openapi_core<0.20,>=0.18->semantic-kernel==0.9.7b1) (2023.12.1)\n",
      "Requirement already satisfied: referencing>=0.28.4 in c:\\python312\\lib\\site-packages (from jsonschema<5.0.0,>=4.18.0->openapi_core<0.20,>=0.18->semantic-kernel==0.9.7b1) (0.31.1)\n",
      "Requirement already satisfied: rpds-py>=0.7.1 in c:\\python312\\lib\\site-packages (from jsonschema<5.0.0,>=4.18.0->openapi_core<0.20,>=0.18->semantic-kernel==0.9.7b1) (0.18.1)\n",
      "Requirement already satisfied: PyYAML>=5.1 in c:\\python312\\lib\\site-packages (from jsonschema-path<0.4.0,>=0.3.1->openapi_core<0.20,>=0.18->semantic-kernel==0.9.7b1) (6.0.1)\n",
      "Requirement already satisfied: pathable<0.5.0,>=0.4.1 in c:\\python312\\lib\\site-packages (from jsonschema-path<0.4.0,>=0.3.1->openapi_core<0.20,>=0.18->semantic-kernel==0.9.7b1) (0.4.3)\n",
      "Requirement already satisfied: rfc3339-validator in c:\\python312\\lib\\site-packages (from openapi-schema-validator<0.7.0,>=0.6.0->openapi_core<0.20,>=0.18->semantic-kernel==0.9.7b1) (0.1.4)\n",
      "Requirement already satisfied: lazy-object-proxy<2.0.0,>=1.7.1 in c:\\python312\\lib\\site-packages (from openapi-spec-validator<0.8.0,>=0.7.1->openapi_core<0.20,>=0.18->semantic-kernel==0.9.7b1) (1.10.0)\n",
      "Requirement already satisfied: dnspython<3.0.0,>=1.16.0 in c:\\python312\\lib\\site-packages (from pymongo<5,>=4.5->motor<4.0.0,>=3.3.2->semantic-kernel==0.9.7b1) (2.6.1)\n",
      "Requirement already satisfied: charset-normalizer<4,>=2 in c:\\python312\\lib\\site-packages (from requests>=2.25->prance<24.0.0.0,>=23.6.21.0->semantic-kernel==0.9.7b1) (3.3.2)\n",
      "Requirement already satisfied: urllib3<3,>=1.21.1 in c:\\python312\\lib\\site-packages (from requests>=2.25->prance<24.0.0.0,>=23.6.21.0->semantic-kernel==0.9.7b1) (2.2.1)\n",
      "Requirement already satisfied: ruamel.yaml.clib>=0.2.7 in c:\\python312\\lib\\site-packages (from ruamel.yaml>=0.17.10->prance<24.0.0.0,>=23.6.21.0->semantic-kernel==0.9.7b1) (0.2.8)\n",
      "Requirement already satisfied: colorama in c:\\python312\\lib\\site-packages (from tqdm>4->openai>=1.0->semantic-kernel==0.9.7b1) (0.4.6)\n",
      "Downloading semantic_kernel-0.9.7b1-py3-none-any.whl (274 kB)\n",
      "   ---------------------------------------- 0.0/274.1 kB ? eta -:--:--\n",
      "   ---------------------------------------- 0.0/274.1 kB ? eta -:--:--\n",
      "   - -------------------------------------- 10.2/274.1 kB ? eta -:--:--\n",
      "   -- ------------------------------------ 20.5/274.1 kB 165.2 kB/s eta 0:00:02\n",
      "   ---- ---------------------------------- 30.7/274.1 kB 220.2 kB/s eta 0:00:02\n",
      "   ----- --------------------------------- 41.0/274.1 kB 245.8 kB/s eta 0:00:01\n",
      "   ---------------------------------------- 274.1/274.1 kB 1.3 MB/s eta 0:00:00\n",
      "Using cached aiohttp-3.9.5-cp312-cp312-win_amd64.whl (369 kB)\n",
      "Using cached motor-3.4.0-py3-none-any.whl (74 kB)\n",
      "Using cached openai-1.25.2-py3-none-any.whl (312 kB)\n",
      "Using cached openapi_core-0.19.1-py3-none-any.whl (103 kB)\n",
      "Using cached prance-23.6.21.0-py3-none-any.whl (36 kB)\n",
      "Using cached pydantic-2.7.1-py3-none-any.whl (409 kB)\n",
      "Using cached aiosignal-1.3.1-py3-none-any.whl (7.6 kB)\n",
      "Using cached annotated_types-0.6.0-py3-none-any.whl (12 kB)\n",
      "Using cached jsonschema_path-0.3.2-py3-none-any.whl (14 kB)\n",
      "Using cached openapi_schema_validator-0.6.2-py3-none-any.whl (8.8 kB)\n",
      "Using cached openapi_spec_validator-0.7.1-py3-none-any.whl (38 kB)\n",
      "Installing collected packages: annotated-types, aiosignal, pydantic, prance, motor, jsonschema-path, aiohttp, openai, openapi-schema-validator, openapi-spec-validator, openapi_core, semantic-kernel\n",
      "Successfully installed aiohttp-3.9.5 aiosignal-1.3.1 annotated-types-0.6.0 jsonschema-path-0.3.2 motor-3.4.0 openai-1.25.2 openapi-schema-validator-0.6.2 openapi-spec-validator-0.7.1 openapi_core-0.19.1 prance-23.6.21.0 pydantic-2.7.1 semantic-kernel-0.9.7b1\n"
     ]
    }
   ],
   "source": [
    "!python -m pip install semantic-kernel==0.9.7b1"
   ]
  },
  {
   "cell_type": "code",
   "execution_count": 2,
   "metadata": {},
   "outputs": [],
   "source": [
    "from semantic_kernel import Kernel\n",
    "\n",
    "kernel = Kernel()"
   ]
  },
  {
   "cell_type": "markdown",
   "metadata": {},
   "source": [
    "### Configure the service you'd like to use via the `Service` Enum.\n"
   ]
  },
  {
   "cell_type": "code",
   "execution_count": 5,
   "metadata": {},
   "outputs": [],
   "source": [
    "from services import Service\n",
    "\n",
    "# Select a service to use for this notebook (available services: OpenAI, AzureOpenAI, HuggingFace)\n",
    "selectedService = Service.OpenAI"
   ]
  },
  {
   "attachments": {},
   "cell_type": "markdown",
   "metadata": {},
   "source": [
    "## Option 1: using OpenAI\n",
    "\n",
    "**Step 2**: Add your [OpenAI Key](https://openai.com/product/) key to a `.env` file in the same folder (org Id only if you have multiple orgs):\n",
    "\n",
    "```\n",
    "OPENAI_API_KEY=\"sk-...\"\n",
    "OPENAI_ORG_ID=\"\"\n",
    "```\n",
    "\n",
    "Use \"keyword arguments\" to instantiate an OpenAI Chat Completion service and add it to the kernel:\n",
    "\n",
    "## Option 2: using Azure OpenAI\n",
    "\n",
    "**Step 2**: Add your [Azure Open AI Service key](https://learn.microsoft.com/azure/cognitive-services/openai/quickstart?pivots=programming-language-studio) settings to a `.env` file in the same folder:\n",
    "\n",
    "```\n",
    "AZURE_OPENAI_API_KEY=\"...\"\n",
    "AZURE_OPENAI_ENDPOINT=\"https://...\"\n",
    "AZURE_OPENAI_DEPLOYMENT_NAME=\"...\"\n",
    "```\n",
    "\n",
    "Use \"keyword arguments\" to instantiate an Azure OpenAI Chat Completion service and add it to the kernel:\n"
   ]
  },
  {
   "cell_type": "code",
   "execution_count": 6,
   "metadata": {},
   "outputs": [],
   "source": [
    "from semantic_kernel.utils.settings import azure_openai_settings_from_dot_env, openai_settings_from_dot_env\n",
    "\n",
    "service_id = None\n",
    "if selectedService == Service.OpenAI:\n",
    "    from semantic_kernel.connectors.ai.open_ai import OpenAIChatCompletion\n",
    "\n",
    "    api_key, org_id = openai_settings_from_dot_env()\n",
    "    service_id = \"default\"\n",
    "    kernel.add_service(\n",
    "        OpenAIChatCompletion(service_id=service_id, ai_model_id=\"gpt-3.5-turbo-1106\", api_key=api_key, org_id=org_id),\n",
    "    )\n",
    "elif selectedService == Service.AzureOpenAI:\n",
    "    from semantic_kernel.connectors.ai.open_ai import AzureChatCompletion\n",
    "\n",
    "    deployment, api_key, endpoint = azure_openai_settings_from_dot_env()\n",
    "    service_id = \"default\"\n",
    "    kernel.add_service(\n",
    "        AzureChatCompletion(service_id=service_id, deployment_name=deployment, endpoint=endpoint, api_key=api_key),\n",
    "    )"
   ]
  },
  {
   "attachments": {},
   "cell_type": "markdown",
   "metadata": {},
   "source": [
    "# Run a Semantic Function\n",
    "\n",
    "**Step 3**: Load a Plugin and run a semantic function:\n"
   ]
  },
  {
   "cell_type": "code",
   "execution_count": 8,
   "metadata": {},
   "outputs": [],
   "source": [
    "plugin = kernel.add_plugin(parent_directory=\"../../../prompt_template_samples\", plugin_name=\"FunPlugin\")"
   ]
  },
  {
   "cell_type": "code",
   "execution_count": 9,
   "metadata": {},
   "outputs": [
    {
     "name": "stdout",
     "output_type": "stream",
     "text": [
      "Why did the time traveler bring a ladder to the dinosaur age?\n",
      "\n",
      "Because he wanted to make sure he could \"climb\" the evolutionary ladder and not become dino-snacks!\n"
     ]
    }
   ],
   "source": [
    "from semantic_kernel.functions import KernelArguments\n",
    "\n",
    "joke_function = plugin[\"Joke\"]\n",
    "\n",
    "joke = await kernel.invoke(joke_function, KernelArguments(input=\"time travel to dinosaur age\", style=\"super silly\"))\n",
    "print(joke)"
   ]
  }
 ],
 "metadata": {
  "kernelspec": {
   "display_name": "Python 3 (ipykernel)",
   "language": "python",
   "name": "python3"
  },
  "language_info": {
   "codemirror_mode": {
    "name": "ipython",
    "version": 3
   },
   "file_extension": ".py",
   "mimetype": "text/x-python",
   "name": "python",
   "nbconvert_exporter": "python",
   "pygments_lexer": "ipython3",
   "version": "3.12.3"
  }
 },
 "nbformat": 4,
 "nbformat_minor": 2
}
