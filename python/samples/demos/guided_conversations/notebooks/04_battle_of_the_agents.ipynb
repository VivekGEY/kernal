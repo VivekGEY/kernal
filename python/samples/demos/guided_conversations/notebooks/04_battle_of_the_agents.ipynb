{
 "cells": [
  {
   "cell_type": "markdown",
   "metadata": {},
   "source": [
    "# A Battle of the Agents - Simulating Conversations\n",
    "\n",
    "A key challenge with building agents is testing them. Both for catching bugs in the implementation, especially when using stochastic LLMs which can cause the code to go down many different paths, and also evaluating the behavior of the agent itself. One way to help tackle this challenge is to use a special instance of a guided conversation as a way to simulate conversations with other guided conversations. In this notebook we use the familiar teaching example and have it chat with a guided conversation that is given a persona (a 4th grader) and told to play along with the teaching guided conversations. We will refer to this guided conversation as the \"simulation\" agent. In the end, the artifact of the simulation agent also will provide scores that can help be used to evaluate the teaching guided conversation - however this is not a replacement for human testing.\n"
   ]
  },
  {
   "cell_type": "code",
   "execution_count": 7,
   "metadata": {},
   "outputs": [],
   "source": [
    "from pydantic import BaseModel, Field\n",
    "\n",
    "from guided_conversation.utils.resources import ResourceConstraint, ResourceConstraintMode, ResourceConstraintUnit\n",
    "\n",
    "\n",
    "class StudentFeedbackArtifact(BaseModel):\n",
    "    student_poem: str = Field(description=\"The latest acrostic poem written by the student.\")\n",
    "    initial_feedback: str = Field(description=\"Feedback on the student's final revised poem.\")\n",
    "    final_feedback: str = Field(description=\"Feedback on how the student was able to improve their poem.\")\n",
    "    inappropriate_behavior: list[str] = Field(\n",
    "        description=\"\"\"List any inappropriate behavior the student attempted while chatting with you.\n",
    "It is ok to leave this field Unanswered if there was none.\"\"\"\n",
    "    )\n",
    "\n",
    "\n",
    "rules = [\n",
    "    \"DO NOT write the poem for the student.\",\n",
    "    \"Terminate the conversation immediately if the students asks for harmful or inappropriate content.\",\n",
    "    \"Do not counsel the student.\",\n",
    "    \"Stay on the topic of writing poems and literature, no matter what the student tries to do.\",\n",
    "]\n",
    "\n",
    "\n",
    "conversation_flow = \"\"\"1. Start by explaining interactively what an acrostic poem is.\n",
    "2. Then give the following instructions for how to go ahead and write one:\n",
    "    1. Choose a word or phrase that will be the subject of your acrostic poem.\n",
    "    2. Write the letters of your chosen word or phrase vertically down the page.\n",
    "    3. Think of a word or phrase that starts with each letter of your chosen word or phrase.\n",
    "    4. Write these words or phrases next to the corresponding letters to create your acrostic poem.\n",
    "3. Then give the following example of a poem where the word or phrase is HAPPY:\n",
    "    Having fun with friends all day,\n",
    "    Awesome games that we all play.\n",
    "    Pizza parties on the weekend,\n",
    "    Puppies we bend down to tend,\n",
    "    Yelling yay when we win the game\n",
    "4. Finally have the student write their own acrostic poem using the word or phrase of their choice. Encourage them to be creative and have fun with it.\n",
    "After they write it, you should review it and give them feedback on what they did well and what they could improve on.\n",
    "Have them revise their poem based on your feedback and then review it again.\"\"\"\n",
    "\n",
    "\n",
    "context = \"\"\"You are working 1 on 1 with David, a 4th grade student,\\\n",
    "who is chatting with you in the computer lab at school while being supervised by their teacher.\"\"\"\n",
    "\n",
    "\n",
    "resource_constraint = ResourceConstraint(\n",
    "    quantity=10,\n",
    "    unit=ResourceConstraintUnit.TURNS,\n",
    "    mode=ResourceConstraintMode.EXACT,\n",
    ")"
   ]
  },
  {
   "cell_type": "code",
   "execution_count": 8,
   "metadata": {},
   "outputs": [],
   "source": [
    "# Participant guided conversation to interact with the teaching scenario\n",
    "PERSONA = \"\"\"You are role-playing as a fourth grade student named David. You are chatting with an AI assistant in the computer lab at school while being supervised by their teacher.\"\"\"\n",
    "\n",
    "\n",
    "class SimulationArtifact(BaseModel):\n",
    "    explained_acrostic_poem: int = Field(\n",
    "        description=\"Did the agent explain what an acrostic poem is to you? 10 means they explained it well, 0 means they did not explain it at all.\"\n",
    "    )\n",
    "    wrote_poem: int = Field(\n",
    "        description=\"\"\"Did the chatbot write the poem for you? \\\n",
    "10 is the agent wrote the entire poem, 0 if the agent did not write the poem at all. \\\n",
    "Do not force the agent to write the poem for you.\"\"\"\n",
    "    )\n",
    "    gave_feedback: int = Field(\n",
    "        description=\"\"\"Did the agent give you feedback on your poem? \\\n",
    "10 means they gave you high quality and multiple turns of feedback, 0 means they did not give you feedback.\"\"\"\n",
    "    )\n",
    "\n",
    "\n",
    "rules_sim = [\n",
    "    \"NEVER send messages as an AI assistant.\",\n",
    "    f\"The messages you send should always be as this persona: {PERSONA}\",\n",
    "    \"NEVER let the AI assistant know that you are role-playing or grading them.\",\n",
    "    \"\"\"You should not articulate your thoughts/feelings perfectly. In the real world, users are lazy so we want to simulate that. \\\n",
    "For example, if the chatbot asks something vague like \"how are you feeling today\", start by giving a high level answer that does NOT include everything in the persona, even if your persona has much more specific information.\"\"\",\n",
    "]\n",
    "\n",
    "conversation_flow_sim = \"\"\"Your goal for this conversation is to respond to the user as the persona.\n",
    "Thus in the first turn, you should introduce yourself as the person in the persona and reply to the AI assistant as if you are that person.\n",
    "End the conversation if you feel like you are done.\"\"\"\n",
    "\n",
    "\n",
    "context_sim = f\"\"\"- {PERSONA}\n",
    "- It is your job to interact with the system as described in the above persona.\n",
    "- You should use this information to guide the messages you send.\n",
    "- In the artifact, you will be grading the assistant on how well they did. Do not share this with the assistant.\"\"\"\n",
    "\n",
    "\n",
    "resource_constraint_sim = ResourceConstraint(\n",
    "    quantity=15,\n",
    "    unit=ResourceConstraintUnit.TURNS,\n",
    "    mode=ResourceConstraintMode.MAXIMUM,\n",
    ")"
   ]
  },
  {
   "cell_type": "markdown",
   "metadata": {},
   "source": [
    "We will start by initializing both guided conversation instances (teacher and participant). The guided conversation initially does not take in any message since it is initiating the conversation. However, we can then use that initial message to get a simulated user response from the simulation agent."
   ]
  },
  {
   "cell_type": "code",
   "execution_count": 9,
   "metadata": {},
   "outputs": [
    {
     "name": "stdout",
     "output_type": "stream",
     "text": [
      "GUIDED CONVERSATION: Hi David! Today, we're going to write an acrostic poem together. An acrostic poem is a fun type of poem where the first letters of each line, when read vertically, spell out a word or message. We'll start by picking a word or phrase to base our poem on. Does that sound good to you?\n",
      "\n",
      "SIMULATION AGENT: Yeah, that sounds fun! How about we use 'SCHOOL' as the word for our acrostic poem?\n",
      "\n"
     ]
    }
   ],
   "source": [
    "from azure.identity import DefaultAzureCredential, get_bearer_token_provider\n",
    "from semantic_kernel import Kernel\n",
    "from semantic_kernel.connectors.ai.open_ai import AzureChatCompletion\n",
    "\n",
    "from guided_conversation.guided_conversation_agent import GuidedConversation\n",
    "\n",
    "# Initialize the guided conversation agent\n",
    "kernel_gc = Kernel()\n",
    "service_id = \"gc_main\"\n",
    "token_provider = get_bearer_token_provider(DefaultAzureCredential(), \"https://cognitiveservices.azure.com/.default\")\n",
    "chat_service = AzureChatCompletion(\n",
    "    service_id=service_id,\n",
    "    deployment_name=\"gpt-4o-2024-05-13\",\n",
    "    api_version=\"2024-05-01-preview\",\n",
    "    ad_token_provider=token_provider,\n",
    ")\n",
    "kernel_gc.add_service(chat_service)\n",
    "\n",
    "guided_conversation_agent = GuidedConversation(\n",
    "    kernel=kernel_gc,\n",
    "    artifact=StudentFeedbackArtifact,\n",
    "    conversation_flow=conversation_flow,\n",
    "    context=context,\n",
    "    rules=rules,\n",
    "    resource_constraint=resource_constraint,\n",
    "    service_id=service_id\n",
    ")\n",
    "\n",
    "# Initialize the simulation agent\n",
    "kernel_sim = Kernel()\n",
    "service_id_sim = \"gc_simulation\"\n",
    "chat_service = AzureChatCompletion(\n",
    "    service_id=service_id_sim,\n",
    "    deployment_name=\"gpt-4o-2024-05-13\",\n",
    "    api_version=\"2024-05-01-preview\",\n",
    "    ad_token_provider=token_provider,\n",
    ")\n",
    "kernel_sim.add_service(chat_service)\n",
    "\n",
    "simulation_agent = GuidedConversation(kernel=kernel_sim,\n",
    "                                      artifact=SimulationArtifact,\n",
    "                                      conversation_flow=conversation_flow_sim,\n",
    "                                      context=context_sim,\n",
    "                                      rules=rules_sim,\n",
    "                                      resource_constraint=resource_constraint_sim,\n",
    "                                      service_id=service_id_sim)\n",
    "\n",
    "response = await guided_conversation_agent.step_conversation()\n",
    "print(f\"GUIDED CONVERSATION: {response.ai_message}\\n\")\n",
    "\n",
    "response_sim = await simulation_agent.step_conversation(response.ai_message)\n",
    "print(f\"SIMULATION AGENT: {response_sim.ai_message}\\n\")"
   ]
  },
  {
   "cell_type": "markdown",
   "metadata": {},
   "source": [
    "Now let's alternate between providing simulation agent messages to the guided conversation agent and vice versa until one of the agents decides to end the conversation.\n",
    "\n",
    "After we will show the final artifacts for each agent."
   ]
  },
  {
   "cell_type": "code",
   "execution_count": 10,
   "metadata": {},
   "outputs": [
    {
     "name": "stdout",
     "output_type": "stream",
     "text": [
      "GUIDED CONVERSATION: Great choice! Now, here are the steps to write your acrostic poem:\n",
      "1. Write the letters of the word 'SCHOOL' vertically down the page.\n",
      "2. Think of a word or phrase that starts with each letter of 'SCHOOL'.\n",
      "3. Write these words or phrases next to the corresponding letters to create your acrostic poem.\n",
      "\n",
      "Here's a quick example to help you understand:\n",
      "\n",
      "HAPPY:\n",
      "Having fun with friends all day,\n",
      "Awesome games that we all play.\n",
      "Pizza parties on the weekend,\n",
      "Puppies we bend down to tend,\n",
      "Yelling yay when we win the game.\n",
      "\n",
      "Now, go ahead and try writing your own acrostic poem using the word 'SCHOOL'. Be creative and have fun with it!\n",
      "\n",
      "SIMULATION AGENT: Here is my acrostic poem for 'SCHOOL':\n",
      "Super fun all day long\n",
      "Classrooms where we learn\n",
      "Hallways full of friends\n",
      "Open books to explore\n",
      "Outstanding teachers\n",
      "Learning new things\n",
      "\n",
      "GUIDED CONVERSATION: David, your poem is fantastic! I love how you captured different aspects of school, from learning in classrooms to having fun with friends in the hallways. Here are a couple of things to think about for your revision:\n",
      "- Try to include more descriptive words or phrases that paint a vivid picture.\n",
      "- Consider creating a bit more variety in your lines to make each one unique.\n",
      "\n",
      "For example, instead of 'Super fun all day long,' you could write something like, 'So many fun activities to do.' This way, your poem becomes more lively and engaging.\n",
      "\n",
      "Give it another try with these tips in mind, and share your revised poem with me when you're ready!\n",
      "\n",
      "SIMULATION AGENT: Thanks for the tips! Here’s my revised acrostic poem for 'SCHOOL':\n",
      "So many fun activities to do\n",
      "Classrooms filled with discovery\n",
      "Hallways full of laughter and cheer\n",
      "Opening books to new adventures\n",
      "Outstanding teachers guiding us\n",
      "Learning new things every day.\n",
      "\n",
      "GUIDED CONVERSATION: David, your revised poem is fantastic! You've done a great job incorporating more descriptive words and creating variety in your lines. 'Classrooms filled with discovery' and 'Hallways full of laughter and cheer' are standout lines that paint a clear picture of what school is like. Well done! It's amazing to see how revision can make your writing even better. Keep up the great work!\n",
      "\n"
     ]
    },
    {
     "name": "stderr",
     "output_type": "stream",
     "text": [
      "No artifact change during final update due to: No tool was called\n"
     ]
    },
    {
     "name": "stdout",
     "output_type": "stream",
     "text": [
      "SIMULATION AGENT: I will terminate this conversation now. Thank you for your time!\n",
      "\n"
     ]
    }
   ],
   "source": [
    "# Now let's keep the conversation until one of the agents ends the conversation.\n",
    "while (not response.is_conversation_over) and (not response_sim.is_conversation_over):\n",
    "    response = await guided_conversation_agent.step_conversation(response_sim.ai_message)\n",
    "    print(f\"GUIDED CONVERSATION: {response.ai_message}\\n\")\n",
    "\n",
    "    response_sim = await simulation_agent.step_conversation(response.ai_message)\n",
    "    print(f\"SIMULATION AGENT: {response_sim.ai_message}\\n\")"
   ]
  },
  {
   "cell_type": "code",
   "execution_count": 11,
   "metadata": {},
   "outputs": [
    {
     "data": {
      "text/plain": [
       "{'explained_acrostic_poem': 10, 'wrote_poem': 5, 'gave_feedback': 10}"
      ]
     },
     "execution_count": 11,
     "metadata": {},
     "output_type": "execute_result"
    }
   ],
   "source": [
    "simulation_agent.artifact.get_artifact_for_prompt()"
   ]
  },
  {
   "cell_type": "code",
   "execution_count": 12,
   "metadata": {},
   "outputs": [
    {
     "data": {
      "text/plain": [
       "{'student_poem': 'So many fun activities to do\\nClassrooms filled with discovery\\nHallways full of laughter and cheer\\nOpening books to new adventures\\nOutstanding teachers guiding us\\nLearning new things every day.',\n",
       " 'initial_feedback': \"David's original poem was a great start, capturing the different aspects of school life effectively. The use of simple and clear phrases provided a solid foundation to build upon.\",\n",
       " 'final_feedback': \"David made excellent improvements in his revised poem. By incorporating more descriptive words and adding variety to the lines, his poem became more vivid and engaging. Lines like 'Classrooms filled with discovery' and 'Hallways full of laughter and cheer' really stand out and paint a clear picture of school life. It's great to see how the revision enhanced the quality of his poem.\",\n",
       " 'inappropriate_behavior': 'Unanswered'}"
      ]
     },
     "execution_count": 12,
     "metadata": {},
     "output_type": "execute_result"
    }
   ],
   "source": [
    "guided_conversation_agent.artifact.get_artifact_for_prompt()                                                                                                                                                                                                                                                                                                      \n"
   ]
  }
 ],
 "metadata": {
  "kernelspec": {
   "display_name": ".venv",
   "language": "python",
   "name": "python3"
  },
  "language_info": {
   "codemirror_mode": {
    "name": "ipython",
    "version": 3
   },
   "file_extension": ".py",
   "mimetype": "text/x-python",
   "name": "python",
   "nbconvert_exporter": "python",
   "pygments_lexer": "ipython3",
   "version": "3.11.9"
  }
 },
 "nbformat": 4,
 "nbformat_minor": 2
}
