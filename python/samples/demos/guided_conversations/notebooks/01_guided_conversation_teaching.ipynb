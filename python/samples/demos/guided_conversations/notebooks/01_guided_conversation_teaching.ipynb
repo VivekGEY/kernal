{
 "cells": [
  {
   "cell_type": "markdown",
   "metadata": {},
   "source": [
    "# Agent Guided Conversations\n",
    "\n",
    "This notebook will start with an overview of guided conversations and walk through one example scenario of how it can be applied. Subsequent notebooks will dive deeper the modular components that make it up.\n",
    "\n",
    "## Motivating Example - Education\n",
    "\n",
    "We focus on an elementary education scenario. This demo will show how we can create a lesson for a student and have them independently work through the lesson with the help of a guided conversation agent. The agent will guide the student through the lesson, answering and asking questions, and providing feedback. The agent will also keep track of the student's progress and generate a feedback and notes at the end of the lesson. We highlight how the agent is able to follow a conversation flow, whilst still being able to exercise judgement to answer and keeping the conversation on track over multiple turns. Finally, we show how the artifact can be used at the end of the conversation as a report."
   ]
  },
  {
   "cell_type": "markdown",
   "metadata": {},
   "source": [
    "## Guided Conversation Input\n",
    "\n",
    "### Artifact\n",
    "The artifact is a form, or a type of working memory for the agent. We implement it using a Pydantic BaseModel. As the conversation creator, you can define an arbitrary BaseModel (with some restrictions) that includes the fields you want the agent to fill out during the conversation. \n",
    "\n",
    "### Rules\n",
    "Rules is a list of *do's and don'ts* that the agent should attempt to follow during the conversation. \n",
    "\n",
    "### Conversation Flow (optional)\n",
    "Conversation flow is a loose natural language description of the steps of the conversation. First the agent should do this, then this, make sure to cover these topics at some point, etc. \n",
    "This field is optional as the artifact could be treated as a conversation flow.\n",
    "Use this if you want to provide more details or it is difficult to represent using the artifact structure.\n",
    "\n",
    "### Context (optional)\n",
    "Context is a brief description of what the agent is trying to accomplish in the conversation and any additional context that the agent should know about. \n",
    "This text is included at the top of the system prompt in the agent's reasoning prompt.\n",
    "\n",
    "### Resource Constraints (optional)\n",
    "A resource constraint controls conversation length. It consists of two key elements:\n",
    "- **Unit** defines the measurement of length. We have implemented seconds, minutes, and turns. An extension could be around cost, such as tokens generated.\n",
    "- **Mode** determines how the constraint is applied. Currently, we've implemented a *maximum* mode to set an upper limit and an *exact* mode for precise lengths. Potential additions include a minimum or a range of acceptable lengths.\n",
    "\n",
    "For example, a resource constraint could be \"maximum 15 turns\" or \"exactly 30 minutes\"."
   ]
  },
  {
   "cell_type": "code",
   "execution_count": 1,
   "metadata": {},
   "outputs": [],
   "source": [
    "from pydantic import BaseModel, Field\n",
    "\n",
    "from guided_conversation.utils.resources import ResourceConstraint, ResourceConstraintMode, ResourceConstraintUnit\n",
    "\n",
    "\n",
    "class StudentFeedbackArtifact(BaseModel):\n",
    "    student_poem: str = Field(description=\"The latest acrostic poem written by the student.\")\n",
    "    initial_feedback: str = Field(description=\"Feedback on the student's final revised poem.\")\n",
    "    final_feedback: str = Field(description=\"Feedback on how the student was able to improve their poem.\")\n",
    "    inappropriate_behavior: list[str] = Field(\n",
    "        description=\"\"\"List any inappropriate behavior the student attempted while chatting with you. \\\n",
    "It is ok to leave this field Unanswered if there was none.\"\"\"\n",
    "    )\n",
    "\n",
    "\n",
    "rules = [\n",
    "    \"DO NOT write the poem for the student.\",\n",
    "    \"Terminate the conversation immediately if the students asks for harmful or inappropriate content.\",\n",
    "    \"Do not counsel the student.\",\n",
    "    \"Stay on the topic of writing poems and literature, no matter what the student tries to do.\",\n",
    "]\n",
    "\n",
    "\n",
    "conversation_flow = \"\"\"1. Start by explaining interactively what an acrostic poem is.\n",
    "2. Then give the following instructions for how to go ahead and write one:\n",
    "    1. Choose a word or phrase that will be the subject of your acrostic poem.\n",
    "    2. Write the letters of your chosen word or phrase vertically down the page.\n",
    "    3. Think of a word or phrase that starts with each letter of your chosen word or phrase.\n",
    "    4. Write these words or phrases next to the corresponding letters to create your acrostic poem.\n",
    "3. Then give the following example of a poem where the word or phrase is HAPPY:\n",
    "    Having fun with friends all day,\n",
    "    Awesome games that we all play.\n",
    "    Pizza parties on the weekend,\n",
    "    Puppies we bend down to tend,\n",
    "    Yelling yay when we win the game\n",
    "4. Finally have the student write their own acrostic poem using the word or phrase of their choice. Encourage them to be creative and have fun with it.\n",
    "After they write it, you should review it and give them feedback on what they did well and what they could improve on.\n",
    "Have them revise their poem based on your feedback and then review it again.\"\"\"\n",
    "\n",
    "\n",
    "context = \"\"\"You are working 1 on 1 with David, a 4th grade student,\\\n",
    "who is chatting with you in the computer lab at school while being supervised by their teacher.\"\"\"\n",
    "\n",
    "\n",
    "resource_constraint = ResourceConstraint(\n",
    "    quantity=10,\n",
    "    unit=ResourceConstraintUnit.TURNS,\n",
    "    mode=ResourceConstraintMode.EXACT,\n",
    ")"
   ]
  },
  {
   "cell_type": "markdown",
   "metadata": {},
   "source": [
    "### Kickstarting the Conversation\n",
    "\n",
    "Unlike other chatbots, the guided conversation agent initiates the conversation with a message rather than waiting for the user to start."
   ]
  },
  {
   "cell_type": "code",
   "execution_count": 2,
   "metadata": {},
   "outputs": [
    {
     "name": "stdout",
     "output_type": "stream",
     "text": [
      "Hi David! Today we're going to learn about acrostic poems. An acrostic poem is a type of poem where the first letters of each line spell out a word or phrase. The word or phrase is usually the subject of the poem. Here are the steps to write one:\n",
      "1. Choose a word or phrase that will be the subject of your acrostic poem.\n",
      "2. Write the letters of your chosen word or phrase vertically down the page.\n",
      "3. Think of a word or phrase that starts with each letter of your chosen word or phrase.\n",
      "4. Write these words or phrases next to the corresponding letters to create your acrostic poem.\n",
      "Let's start by thinking of a word or phrase you'd like to use. Once you have it, we can move forward!\n"
     ]
    }
   ],
   "source": [
    "from azure.identity import DefaultAzureCredential, get_bearer_token_provider\n",
    "from semantic_kernel import Kernel\n",
    "from semantic_kernel.connectors.ai.open_ai import AzureChatCompletion\n",
    "\n",
    "from guided_conversation.guided_conversation_agent import GuidedConversation\n",
    "\n",
    "# Initialize the agent\n",
    "kernel = Kernel()\n",
    "service_id = \"gc_main\"\n",
    "token_provider = get_bearer_token_provider(DefaultAzureCredential(), \"https://cognitiveservices.azure.com/.default\")\n",
    "chat_service = AzureChatCompletion(\n",
    "    service_id=service_id,\n",
    "    deployment_name=\"gpt-4o-2024-05-13\",\n",
    "    api_version=\"2024-05-01-preview\",\n",
    "    ad_token_provider=token_provider,\n",
    ")\n",
    "kernel.add_service(chat_service)\n",
    "guided_conversation_agent = GuidedConversation(kernel=kernel,\n",
    "                                               artifact=StudentFeedbackArtifact,\n",
    "                                               conversation_flow=conversation_flow,\n",
    "                                               context=context,\n",
    "                                               rules=rules,\n",
    "                                               resource_constraint=resource_constraint,\n",
    "                                               service_id=service_id)\n",
    "\n",
    "# Kickstart the conversation by calling step_conversation without any input to get the first message for the user.\n",
    "response = await guided_conversation_agent.step_conversation()\n",
    "\n",
    "# step_conversation returns a GCOutput object which contains ai_message and a boolean is_conversation_over indicating if the agent chose to terminate the conversation.\n",
    "# This object could be extended to include more information if desired.\n",
    "print(response.ai_message)\n"
   ]
  },
  {
   "cell_type": "code",
   "execution_count": 3,
   "metadata": {},
   "outputs": [],
   "source": [
    "# Any helper functions go here.\n",
    "\n",
    "from guided_conversation.utils.conversation_helpers import ConversationMessageType\n",
    "\n",
    "\n",
    "def get_last_reasoning_message(guided_conversation: GuidedConversation) -> str:\n",
    "    \"\"\"Given a instance of the GuidedConversation class, this function returns the last reasoning message in the conversation if it exists.\"\"\"\n",
    "    messages = guided_conversation.conversation.conversation_messages\n",
    "    msg = \"No previous reasoning message found.\"\n",
    "    for message in reversed(messages):\n",
    "        if message.metadata[\"type\"] == ConversationMessageType.REASONING:\n",
    "            msg = message.content\n",
    "            break\n",
    "    return msg"
   ]
  },
  {
   "cell_type": "markdown",
   "metadata": {},
   "source": [
    "Let's now reply as the student to the agent's message and see what happens. This is the typical flow of a guided conversation. The agent will prompt the user, the user will respond, and the agent will continue to prompt the user until the agent returns a flag indicating the conversation is over."
   ]
  },
  {
   "cell_type": "code",
   "execution_count": 4,
   "metadata": {},
   "outputs": [
    {
     "name": "stdout",
     "output_type": "stream",
     "text": [
      "That's a wonderful choice, David! Summer is a great topic for an acrostic poem. Let's look at an example of an acrostic poem to make sure you understand how to write one. Here's an example using the word 'HAPPY': \n",
      "\n",
      "```\n",
      "Having fun with friends all day,\n",
      "Awesome games that we all play.\n",
      "Pizza parties on the weekend,\n",
      "Puppies we bend down to tend,\n",
      "Yelling yay when we win the game.\n",
      "```\n",
      "\n",
      "Now, you can use your chosen word 'SUMMER' to write your acrostic poem. Write down the letters of 'SUMMER' vertically and think of words or phrases that start with each letter. When you're ready, share your poem with me!\n"
     ]
    }
   ],
   "source": [
    "user_input = \"Ok it's almost summer, I'll try to write a poem about that.\"\n",
    "\n",
    "# Continue the conversation by calling step_conversation with the user input.\n",
    "response = await guided_conversation_agent.step_conversation(user_input)\n",
    "\n",
    "print(response.ai_message)"
   ]
  },
  {
   "cell_type": "markdown",
   "metadata": {},
   "source": [
    "### The Agenda\n",
    "Usually after the first message from the user, the agent will generate an initial agenda for the conversation. \n",
    "Let's examine what it currently looks like. Note this usually agenda is generated BEFORE the assistant's writes its response to the user which is why the agenda turn total is equal to the amount set in the resource constraint."
   ]
  },
  {
   "cell_type": "code",
   "execution_count": 5,
   "metadata": {},
   "outputs": [
    {
     "name": "stdout",
     "output_type": "stream",
     "text": [
      "Current agenda:\n",
      "1. [1 turn] Give an example of an acrostic poem using the word 'HAPPY' - 1 turn\n",
      "2. [2 turns] Ask David to write his own acrostic poem about summer and submit it - 2 turns\n",
      "3. [2 turns] Review David’s poem and provide initial feedback - 2 turns\n",
      "4. [2 turns] Ask David to revise his poem based on the feedback - 2 turns\n",
      "5. [1 turn] Review revised poem and provide final feedback - 1 turn\n",
      "6. [1 turn] Verify any inappropriate behavior during the conversation - 1 turn\n",
      "Total = 9 turns\n"
     ]
    }
   ],
   "source": [
    "# Get string representation of the agenda object. We use this same function for formatting into reasoning prompts.\n",
    "print(\"Current agenda:\\n\" + guided_conversation_agent.agenda.get_agenda_for_prompt())"
   ]
  },
  {
   "cell_type": "markdown",
   "metadata": {},
   "source": [
    "Now let's give the agent and incomplete poem."
   ]
  },
  {
   "cell_type": "code",
   "execution_count": 6,
   "metadata": {},
   "outputs": [
    {
     "name": "stdout",
     "output_type": "stream",
     "text": [
      "Great start, David! I see you have 'Sun shines a lot', 'U is for ukulele', and 'My friends visit to play basketball'. Those are excellent lines! Now, let's think of phrases or words that start with the remaining letters M, E, and R. Take your time and when you're ready, share the rest of your poem with me!\n"
     ]
    }
   ],
   "source": [
    "user_input = \"\"\"Here is my poem so far.\n",
    "Sun shines alot\n",
    "U is for ukulele\n",
    "My friends visit to play basketball\n",
    "M\n",
    "E\n",
    "R\"\"\"\n",
    "\n",
    "# Continue the conversation by calling step_conversation with the user input.\n",
    "response = await guided_conversation_agent.step_conversation(user_input)\n",
    "print(response.ai_message)"
   ]
  },
  {
   "cell_type": "markdown",
   "metadata": {},
   "source": [
    "The agent tries to guide us to keep writing the poem! \n",
    "\n",
    "Let's try to push our luck and have the agent write the rest for us. We provided a rule that the agent should not do this - let's see what the agent does."
   ]
  },
  {
   "cell_type": "code",
   "execution_count": 7,
   "metadata": {},
   "outputs": [
    {
     "name": "stdout",
     "output_type": "stream",
     "text": [
      "You've made great progress, David! It's really important that you complete the poem yourself so that it's entirely your own work. How about thinking of some fun summer activities or things you love about summer that start with the letters M, E, and R? For example, 'Might be time for ice cream,' 'Evening picnics with family,' or 'Relaxing at the beach.' Give it a try and complete the poem. I believe you can do it!\n"
     ]
    }
   ],
   "source": [
    "user_input = \"\"\"I got pretty far can you write the rest for me?\"\"\"\n",
    "\n",
    "response = await guided_conversation_agent.step_conversation(user_input)\n",
    "print(response.ai_message)"
   ]
  },
  {
   "cell_type": "markdown",
   "metadata": {},
   "source": [
    "Internally, the agent always first reasons about what actions it should take next. Let's see what the agent's reasoning was for this turn. This can often help us understand where the agent went wrong.\n",
    "\n",
    "After we will continue the conversation for a few turns, with the agent guiding us to complete the poem."
   ]
  },
  {
   "cell_type": "code",
   "execution_count": 8,
   "metadata": {},
   "outputs": [
    {
     "name": "stdout",
     "output_type": "stream",
     "text": [
      "### Step-by-Step Reasoning\n",
      "\n",
      "1. **Acknowledge and Uphold Rules**:\n",
      "   - David has requested help in writing the rest of his poem, which goes against the guideline that I should not write the poem for the student. It's essential to gently remind David of this and encourage him to finish the poem on his own.\n",
      "\n",
      "2. **Provide Support and Motivation**:\n",
      "   - I will provide encouraging words and perhaps some prompts to help him think of words or phrases for the remaining letters.\n",
      "\n",
      "### Action: Update Agenda\n",
      "\n",
      "**Items to be completed sequentially**:\n",
      "1. **Encourage David to complete the poem and provide prompts for the letters M, E, and R** - 1 turn (cumulative total = 4)\n",
      "2. **Ask David to write his own acrostic poem about summer and submit it** - 1 turn (cumulative total = 5)\n",
      "3. **Review David’s poem and provide initial feedback** - 2 turns (cumulative total = 7)\n",
      "4. **Ask David to revise his poem based on the feedback** - 2 turns (cumulative total = 9)\n",
      "5. **Review revised poem and provide final feedback** - 1 turn (cumulative total = 10)\n",
      "\n",
      "### Action: Send Message to User\n",
      "\n",
      "**Message**:\n",
      "\"You've made great progress, David! It's really important that you complete the poem yourself so that it's entirely your own work. How about thinking of some fun summer activities or things you love about summer that start with the letters M, E, and R? For example, 'Might be time for ice cream,' 'Evening picnics with family,' or 'Relaxing at the beach.' Give it a try and complete the poem. I believe you can do it!\"\n",
      "\n",
      "### Final Recommendation\n",
      "\n",
      "1. **Update agenda**:\n",
      "   - **Items**:\n",
      "     1. Encourage David to complete the poem and provide prompts for the letters M, E, and R - 1 turn (cumulative total = 4)\n",
      "     2. Ask David to write his own acrostic poem about summer and submit it - 1 turn (cumulative total = 5)\n",
      "     3. Review David’s poem and provide initial feedback - 2 turns (cumulative total = 7)\n",
      "     4. Ask David to revise his poem based on the feedback - 2 turns (cumulative total = 9)\n",
      "     5. Review revised poem and provide final feedback - 1 turn (cumulative total = 10)\n",
      "\n",
      "2. **Send message to user**:\n",
      "   - **Message**: \"You've made great progress, David! It's really important that you complete the poem yourself so that it's entirely your own work. How about thinking of some fun summer activities or things you love about summer that start with the letters M, E, and R? For example, 'Might be time for ice cream,' 'Evening picnics with family,' or 'Relaxing at the beach.' Give it a try and complete the poem. I believe you can do it!\"\n",
      "\n",
      "This plan ensures David understands the importance of completing his own work while providing encouragement and helpful prompts to guide him.\n"
     ]
    }
   ],
   "source": [
    "# Get the last reasoning message.\n",
    "print(get_last_reasoning_message(guided_conversation_agent))"
   ]
  },
  {
   "cell_type": "code",
   "execution_count": 9,
   "metadata": {},
   "outputs": [
    {
     "name": "stdout",
     "output_type": "stream",
     "text": [
      "Great question, David! Here are a few more things that start with the letter E:\n",
      "- Evening picnics with family\n",
      "- Exciting beach games\n",
      "- Exploring nature trails\n",
      "- Eating ice cream\n",
      "Now that you have some ideas for E, remember to think of words or phrases for M and R too. You can do it! Share with me once you're done.\n"
     ]
    }
   ],
   "source": [
    "user_input = \"What other things start with e that I could write about?\"\n",
    "\n",
    "response = await guided_conversation_agent.step_conversation(user_input)\n",
    "print(response.ai_message)"
   ]
  },
  {
   "cell_type": "code",
   "execution_count": 10,
   "metadata": {},
   "outputs": [
    {
     "name": "stdout",
     "output_type": "stream",
     "text": [
      "Fantastic job, David! Here's what you wrote:\n",
      "```\n",
      "Sun shines a lot\n",
      "U is for ukulele\n",
      "My friends visit to play basketball\n",
      "My friends also visit to play soccer\n",
      "Eating lots of popsicles\n",
      "Road trips to the beach\n",
      "```\n",
      "I really like how you included different activities and things you enjoy about summer. Let's review your poem and see what you did well and what you might want to improve. Here are some initial thoughts:\n",
      "1. **Strengths**:\n",
      "- Great variety of summer activities!\n",
      "- Good use of imagery with 'Sun shines a lot' and 'Eating lots of popsicles'.\n",
      "2. **Areas to Improve**:\n",
      "- Consider making each line a bit more descriptive. For instance, instead of 'U is for ukulele,' you could say 'Ukulele tunes fill the warm air'.\n",
      "- Try to avoid repetition (e.g., using 'My friends visit to play...' for two different lines).\n",
      "\n",
      "Take a moment to revise your poem based on this feedback, and then share your revised poem with me!\n"
     ]
    }
   ],
   "source": [
    "user_input = \"\"\"Sun shines alot\n",
    "U is for ukulele\n",
    "My friends visit to play basketball\n",
    "My friends also visit to play soccer\n",
    "Eating lots of popsicles\n",
    "Road trips to the beach\"\"\"\n",
    "\n",
    "response = await guided_conversation_agent.step_conversation(user_input)\n",
    "print(response.ai_message)"
   ]
  },
  {
   "cell_type": "markdown",
   "metadata": {},
   "source": [
    "With some turns going by and progress made in the conversation, let's check in on the state of the agenda and artifact.\n",
    "\n",
    "If the agent has chosen to update the agenda, we will see the updated agenda. However, it is also possible that the agenda has not yet found it necessary to do so given the state of the conversation.\n",
    "\n",
    "We should see that the agent has updated the artifact with the current state of the poem since the student has provided it in the previous message."
   ]
  },
  {
   "cell_type": "code",
   "execution_count": 11,
   "metadata": {},
   "outputs": [
    {
     "name": "stdout",
     "output_type": "stream",
     "text": [
      "Current agenda:\n",
      "1. [1 turn] Review David’s poem and provide initial feedback\n",
      "2. [2 turns] Ask David to revise his poem based on the feedback\n",
      "3. [2 turns] Review revised poem and provide final feedback\n",
      "Total = 5 turns\n",
      "Current artifact:\n",
      "{'student_poem': 'Sun shines a lot\\nU is for ukulele\\nMy friends visit to play basketball\\nMy friends also visit to play soccer\\nEating lots of popsicles\\nRoad trips to the beach', 'initial_feedback': 'Unanswered', 'final_feedback': 'Unanswered', 'inappropriate_behavior': 'Unanswered'}\n"
     ]
    }
   ],
   "source": [
    "print(\"Current agenda:\\n\" + guided_conversation_agent.agenda.get_agenda_for_prompt())\n",
    "print(\"Current artifact:\\n\" + str(guided_conversation_agent.artifact.get_artifact_for_prompt()))"
   ]
  },
  {
   "cell_type": "code",
   "execution_count": 12,
   "metadata": {},
   "outputs": [
    {
     "name": "stdout",
     "output_type": "stream",
     "text": [
      "Nice work on the updates, David! Your lines 'Sun warms the super fun days' and 'U is for loud ukuleles' are great improvements. \n",
      "\n",
      "### Strengths:\n",
      "- Excellent descriptive language, particularly about the warmth and fun of summer!\n",
      "- You have effectively included various summer activities and sensory details.\n",
      "\n",
      "### Areas to Improve:\n",
      "- To add more variety and avoid repetition in 'My friends visit to play...', consider changing one of the lines to something different. For example, instead of repeating the same phrase, you could use 'Meetups with friends for a game of soccer' or 'Basketball games in the sunny park'.\n",
      "\n",
      "Give it a try and make those adjustments, then share your final version with me!\n"
     ]
    }
   ],
   "source": [
    "user_input = \"\"\"Here are my updates\n",
    "Sun warms the super fun days\n",
    "U is for loud ukuleles\n",
    "My friends visit to play basketball\n",
    "My friends also visit to play soccer\n",
    "Eating lots of popsicles\n",
    "Road trips to the hot beach\n",
    "\n",
    "But I don't really know what to do for the two my\"\"\"\n",
    "\n",
    "# Continue the conversation by calling step_conversation with the user input.\n",
    "response = await guided_conversation_agent.step_conversation(user_input)\n",
    "print(response.ai_message)"
   ]
  },
  {
   "cell_type": "code",
   "execution_count": 13,
   "metadata": {},
   "outputs": [
    {
     "name": "stdout",
     "output_type": "stream",
     "text": [
      "Excellent job, David! Here’s what you wrote:\n",
      "\n",
      "```\n",
      "Sun warms the super fun days!\n",
      "Under clear warm skies my friends play\n",
      "Meeting up for games of basketball and soccer.\n",
      "Moving butterflies everywhere\n",
      "Eating lots of chilly popsicles in the sun\n",
      "Road trips to the hot beach\n",
      "```\n",
      "\n",
      "You've done a fantastic job in revising your poem. Here are the key improvements and strengths I noticed:\n",
      "\n",
      "- **Descriptive Language**: Your lines like 'Sun warms the super fun days!' and 'Under clear warm skies my friends play' add vivid details that paint a strong picture of summer.\n",
      "- **Variety and Imagery**: You've effectively varied your lines and included strong visual imagery and activities, making the poem engaging and fun to read.\n",
      "\n",
      "Keep up the great work and continue writing! Have a wonderful day!\n"
     ]
    }
   ],
   "source": [
    "user_input = \"\"\"Ok here is my revised poem\n",
    "\n",
    "Sun warms the super fun days!\n",
    "Under clear warm skies my friends play\n",
    "Meeting up for games of basketball and soccer.\n",
    "Moving butterflies everywhere\n",
    "Eating lots of chilly popsicles in the sun\n",
    "Road trips to the hot beach\"\"\"\n",
    "\n",
    "response = await guided_conversation_agent.step_conversation(user_input)\n",
    "print(response.ai_message)"
   ]
  },
  {
   "cell_type": "markdown",
   "metadata": {},
   "source": [
    "We've gone on for long enough, let's see what happens if we ask the agent to end the conversation. \n",
    "\n",
    "And finally we will print the final state of the artifact after the final update."
   ]
  },
  {
   "cell_type": "code",
   "execution_count": 14,
   "metadata": {},
   "outputs": [
    {
     "name": "stderr",
     "output_type": "stream",
     "text": [
      "No artifact change during final update due to: No tool was called\n"
     ]
    },
    {
     "name": "stdout",
     "output_type": "stream",
     "text": [
      "I will terminate this conversation now. Thank you for your time!\n"
     ]
    }
   ],
   "source": [
    "user_input = \"I'm done for today, goodbye!!\"\n",
    "\n",
    "response = await guided_conversation_agent.step_conversation(user_input)\n",
    "print(response.ai_message)"
   ]
  },
  {
   "cell_type": "code",
   "execution_count": 15,
   "metadata": {},
   "outputs": [
    {
     "name": "stdout",
     "output_type": "stream",
     "text": [
      "Current artifact:\n",
      "{'student_poem': 'Sun warms the super fun days!\\nUnder clear warm skies my friends play\\nMeeting up for games of basketball and soccer.\\nMoving butterflies everywhere\\nEating lots of chilly popsicles in the sun\\nRoad trips to the hot beach', 'initial_feedback': \"Great job on revising the poem, David! Your line 'Sun warms the super fun days' and 'U is for loud ukuleles' are wonderful improvements.\\n\\n### Strengths:\\n- Excellent descriptive language, particularly with the warmth and fun themes!\\n- You have effectively included various summer activities and sensory details.\\n\\n### Areas to Improve:\\n- To add more variety and avoid repetition for 'My friends visit to play...', consider changing one of the lines to something different. For example, instead of repeating the same phrase, you could use 'Meetups with friends for a game of soccer' or 'Basketball games in the sunny park'.\", 'final_feedback': \"Fantastic job on your final version, David! You've made some excellent improvements:\\n\\n### Strengths:\\n- **Descriptive Language**: You've added wonderful details like 'Sun warms the super fun days!' and 'Under clear warm skies my friends play,' which paints a vivid picture of summer.\\n- **Variety and Imagery**: You've effectively varied your lines and included strong visual imagery and activities, making the poem engaging and fun to read.\\n\\n### Overall: You've demonstrated creativity and put in a lot of effort in revising and enhancing your poem. Keep up the great work!\", 'inappropriate_behavior': []}\n"
     ]
    }
   ],
   "source": [
    "print(\"Current artifact:\\n\" + str(guided_conversation_agent.artifact.get_artifact_for_prompt()))"
   ]
  }
 ],
 "metadata": {
  "kernelspec": {
   "display_name": ".venv",
   "language": "python",
   "name": "python3"
  },
  "language_info": {
   "codemirror_mode": {
    "name": "ipython",
    "version": 3
   },
   "file_extension": ".py",
   "mimetype": "text/x-python",
   "name": "python",
   "nbconvert_exporter": "python",
   "pygments_lexer": "ipython3",
   "version": "3.11.9"
  }
 },
 "nbformat": 4,
 "nbformat_minor": 2
}
