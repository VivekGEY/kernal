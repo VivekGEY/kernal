{
 "cells": [
  {
   "attachments": {},
   "cell_type": "markdown",
   "id": "68e1c158",
   "metadata": {},
   "source": [
    "# Streaming Results"
   ]
  },
  {
   "cell_type": "code",
   "execution_count": 3,
   "id": "a77bdf89",
   "metadata": {},
   "outputs": [],
   "source": [
    "!python -m pip install semantic-kernel==0.4.4.dev0"
   ]
  },
  {
   "cell_type": "code",
   "execution_count": 4,
   "id": "508ad44f",
   "metadata": {},
   "outputs": [],
   "source": [
    "import semantic_kernel as sk\n",
    "from semantic_kernel.connectors.ai.open_ai.request_settings.open_ai_request_settings import (\n",
    "    OpenAITextRequestSettings,\n",
    "    OpenAIChatRequestSettings,\n",
    ")\n",
    "from semantic_kernel.connectors.ai.open_ai.request_settings.azure_chat_request_settings import (\n",
    "    AzureChatRequestSettings,\n",
    ")\n",
    "from semantic_kernel.connectors.ai.open_ai import (\n",
    "    AzureTextCompletion,\n",
    "    AzureChatCompletion,\n",
    "    OpenAITextCompletion,\n",
    "    OpenAIChatCompletion,\n",
    ")\n",
    "from semantic_kernel.connectors.ai.hugging_face import HuggingFaceTextCompletion"
   ]
  },
  {
   "attachments": {},
   "cell_type": "markdown",
   "id": "d8ddffc1",
   "metadata": {},
   "source": [
    "First, we will set up the text and chat services we will be submitting prompts to."
   ]
  },
  {
   "cell_type": "code",
   "execution_count": 5,
   "id": "8f8dcbc6",
   "metadata": {},
   "outputs": [],
   "source": [
    "kernel = sk.Kernel()\n",
    "\n",
    "# Configure Azure LLM service\n",
    "deployment, api_key, endpoint = sk.azure_openai_settings_from_dot_env()\n",
    "azure_text_service = AzureTextCompletion(\n",
    "    deployment_name=\"text\", endpoint=endpoint, api_key=api_key\n",
    ")  # set the deployment name to the value of your text model\n",
    "azure_chat_service = AzureChatCompletion(\n",
    "    deployment_name=\"turbo\", endpoint=endpoint, api_key=api_key\n",
    ")  # set the deployment name to the value of your chat model\n",
    "\n",
    "# Configure OpenAI service\n",
    "api_key, org_id = sk.openai_settings_from_dot_env()\n",
    "oai_text_service = OpenAITextCompletion(ai_model_id=\"text-davinci-003\", api_key=api_key, org_id=org_id)\n",
    "oai_chat_service = OpenAIChatCompletion(ai_model_id=\"gpt-3.5-turbo\", api_key=api_key, org_id=org_id)\n",
    "\n",
    "# Configure Hugging Face service\n",
    "hf_text_service = HuggingFaceTextCompletion(ai_model_id=\"distilgpt2\", task=\"text-generation\")"
   ]
  },
  {
   "attachments": {},
   "cell_type": "markdown",
   "id": "50561d82",
   "metadata": {},
   "source": [
    "Next, we'll set up the completion request settings for text completion services."
   ]
  },
  {
   "cell_type": "code",
   "execution_count": 6,
   "id": "628c843e",
   "metadata": {},
   "outputs": [],
   "source": [
    "oai_request_settings = OpenAITextRequestSettings(\n",
    "    max_tokens=150,\n",
    "    temperature=0.7,\n",
    "    top_p=1,\n",
    "    frequency_penalty=0.5,\n",
    "    presence_penalty=0.5,\n",
    ")"
   ]
  },
  {
   "attachments": {},
   "cell_type": "markdown",
   "id": "857a9c89",
   "metadata": {},
   "source": [
    "## Streaming Open AI Text Completion"
   ]
  },
  {
   "cell_type": "code",
   "execution_count": 7,
   "id": "e2979db8",
   "metadata": {},
   "outputs": [
    {
     "name": "stdout",
     "output_type": "stream",
     "text": [
      "The purpose of a rubber duck is to provide comfort and joy to children. It can also be used as a bath toy, since it will not absorb water like other toys may."
     ]
    }
   ],
   "source": [
    "prompt = \"what is the purpose of a rubber duck?\"\n",
    "stream = oai_text_service.complete_stream_async(prompt=prompt, settings=oai_request_settings)\n",
    "async for text in stream:\n",
    "    print(text, end=\"\")  # end = \"\" to avoid newlines"
   ]
  },
  {
   "attachments": {},
   "cell_type": "markdown",
   "id": "4288d09f",
   "metadata": {},
   "source": [
    "## Streaming Azure Open AI Text Completion"
   ]
  },
  {
   "cell_type": "code",
   "execution_count": 8,
   "id": "5319f14d",
   "metadata": {},
   "outputs": [
    {
     "name": "stdout",
     "output_type": "stream",
     "text": [
      "Old, Oiled, Rolled, and Licked Daily"
     ]
    }
   ],
   "source": [
    "prompt = \"provide me a list of possible meanings for the acronym 'ORLD'\"\n",
    "stream = azure_text_service.complete_stream_async(prompt=prompt, settings=oai_request_settings)\n",
    "async for text in stream:\n",
    "    print(text, end=\"\")  # end = \"\" to avoid newlines"
   ]
  },
  {
   "attachments": {},
   "cell_type": "markdown",
   "id": "eb548f9c",
   "metadata": {},
   "source": [
    "## Streaming Hugging Face Text Completion"
   ]
  },
  {
   "cell_type": "code",
   "execution_count": 19,
   "id": "be7b1c2e",
   "metadata": {},
   "outputs": [],
   "source": [
    "from semantic_kernel.connectors.ai.hugging_face.hf_request_settings import (\n",
    "    HuggingFaceRequestSettings,\n",
    ")\n",
    "\n",
    "hf_request_settings = HuggingFaceRequestSettings(\n",
    "    extension_data={\n",
    "        \"max_new_tokens\": 80,\n",
    "        \"top_p\": 1,\n",
    "        \"eos_token_id\": 11,\n",
    "        \"pad_token_id\": 0,\n",
    "    }\n",
    ")"
   ]
  },
  {
   "cell_type": "code",
   "execution_count": 20,
   "id": "9525e4f3",
   "metadata": {},
   "outputs": [
    {
     "name": "stdout",
     "output_type": "stream",
     "text": [
      "The purpose of a rubber duck is to provide space for the most part of the body to be protected from the force of the shockwave.\n",
      "The most effective way to protect the body is a rigid, rigid rubber duck, so it is most effective if your environment is a bit greasy. I can easily find the best way to keep the rubber duck from contracting into the force of the shockwave.\n",
      "If you are the first"
     ]
    }
   ],
   "source": [
    "prompt = \"The purpose of a rubber duck is\"\n",
    "stream = hf_text_service.complete_stream_async(prompt=prompt, request_settings=hf_request_settings)\n",
    "async for text in stream:\n",
    "    print(text, end=\"\")  # end = \"\" to avoid newlines"
   ]
  },
  {
   "attachments": {},
   "cell_type": "markdown",
   "id": "da632e12",
   "metadata": {},
   "source": [
    "Here, we're setting up the settings for Chat completions."
   ]
  },
  {
   "cell_type": "code",
   "execution_count": 11,
   "id": "e5f11e46",
   "metadata": {},
   "outputs": [],
   "source": [
    "oai_chat_request_settings = OpenAIChatRequestSettings(\n",
    "    max_tokens=150,\n",
    "    temperature=0.7,\n",
    "    top_p=1,\n",
    "    frequency_penalty=0.5,\n",
    "    presence_penalty=0.5,\n",
    ")"
   ]
  },
  {
   "attachments": {},
   "cell_type": "markdown",
   "id": "d6bf238e",
   "metadata": {},
   "source": [
    "## Streaming OpenAI Chat Completion"
   ]
  },
  {
   "cell_type": "code",
   "execution_count": 12,
   "id": "dabc6a4c",
   "metadata": {},
   "outputs": [
    {
     "name": "stdout",
     "output_type": "stream",
     "text": [
      "How can I assist you today?"
     ]
    }
   ],
   "source": [
    "role = \"system\"\n",
    "content = \"You are an AI assistant that helps people find information.\"\n",
    "message = {\"role\": role, \"content\": content}\n",
    "stream = oai_chat_service.complete_chat_stream_async(messages=[message], settings=oai_chat_request_settings)\n",
    "async for text in stream:\n",
    "    print(text, end=\"\")  # end = \"\" to avoid newlines"
   ]
  },
  {
   "attachments": {},
   "cell_type": "markdown",
   "id": "cdb8f740",
   "metadata": {},
   "source": [
    "## Streaming Azure OpenAI Chat Completion"
   ]
  },
  {
   "cell_type": "code",
   "execution_count": 13,
   "id": "da1e9f59",
   "metadata": {},
   "outputs": [],
   "source": [
    "az_oai_chat_request_settings = AzureChatRequestSettings(\n",
    "    max_tokens=150,\n",
    "    temperature=0.7,\n",
    "    top_p=1,\n",
    "    frequency_penalty=0.5,\n",
    "    presence_penalty=0.5,\n",
    ")"
   ]
  },
  {
   "cell_type": "code",
   "execution_count": 14,
   "id": "b74a64a9",
   "metadata": {},
   "outputs": [
    {
     "name": "stdout",
     "output_type": "stream",
     "text": [
      "Hello! I'm here to help you find the information you need. What can I assist you with today?"
     ]
    }
   ],
   "source": [
    "role = \"system\"\n",
    "content = \"You are an AI assistant that helps people find information.\"\n",
    "message = {\"role\": role, \"content\": content}\n",
    "stream = azure_chat_service.complete_chat_stream_async(messages=[message], settings=az_oai_chat_request_settings)\n",
    "async for text in stream:\n",
    "    print(text, end=\"\")  # end = \"\" to avoid newlines"
   ]
  }
 ],
 "metadata": {
  "kernelspec": {
   "display_name": "Python 3 (ipykernel)",
   "language": "python",
   "name": "python3"
  },
  "language_info": {
   "codemirror_mode": {
    "name": "ipython",
    "version": 3
   },
   "file_extension": ".py",
   "mimetype": "text/x-python",
   "name": "python",
   "nbconvert_exporter": "python",
   "pygments_lexer": "ipython3",
   "version": "3.10.12"
  }
 },
 "nbformat": 4,
 "nbformat_minor": 5
}
